{
 "cells": [
  {
   "cell_type": "code",
   "execution_count": 1,
   "id": "475ece0f",
   "metadata": {},
   "outputs": [],
   "source": [
    "a=10 #here no error"
   ]
  },
  {
   "cell_type": "markdown",
   "id": "828f875d",
   "metadata": {},
   "source": [
    "# EXCEPTION HANDLING"
   ]
  },
  {
   "cell_type": "code",
   "execution_count": 2,
   "id": "dc8040c0",
   "metadata": {},
   "outputs": [
    {
     "ename": "NameError",
     "evalue": "name 'b' is not defined",
     "output_type": "error",
     "traceback": [
      "\u001b[1;31m---------------------------------------------------------------------------\u001b[0m",
      "\u001b[1;31mNameError\u001b[0m                                 Traceback (most recent call last)",
      "Input \u001b[1;32mIn [2]\u001b[0m, in \u001b[0;36m<cell line: 1>\u001b[1;34m()\u001b[0m\n\u001b[1;32m----> 1\u001b[0m a\u001b[38;5;241m=\u001b[39m\u001b[43mb\u001b[49m\n",
      "\u001b[1;31mNameError\u001b[0m: name 'b' is not defined"
     ]
    }
   ],
   "source": [
    "a=b  #error exist but we dont want error so we use exception handing"
   ]
  },
  {
   "cell_type": "code",
   "execution_count": 3,
   "id": "60a3492f",
   "metadata": {},
   "outputs": [],
   "source": [
    "#we use two topics try and except in exception handling\n",
    "#inside try block we will write the complete code where the exception occur\n",
    "#inside except we will write the problem that error has occured\n",
    "try:\n",
    "    pass #code block where exception will occur\n",
    "except:\n",
    "    print(\"some problem may have occured\")\n",
    "    "
   ]
  },
  {
   "cell_type": "code",
   "execution_count": 4,
   "id": "be4c3fba",
   "metadata": {},
   "outputs": [
    {
     "name": "stdout",
     "output_type": "stream",
     "text": [
      "some problem may have occured\n"
     ]
    }
   ],
   "source": [
    "try:\n",
    "    a=b\n",
    "except:\n",
    "     print(\"some problem may have occured\")"
   ]
  },
  {
   "cell_type": "code",
   "execution_count": 5,
   "id": "da1f63cb",
   "metadata": {},
   "outputs": [
    {
     "name": "stdout",
     "output_type": "stream",
     "text": [
      "name 'b' is not defined\n"
     ]
    }
   ],
   "source": [
    "try:\n",
    "    a=b\n",
    "except Exception as ex:\n",
    "    print(ex)\n",
    "     "
   ]
  },
  {
   "cell_type": "code",
   "execution_count": 7,
   "id": "e7e6431e",
   "metadata": {},
   "outputs": [
    {
     "name": "stdout",
     "output_type": "stream",
     "text": [
      "the user doesnot defined variable\n"
     ]
    }
   ],
   "source": [
    "#name error getting derived from exception\n",
    "#i can create own customized exception name\n",
    "try:\n",
    "    a=b\n",
    "except NameError as ex1:\n",
    "    print(\"the user doesnot defined variable\")\n",
    "except Exception as ex:\n",
    "    print(ex)"
   ]
  },
  {
   "cell_type": "code",
   "execution_count": 7,
   "id": "4e6dfa3a",
   "metadata": {},
   "outputs": [
    {
     "name": "stdout",
     "output_type": "stream",
     "text": [
      "unsupported operand type(s) for +: 'int' and 'str'\n"
     ]
    }
   ],
   "source": [
    "try:\n",
    "    a=1\n",
    "    b=\"s\"\n",
    "    c=a+b\n",
    "except NameError as ex1:\n",
    "    print(\"the user doesnot defined variable\")\n",
    "except Exception as ex:\n",
    "    print(ex)"
   ]
  },
  {
   "cell_type": "code",
   "execution_count": 1,
   "id": "62728872",
   "metadata": {},
   "outputs": [
    {
     "ename": "TypeError",
     "evalue": "unsupported operand type(s) for +: 'int' and 'str'",
     "output_type": "error",
     "traceback": [
      "\u001b[1;31m---------------------------------------------------------------------------\u001b[0m",
      "\u001b[1;31mTypeError\u001b[0m                                 Traceback (most recent call last)",
      "Input \u001b[1;32mIn [1]\u001b[0m, in \u001b[0;36m<cell line: 3>\u001b[1;34m()\u001b[0m\n\u001b[0;32m      1\u001b[0m a\u001b[38;5;241m=\u001b[39m\u001b[38;5;241m1\u001b[39m\n\u001b[0;32m      2\u001b[0m b\u001b[38;5;241m=\u001b[39m\u001b[38;5;124m\"\u001b[39m\u001b[38;5;124mh\u001b[39m\u001b[38;5;124m\"\u001b[39m\n\u001b[1;32m----> 3\u001b[0m c\u001b[38;5;241m=\u001b[39m\u001b[43ma\u001b[49m\u001b[38;5;241;43m+\u001b[39;49m\u001b[43mb\u001b[49m\n\u001b[0;32m      4\u001b[0m \u001b[38;5;28mprint\u001b[39m(c)\n",
      "\u001b[1;31mTypeError\u001b[0m: unsupported operand type(s) for +: 'int' and 'str'"
     ]
    }
   ],
   "source": [
    "a=1\n",
    "b=\"h\"\n",
    "c=a+b\n",
    "print(c)"
   ]
  },
  {
   "cell_type": "code",
   "execution_count": 1,
   "id": "3562a461",
   "metadata": {},
   "outputs": [
    {
     "name": "stdout",
     "output_type": "stream",
     "text": [
      "unsupported operand type(s) for +: 'int' and 'str'\n"
     ]
    }
   ],
   "source": [
    "try:\n",
    "    a=1\n",
    "    b=\"s\"\n",
    "    c=a+b\n",
    "except NameError as exx:\n",
    "    print(\"user didnot give the same data type\")\n",
    "except Exception as ex:\n",
    "    print(ex)"
   ]
  },
  {
   "cell_type": "code",
   "execution_count": 11,
   "id": "b8a09f72",
   "metadata": {},
   "outputs": [
    {
     "name": "stdout",
     "output_type": "stream",
     "text": [
      "try to make data typesimilar\n"
     ]
    }
   ],
   "source": [
    "try:\n",
    "    a=1\n",
    "    b=\"s\"\n",
    "    c=a+b\n",
    "except NameError as ex1:\n",
    "    print(\"the user doesnot defined variable\")\n",
    "except TypeError:\n",
    "    print(\"try to make data typesimilar\")\n",
    "except Exception as ex:\n",
    "    print(ex)"
   ]
  },
  {
   "cell_type": "code",
   "execution_count": 19,
   "id": "ac58fbab",
   "metadata": {},
   "outputs": [
    {
     "name": "stdout",
     "output_type": "stream",
     "text": [
      "enter the numeber 1 12\n",
      "eneter the number 2 0\n"
     ]
    },
    {
     "ename": "ZeroDivisionError",
     "evalue": "division by zero",
     "output_type": "error",
     "traceback": [
      "\u001b[1;31m---------------------------------------------------------------------------\u001b[0m",
      "\u001b[1;31mZeroDivisionError\u001b[0m                         Traceback (most recent call last)",
      "Input \u001b[1;32mIn [19]\u001b[0m, in \u001b[0;36m<cell line: 3>\u001b[1;34m()\u001b[0m\n\u001b[0;32m      1\u001b[0m a\u001b[38;5;241m=\u001b[39m\u001b[38;5;28mint\u001b[39m(\u001b[38;5;28minput\u001b[39m(\u001b[38;5;124m\"\u001b[39m\u001b[38;5;124menter the numeber 1 \u001b[39m\u001b[38;5;124m\"\u001b[39m))\n\u001b[0;32m      2\u001b[0m b\u001b[38;5;241m=\u001b[39m\u001b[38;5;28mint\u001b[39m(\u001b[38;5;28minput\u001b[39m(\u001b[38;5;124m\"\u001b[39m\u001b[38;5;124meneter the number 2 \u001b[39m\u001b[38;5;124m\"\u001b[39m))\n\u001b[1;32m----> 3\u001b[0m c\u001b[38;5;241m=\u001b[39m\u001b[43ma\u001b[49m\u001b[38;5;241;43m/\u001b[39;49m\u001b[43mb\u001b[49m\n\u001b[0;32m      4\u001b[0m d\u001b[38;5;241m=\u001b[39ma\u001b[38;5;241m*\u001b[39mb\n\u001b[0;32m      5\u001b[0m e\u001b[38;5;241m=\u001b[39ma\u001b[38;5;241m+\u001b[39mb\n",
      "\u001b[1;31mZeroDivisionError\u001b[0m: division by zero"
     ]
    }
   ],
   "source": [
    "a=int(input(\"enter the numeber 1 \"))\n",
    "b=int(input(\"eneter the number 2 \"))\n",
    "c=a/b\n",
    "d=a*b\n",
    "e=a+b\n",
    "print(c)\n",
    "print(d)\n",
    "print(e)"
   ]
  },
  {
   "cell_type": "code",
   "execution_count": 2,
   "id": "00d34a37",
   "metadata": {},
   "outputs": [
    {
     "name": "stdout",
     "output_type": "stream",
     "text": [
      "enter the numeber 1 3\n",
      "eneter the number 2 0\n",
      "division by zero\n"
     ]
    }
   ],
   "source": [
    "try:\n",
    "    a=int(input(\"enter the numeber 1 \"))\n",
    "    b=int(input(\"eneter the number 2 \"))\n",
    "    c=a/b\n",
    "    d=a*b\n",
    "    e=a+b\n",
    "    print(c)\n",
    "    print(d)\n",
    "    print(e)\n",
    "    \n",
    "except NameError as ex1:\n",
    "    print(\"the user doesnot defined variable\")\n",
    "except TypeError:\n",
    "    print(\"try to make data typesimilar\")\n",
    "except Exception as ex:\n",
    "    print(ex)"
   ]
  },
  {
   "cell_type": "code",
   "execution_count": 1,
   "id": "f1b2150b",
   "metadata": {},
   "outputs": [
    {
     "name": "stdout",
     "output_type": "stream",
     "text": [
      "enter the numeber 1 12\n",
      "eneter the number 2 0\n",
      "0\n",
      "12\n",
      "enter the number greater than zero\n"
     ]
    }
   ],
   "source": [
    "try:\n",
    "    a=int(input(\"enter the numeber 1 \"))\n",
    "    b=int(input(\"eneter the number 2 \"))\n",
    "    d=a*b\n",
    "    e=a+b\n",
    "    \n",
    "    \n",
    "    print(d)\n",
    "    print(e)\n",
    "    c=a/b\n",
    "    print(c) \n",
    "except NameError as ex1:\n",
    "    print(\"the user doesnot defined variable\")\n",
    "except TypeError:\n",
    "    print(\"try to make data typesimilar\")\n",
    "except ZeroDivisionError:\n",
    "    print(\"enter the number greater than zero\")\n",
    "except Exception as ex:\n",
    "    print(ex)"
   ]
  },
  {
   "cell_type": "code",
   "execution_count": null,
   "id": "d206d454",
   "metadata": {},
   "outputs": [],
   "source": [
    "## there is an else block\n",
    "try:\n",
    "    a=int(input(\"enter the numeber 1 \"))\n",
    "    b=int(input(\"eneter the number 2 \"))\n",
    "    c=a/b\n",
    "    \n",
    "except NameError as ex1:\n",
    "    print(\"the user doesnot defined variable\")\n",
    "except TypeError:\n",
    "    print(\"try to make data typesimilar\")\n",
    "except ZeroDivisionError:\n",
    "    print(\"enter the number greater than zero\")\n",
    "except Exception as ex:\n",
    "    print(ex)\n",
    "else:\n",
    "    d=a*b\n",
    "    e=a+b\n",
    "    print(c)\n",
    "    print(d)\n",
    "    print(e)"
   ]
  },
  {
   "cell_type": "code",
   "execution_count": 2,
   "id": "35091b3a",
   "metadata": {},
   "outputs": [
    {
     "name": "stdout",
     "output_type": "stream",
     "text": [
      "enter the numeber 1 12\n",
      "eneter the number 2 0\n",
      "enter the number greater than zero\n",
      "12\n",
      "0\n"
     ]
    }
   ],
   "source": [
    "#try else finally =finally block will always get executed, if exception is caught finally is used to close the block\n",
    "try:\n",
    "    a=int(input(\"enter the numeber 1 \"))\n",
    "    b=int(input(\"eneter the number 2 \"))\n",
    "    d=a+b\n",
    "    e=a*b\n",
    "    f=a/b\n",
    "except NameError as ex1:\n",
    "    print(\"the user doesnot defined variable\")\n",
    "except TypeError:\n",
    "    print(\"try to make data typesimilar\")\n",
    "except ZeroDivisionError:\n",
    "    print(\"enter the number greater than zero\")\n",
    "except Exception as ex:\n",
    "    print(ex)\n",
    "else:\n",
    "    print(f)\n",
    "finally:\n",
    "    d=a+b\n",
    "    e=a*b\n",
    "    print(d)\n",
    "    print(e)\n",
    "    #print(\"the execution is done\")\n"
   ]
  },
  {
   "cell_type": "markdown",
   "id": "368af373",
   "metadata": {},
   "source": [
    "# CUSTOM EXCEPTION"
   ]
  },
  {
   "cell_type": "code",
   "execution_count": 29,
   "id": "54360a11",
   "metadata": {},
   "outputs": [],
   "source": [
    "class Error(Exception):\n",
    "    pass\n",
    "class dobException(Error):\n",
    "    pass\n"
   ]
  },
  {
   "cell_type": "code",
   "execution_count": 30,
   "id": "d51a5ac5",
   "metadata": {},
   "outputs": [
    {
     "name": "stdout",
     "output_type": "stream",
     "text": [
      "enter the year of birth2018\n",
      "the year age is not valid\n"
     ]
    }
   ],
   "source": [
    "year=int(input(\"enter the year of birth\"))\n",
    "age=2022-year\n",
    "try:\n",
    "    if age<=30 and age>20:\n",
    "        print(\"The age is valid.you can apply for the exams\")\n",
    "        \n",
    "    else:\n",
    "        raise dobException\n",
    "except dobException:\n",
    "        print(\"the year age is not valid\")\n",
    "    "
   ]
  },
  {
   "cell_type": "code",
   "execution_count": null,
   "id": "b137bc6f",
   "metadata": {},
   "outputs": [],
   "source": []
  },
  {
   "cell_type": "code",
   "execution_count": null,
   "id": "0d405310",
   "metadata": {},
   "outputs": [],
   "source": []
  },
  {
   "cell_type": "code",
   "execution_count": null,
   "id": "15789b10",
   "metadata": {},
   "outputs": [],
   "source": []
  },
  {
   "cell_type": "code",
   "execution_count": null,
   "id": "4e4680ba",
   "metadata": {},
   "outputs": [],
   "source": []
  }
 ],
 "metadata": {
  "kernelspec": {
   "display_name": "Python 3 (ipykernel)",
   "language": "python",
   "name": "python3"
  },
  "language_info": {
   "codemirror_mode": {
    "name": "ipython",
    "version": 3
   },
   "file_extension": ".py",
   "mimetype": "text/x-python",
   "name": "python",
   "nbconvert_exporter": "python",
   "pygments_lexer": "ipython3",
   "version": "3.9.12"
  }
 },
 "nbformat": 4,
 "nbformat_minor": 5
}
