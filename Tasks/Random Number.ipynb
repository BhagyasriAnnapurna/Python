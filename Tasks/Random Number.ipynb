{
 "cells": [
  {
   "cell_type": "code",
   "execution_count": 16,
   "id": "19d50be1",
   "metadata": {},
   "outputs": [],
   "source": [
    "import random\n",
    "import time "
   ]
  },
  {
   "cell_type": "code",
   "execution_count": 17,
   "id": "bed90e88",
   "metadata": {},
   "outputs": [],
   "source": [
    "def roll():\n",
    "    for n in range(0,6):\n",
    "        i=random.randint(1,7)\n",
    "        j=random.randint(1,7)\n",
    "        k=random.randint(1,7)\n",
    "        print(\"i=\",i,\"j=\",j,\"k=\",k)\n",
    "        if(i==j==k):\n",
    "            print(\"Winner\")\n",
    "        else:\n",
    "            print(\"Better Luck!Next Time\")\n",
    "        time.sleep(2)"
   ]
  },
  {
   "cell_type": "code",
   "execution_count": 18,
   "id": "dd8c3000",
   "metadata": {},
   "outputs": [],
   "source": [
    "import tkinter"
   ]
  },
  {
   "cell_type": "code",
   "execution_count": 19,
   "id": "67b2f8e5",
   "metadata": {},
   "outputs": [],
   "source": [
    "#to create main window\n",
    "w=tkinter.Tk()"
   ]
  },
  {
   "cell_type": "code",
   "execution_count": 20,
   "id": "8c5edcb1",
   "metadata": {},
   "outputs": [
    {
     "name": "stdout",
     "output_type": "stream",
     "text": [
      "i= 6 j= 3 k= 4\n",
      "Better Luck!Next Time\n",
      "i= 3 j= 2 k= 4\n",
      "Better Luck!Next Time\n",
      "i= 2 j= 7 k= 1\n",
      "Better Luck!Next Time\n",
      "i= 7 j= 3 k= 6\n",
      "Better Luck!Next Time\n",
      "i= 1 j= 1 k= 6\n",
      "Better Luck!Next Time\n",
      "i= 1 j= 4 k= 3\n",
      "Better Luck!Next Time\n"
     ]
    }
   ],
   "source": [
    "w.title('Jackpot')\n",
    "button = tkinter.Button(w, text='Check your LUCK', width=25, command=roll)\n",
    "button.pack()\n",
    "w.mainloop()"
   ]
  },
  {
   "cell_type": "code",
   "execution_count": null,
   "id": "6a8d8647",
   "metadata": {},
   "outputs": [],
   "source": []
  },
  {
   "cell_type": "code",
   "execution_count": null,
   "id": "bc2fd819",
   "metadata": {},
   "outputs": [],
   "source": []
  }
 ],
 "metadata": {
  "kernelspec": {
   "display_name": "Python 3 (ipykernel)",
   "language": "python",
   "name": "python3"
  },
  "language_info": {
   "codemirror_mode": {
    "name": "ipython",
    "version": 3
   },
   "file_extension": ".py",
   "mimetype": "text/x-python",
   "name": "python",
   "nbconvert_exporter": "python",
   "pygments_lexer": "ipython3",
   "version": "3.10.9"
  }
 },
 "nbformat": 4,
 "nbformat_minor": 5
}
