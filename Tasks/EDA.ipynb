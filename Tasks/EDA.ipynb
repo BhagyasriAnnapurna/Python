{
 "cells": [
  {
   "cell_type": "code",
   "execution_count": 2,
   "id": "f84507f1",
   "metadata": {},
   "outputs": [],
   "source": [
    "import io\n",
    "import pandas as pd\n",
    "import numpy as np\n",
    "import matplotlib.pyplot as plt\n",
    "import seaborn as sns\n",
    "from sklearn.preprocessing import LabelEncoder\n",
    "from sklearn.model_selection import train_test_split\n",
    "from sklearn.tree import DecisionTreeClassifier\n",
    "from sklearn.metrics import classification_report\n",
    "from warnings import filterwarnings\n",
    "filterwarnings('ignore')"
   ]
  },
  {
   "cell_type": "code",
   "execution_count": 3,
   "id": "a9ebe68d",
   "metadata": {},
   "outputs": [],
   "source": [
    "df1=pd.read_csv('matches.csv')"
   ]
  },
  {
   "cell_type": "code",
   "execution_count": 4,
   "id": "c5a7ca13",
   "metadata": {},
   "outputs": [
    {
     "data": {
      "text/html": [
       "<div>\n",
       "<style scoped>\n",
       "    .dataframe tbody tr th:only-of-type {\n",
       "        vertical-align: middle;\n",
       "    }\n",
       "\n",
       "    .dataframe tbody tr th {\n",
       "        vertical-align: top;\n",
       "    }\n",
       "\n",
       "    .dataframe thead th {\n",
       "        text-align: right;\n",
       "    }\n",
       "</style>\n",
       "<table border=\"1\" class=\"dataframe\">\n",
       "  <thead>\n",
       "    <tr style=\"text-align: right;\">\n",
       "      <th></th>\n",
       "      <th>id</th>\n",
       "      <th>season</th>\n",
       "      <th>city</th>\n",
       "      <th>date</th>\n",
       "      <th>match_type</th>\n",
       "      <th>player_of_match</th>\n",
       "      <th>venue</th>\n",
       "      <th>team1</th>\n",
       "      <th>team2</th>\n",
       "      <th>toss_winner</th>\n",
       "      <th>toss_decision</th>\n",
       "      <th>winner</th>\n",
       "      <th>result</th>\n",
       "      <th>result_margin</th>\n",
       "      <th>target_runs</th>\n",
       "      <th>target_overs</th>\n",
       "      <th>super_over</th>\n",
       "      <th>method</th>\n",
       "      <th>umpire1</th>\n",
       "      <th>umpire2</th>\n",
       "    </tr>\n",
       "  </thead>\n",
       "  <tbody>\n",
       "    <tr>\n",
       "      <th>0</th>\n",
       "      <td>335982</td>\n",
       "      <td>2007/08</td>\n",
       "      <td>Bangalore</td>\n",
       "      <td>4/18/2008</td>\n",
       "      <td>League</td>\n",
       "      <td>BB McCullum</td>\n",
       "      <td>M Chinnaswamy Stadium</td>\n",
       "      <td>Royal Challengers Bangalore</td>\n",
       "      <td>Kolkata Knight Riders</td>\n",
       "      <td>Royal Challengers Bangalore</td>\n",
       "      <td>field</td>\n",
       "      <td>Kolkata Knight Riders</td>\n",
       "      <td>runs</td>\n",
       "      <td>140.0</td>\n",
       "      <td>223.0</td>\n",
       "      <td>20.0</td>\n",
       "      <td>N</td>\n",
       "      <td>NaN</td>\n",
       "      <td>Asad Rauf</td>\n",
       "      <td>RE Koertzen</td>\n",
       "    </tr>\n",
       "    <tr>\n",
       "      <th>1</th>\n",
       "      <td>335983</td>\n",
       "      <td>2007/08</td>\n",
       "      <td>Chandigarh</td>\n",
       "      <td>4/19/2008</td>\n",
       "      <td>League</td>\n",
       "      <td>MEK Hussey</td>\n",
       "      <td>Punjab Cricket Association Stadium, Mohali</td>\n",
       "      <td>Kings XI Punjab</td>\n",
       "      <td>Chennai Super Kings</td>\n",
       "      <td>Chennai Super Kings</td>\n",
       "      <td>bat</td>\n",
       "      <td>Chennai Super Kings</td>\n",
       "      <td>runs</td>\n",
       "      <td>33.0</td>\n",
       "      <td>241.0</td>\n",
       "      <td>20.0</td>\n",
       "      <td>N</td>\n",
       "      <td>NaN</td>\n",
       "      <td>MR Benson</td>\n",
       "      <td>SL Shastri</td>\n",
       "    </tr>\n",
       "    <tr>\n",
       "      <th>2</th>\n",
       "      <td>335984</td>\n",
       "      <td>2007/08</td>\n",
       "      <td>Delhi</td>\n",
       "      <td>4/19/2008</td>\n",
       "      <td>League</td>\n",
       "      <td>MF Maharoof</td>\n",
       "      <td>Feroz Shah Kotla</td>\n",
       "      <td>Delhi Daredevils</td>\n",
       "      <td>Rajasthan Royals</td>\n",
       "      <td>Rajasthan Royals</td>\n",
       "      <td>bat</td>\n",
       "      <td>Delhi Daredevils</td>\n",
       "      <td>wickets</td>\n",
       "      <td>9.0</td>\n",
       "      <td>130.0</td>\n",
       "      <td>20.0</td>\n",
       "      <td>N</td>\n",
       "      <td>NaN</td>\n",
       "      <td>Aleem Dar</td>\n",
       "      <td>GA Pratapkumar</td>\n",
       "    </tr>\n",
       "    <tr>\n",
       "      <th>3</th>\n",
       "      <td>335985</td>\n",
       "      <td>2007/08</td>\n",
       "      <td>Mumbai</td>\n",
       "      <td>4/20/2008</td>\n",
       "      <td>League</td>\n",
       "      <td>MV Boucher</td>\n",
       "      <td>Wankhede Stadium</td>\n",
       "      <td>Mumbai Indians</td>\n",
       "      <td>Royal Challengers Bangalore</td>\n",
       "      <td>Mumbai Indians</td>\n",
       "      <td>bat</td>\n",
       "      <td>Royal Challengers Bangalore</td>\n",
       "      <td>wickets</td>\n",
       "      <td>5.0</td>\n",
       "      <td>166.0</td>\n",
       "      <td>20.0</td>\n",
       "      <td>N</td>\n",
       "      <td>NaN</td>\n",
       "      <td>SJ Davis</td>\n",
       "      <td>DJ Harper</td>\n",
       "    </tr>\n",
       "    <tr>\n",
       "      <th>4</th>\n",
       "      <td>335986</td>\n",
       "      <td>2007/08</td>\n",
       "      <td>Kolkata</td>\n",
       "      <td>4/20/2008</td>\n",
       "      <td>League</td>\n",
       "      <td>DJ Hussey</td>\n",
       "      <td>Eden Gardens</td>\n",
       "      <td>Kolkata Knight Riders</td>\n",
       "      <td>Deccan Chargers</td>\n",
       "      <td>Deccan Chargers</td>\n",
       "      <td>bat</td>\n",
       "      <td>Kolkata Knight Riders</td>\n",
       "      <td>wickets</td>\n",
       "      <td>5.0</td>\n",
       "      <td>111.0</td>\n",
       "      <td>20.0</td>\n",
       "      <td>N</td>\n",
       "      <td>NaN</td>\n",
       "      <td>BF Bowden</td>\n",
       "      <td>K Hariharan</td>\n",
       "    </tr>\n",
       "  </tbody>\n",
       "</table>\n",
       "</div>"
      ],
      "text/plain": [
       "       id   season        city       date match_type player_of_match  \\\n",
       "0  335982  2007/08   Bangalore  4/18/2008     League     BB McCullum   \n",
       "1  335983  2007/08  Chandigarh  4/19/2008     League      MEK Hussey   \n",
       "2  335984  2007/08       Delhi  4/19/2008     League     MF Maharoof   \n",
       "3  335985  2007/08      Mumbai  4/20/2008     League      MV Boucher   \n",
       "4  335986  2007/08     Kolkata  4/20/2008     League       DJ Hussey   \n",
       "\n",
       "                                        venue                        team1  \\\n",
       "0                       M Chinnaswamy Stadium  Royal Challengers Bangalore   \n",
       "1  Punjab Cricket Association Stadium, Mohali              Kings XI Punjab   \n",
       "2                            Feroz Shah Kotla             Delhi Daredevils   \n",
       "3                            Wankhede Stadium               Mumbai Indians   \n",
       "4                                Eden Gardens        Kolkata Knight Riders   \n",
       "\n",
       "                         team2                  toss_winner toss_decision  \\\n",
       "0        Kolkata Knight Riders  Royal Challengers Bangalore         field   \n",
       "1          Chennai Super Kings          Chennai Super Kings           bat   \n",
       "2             Rajasthan Royals             Rajasthan Royals           bat   \n",
       "3  Royal Challengers Bangalore               Mumbai Indians           bat   \n",
       "4              Deccan Chargers              Deccan Chargers           bat   \n",
       "\n",
       "                        winner   result  result_margin  target_runs  \\\n",
       "0        Kolkata Knight Riders     runs          140.0        223.0   \n",
       "1          Chennai Super Kings     runs           33.0        241.0   \n",
       "2             Delhi Daredevils  wickets            9.0        130.0   \n",
       "3  Royal Challengers Bangalore  wickets            5.0        166.0   \n",
       "4        Kolkata Knight Riders  wickets            5.0        111.0   \n",
       "\n",
       "   target_overs super_over method    umpire1         umpire2  \n",
       "0          20.0          N    NaN  Asad Rauf     RE Koertzen  \n",
       "1          20.0          N    NaN  MR Benson      SL Shastri  \n",
       "2          20.0          N    NaN  Aleem Dar  GA Pratapkumar  \n",
       "3          20.0          N    NaN   SJ Davis       DJ Harper  \n",
       "4          20.0          N    NaN  BF Bowden     K Hariharan  "
      ]
     },
     "execution_count": 4,
     "metadata": {},
     "output_type": "execute_result"
    }
   ],
   "source": [
    "df1.head()"
   ]
  },
  {
   "cell_type": "code",
   "execution_count": 5,
   "id": "afb1dae0",
   "metadata": {},
   "outputs": [
    {
     "name": "stdout",
     "output_type": "stream",
     "text": [
      "<class 'pandas.core.frame.DataFrame'>\n",
      "RangeIndex: 1024 entries, 0 to 1023\n",
      "Data columns (total 20 columns):\n",
      " #   Column           Non-Null Count  Dtype  \n",
      "---  ------           --------------  -----  \n",
      " 0   id               1024 non-null   int64  \n",
      " 1   season           1024 non-null   object \n",
      " 2   city             1024 non-null   object \n",
      " 3   date             1024 non-null   object \n",
      " 4   match_type       1024 non-null   object \n",
      " 5   player_of_match  1019 non-null   object \n",
      " 6   venue            1024 non-null   object \n",
      " 7   team1            1024 non-null   object \n",
      " 8   team2            1024 non-null   object \n",
      " 9   toss_winner      1024 non-null   object \n",
      " 10  toss_decision    1024 non-null   object \n",
      " 11  winner           1019 non-null   object \n",
      " 12  result           1024 non-null   object \n",
      " 13  result_margin    1005 non-null   float64\n",
      " 14  target_runs      1021 non-null   float64\n",
      " 15  target_overs     1021 non-null   float64\n",
      " 16  super_over       1024 non-null   object \n",
      " 17  method           21 non-null     object \n",
      " 18  umpire1          1024 non-null   object \n",
      " 19  umpire2          1024 non-null   object \n",
      "dtypes: float64(3), int64(1), object(16)\n",
      "memory usage: 160.1+ KB\n"
     ]
    }
   ],
   "source": [
    "df1.info()"
   ]
  },
  {
   "cell_type": "code",
   "execution_count": 6,
   "id": "85d1679b",
   "metadata": {},
   "outputs": [
    {
     "data": {
      "text/plain": [
       "(1024, 20)"
      ]
     },
     "execution_count": 6,
     "metadata": {},
     "output_type": "execute_result"
    }
   ],
   "source": [
    "df1.shape"
   ]
  },
  {
   "cell_type": "code",
   "execution_count": 7,
   "id": "81287cb0",
   "metadata": {},
   "outputs": [
    {
     "data": {
      "text/plain": [
       "0"
      ]
     },
     "execution_count": 7,
     "metadata": {},
     "output_type": "execute_result"
    }
   ],
   "source": [
    "#to check for duplicate rows\n",
    "df1.duplicated().sum()"
   ]
  },
  {
   "cell_type": "code",
   "execution_count": 8,
   "id": "908424b3",
   "metadata": {},
   "outputs": [
    {
     "data": {
      "text/html": [
       "<div>\n",
       "<style scoped>\n",
       "    .dataframe tbody tr th:only-of-type {\n",
       "        vertical-align: middle;\n",
       "    }\n",
       "\n",
       "    .dataframe tbody tr th {\n",
       "        vertical-align: top;\n",
       "    }\n",
       "\n",
       "    .dataframe thead th {\n",
       "        text-align: right;\n",
       "    }\n",
       "</style>\n",
       "<table border=\"1\" class=\"dataframe\">\n",
       "  <thead>\n",
       "    <tr style=\"text-align: right;\">\n",
       "      <th></th>\n",
       "      <th>id</th>\n",
       "      <th>result_margin</th>\n",
       "      <th>target_runs</th>\n",
       "      <th>target_overs</th>\n",
       "    </tr>\n",
       "  </thead>\n",
       "  <tbody>\n",
       "    <tr>\n",
       "      <th>count</th>\n",
       "      <td>1.024000e+03</td>\n",
       "      <td>1005.000000</td>\n",
       "      <td>1021.000000</td>\n",
       "      <td>1021.000000</td>\n",
       "    </tr>\n",
       "    <tr>\n",
       "      <th>mean</th>\n",
       "      <td>8.687579e+05</td>\n",
       "      <td>17.215920</td>\n",
       "      <td>163.952008</td>\n",
       "      <td>19.746523</td>\n",
       "    </tr>\n",
       "    <tr>\n",
       "      <th>std</th>\n",
       "      <td>3.528920e+05</td>\n",
       "      <td>21.791299</td>\n",
       "      <td>32.357541</td>\n",
       "      <td>1.629700</td>\n",
       "    </tr>\n",
       "    <tr>\n",
       "      <th>min</th>\n",
       "      <td>3.359820e+05</td>\n",
       "      <td>1.000000</td>\n",
       "      <td>43.000000</td>\n",
       "      <td>5.000000</td>\n",
       "    </tr>\n",
       "    <tr>\n",
       "      <th>25%</th>\n",
       "      <td>5.483138e+05</td>\n",
       "      <td>6.000000</td>\n",
       "      <td>145.000000</td>\n",
       "      <td>20.000000</td>\n",
       "    </tr>\n",
       "    <tr>\n",
       "      <th>50%</th>\n",
       "      <td>8.298140e+05</td>\n",
       "      <td>8.000000</td>\n",
       "      <td>165.000000</td>\n",
       "      <td>20.000000</td>\n",
       "    </tr>\n",
       "    <tr>\n",
       "      <th>75%</th>\n",
       "      <td>1.216503e+06</td>\n",
       "      <td>19.000000</td>\n",
       "      <td>185.000000</td>\n",
       "      <td>20.000000</td>\n",
       "    </tr>\n",
       "    <tr>\n",
       "      <th>max</th>\n",
       "      <td>1.370353e+06</td>\n",
       "      <td>146.000000</td>\n",
       "      <td>264.000000</td>\n",
       "      <td>20.000000</td>\n",
       "    </tr>\n",
       "  </tbody>\n",
       "</table>\n",
       "</div>"
      ],
      "text/plain": [
       "                 id  result_margin  target_runs  target_overs\n",
       "count  1.024000e+03    1005.000000  1021.000000   1021.000000\n",
       "mean   8.687579e+05      17.215920   163.952008     19.746523\n",
       "std    3.528920e+05      21.791299    32.357541      1.629700\n",
       "min    3.359820e+05       1.000000    43.000000      5.000000\n",
       "25%    5.483138e+05       6.000000   145.000000     20.000000\n",
       "50%    8.298140e+05       8.000000   165.000000     20.000000\n",
       "75%    1.216503e+06      19.000000   185.000000     20.000000\n",
       "max    1.370353e+06     146.000000   264.000000     20.000000"
      ]
     },
     "execution_count": 8,
     "metadata": {},
     "output_type": "execute_result"
    }
   ],
   "source": [
    "df1.describe()"
   ]
  },
  {
   "cell_type": "code",
   "execution_count": 9,
   "id": "fb24a0d4",
   "metadata": {},
   "outputs": [
    {
     "data": {
      "text/plain": [
       "Index(['id', 'season', 'city', 'date', 'match_type', 'player_of_match',\n",
       "       'venue', 'team1', 'team2', 'toss_winner', 'toss_decision', 'winner',\n",
       "       'result', 'result_margin', 'target_runs', 'target_overs', 'super_over',\n",
       "       'method', 'umpire1', 'umpire2'],\n",
       "      dtype='object')"
      ]
     },
     "execution_count": 9,
     "metadata": {},
     "output_type": "execute_result"
    }
   ],
   "source": [
    "df1.columns"
   ]
  },
  {
   "cell_type": "code",
   "execution_count": 10,
   "id": "c5db1c13",
   "metadata": {},
   "outputs": [
    {
     "data": {
      "text/plain": [
       "array(['2007/08', '2009', '2009/10', '2011', '2012', '2013', '2014',\n",
       "       '2015', '2016', '2017', '2018', '2019', '2020/21', '2021', '2022',\n",
       "       '2023'], dtype=object)"
      ]
     },
     "execution_count": 10,
     "metadata": {},
     "output_type": "execute_result"
    }
   ],
   "source": [
    "df1['season'].unique()"
   ]
  },
  {
   "cell_type": "code",
   "execution_count": 11,
   "id": "efa2df94",
   "metadata": {},
   "outputs": [],
   "source": [
    "#replacing the season names in proper format\n",
    "#can be done in various ways \n",
    "#method-1 :df_1['season'].replace('2007/08', '2008', inplace=True)\n",
    "#using apply()\n",
    "\n",
    "season_map = {'2007/08': '2008', '2009/10': '2010', '2020/21': '2020'}\n",
    "def seasons_replace(year):\n",
    "    return season_map.get(year, year)\n",
    "\n",
    "# Use the .apply method\n",
    "df2=df1.copy()\n",
    "df2['season'] = df2['season'].apply(seasons_replace)"
   ]
  },
  {
   "cell_type": "code",
   "execution_count": 12,
   "id": "21357f43",
   "metadata": {},
   "outputs": [
    {
     "data": {
      "text/plain": [
       "array(['2008', '2009', '2010', '2011', '2012', '2013', '2014', '2015',\n",
       "       '2016', '2017', '2018', '2019', '2020', '2021', '2022', '2023'],\n",
       "      dtype=object)"
      ]
     },
     "execution_count": 12,
     "metadata": {},
     "output_type": "execute_result"
    }
   ],
   "source": [
    "df2['season'].unique()"
   ]
  },
  {
   "cell_type": "code",
   "execution_count": 13,
   "id": "738532b1",
   "metadata": {},
   "outputs": [],
   "source": [
    "#droppind the 'method' column as it has less no of entities \n",
    "df1=df1.drop(['method'],axis=1)"
   ]
  },
  {
   "cell_type": "code",
   "execution_count": 14,
   "id": "63599ea0",
   "metadata": {},
   "outputs": [
    {
     "name": "stdout",
     "output_type": "stream",
     "text": [
      "<class 'pandas.core.frame.DataFrame'>\n",
      "RangeIndex: 1024 entries, 0 to 1023\n",
      "Data columns (total 19 columns):\n",
      " #   Column           Non-Null Count  Dtype  \n",
      "---  ------           --------------  -----  \n",
      " 0   id               1024 non-null   int64  \n",
      " 1   season           1024 non-null   object \n",
      " 2   city             1024 non-null   object \n",
      " 3   date             1024 non-null   object \n",
      " 4   match_type       1024 non-null   object \n",
      " 5   player_of_match  1019 non-null   object \n",
      " 6   venue            1024 non-null   object \n",
      " 7   team1            1024 non-null   object \n",
      " 8   team2            1024 non-null   object \n",
      " 9   toss_winner      1024 non-null   object \n",
      " 10  toss_decision    1024 non-null   object \n",
      " 11  winner           1019 non-null   object \n",
      " 12  result           1024 non-null   object \n",
      " 13  result_margin    1005 non-null   float64\n",
      " 14  target_runs      1021 non-null   float64\n",
      " 15  target_overs     1021 non-null   float64\n",
      " 16  super_over       1024 non-null   object \n",
      " 17  umpire1          1024 non-null   object \n",
      " 18  umpire2          1024 non-null   object \n",
      "dtypes: float64(3), int64(1), object(15)\n",
      "memory usage: 152.1+ KB\n"
     ]
    },
    {
     "data": {
      "text/plain": [
       "(1024, 19)"
      ]
     },
     "execution_count": 14,
     "metadata": {},
     "output_type": "execute_result"
    }
   ],
   "source": [
    "#after dropping one column\n",
    "df1.info()\n",
    "df1.shape"
   ]
  },
  {
   "cell_type": "code",
   "execution_count": 15,
   "id": "83cdc5eb",
   "metadata": {},
   "outputs": [
    {
     "name": "stdout",
     "output_type": "stream",
     "text": [
      "<class 'pandas.core.frame.DataFrame'>\n",
      "Index: 1005 entries, 0 to 1023\n",
      "Data columns (total 19 columns):\n",
      " #   Column           Non-Null Count  Dtype  \n",
      "---  ------           --------------  -----  \n",
      " 0   id               1005 non-null   int64  \n",
      " 1   season           1005 non-null   object \n",
      " 2   city             1005 non-null   object \n",
      " 3   date             1005 non-null   object \n",
      " 4   match_type       1005 non-null   object \n",
      " 5   player_of_match  1005 non-null   object \n",
      " 6   venue            1005 non-null   object \n",
      " 7   team1            1005 non-null   object \n",
      " 8   team2            1005 non-null   object \n",
      " 9   toss_winner      1005 non-null   object \n",
      " 10  toss_decision    1005 non-null   object \n",
      " 11  winner           1005 non-null   object \n",
      " 12  result           1005 non-null   object \n",
      " 13  result_margin    1005 non-null   float64\n",
      " 14  target_runs      1005 non-null   float64\n",
      " 15  target_overs     1005 non-null   float64\n",
      " 16  super_over       1005 non-null   object \n",
      " 17  umpire1          1005 non-null   object \n",
      " 18  umpire2          1005 non-null   object \n",
      "dtypes: float64(3), int64(1), object(15)\n",
      "memory usage: 157.0+ KB\n"
     ]
    },
    {
     "data": {
      "text/plain": [
       "(1005, 19)"
      ]
     },
     "execution_count": 15,
     "metadata": {},
     "output_type": "execute_result"
    }
   ],
   "source": [
    "#removing the rows with null values\n",
    "df1.isnull().sum()\n",
    "df1=df1.dropna()\n",
    "df1.info()\n",
    "df1.shape"
   ]
  },
  {
   "cell_type": "code",
   "execution_count": 16,
   "id": "11471b56",
   "metadata": {},
   "outputs": [
    {
     "data": {
      "text/plain": [
       "id                   int64\n",
       "season              object\n",
       "city                object\n",
       "date                object\n",
       "match_type          object\n",
       "player_of_match     object\n",
       "venue               object\n",
       "team1               object\n",
       "team2               object\n",
       "toss_winner         object\n",
       "toss_decision       object\n",
       "winner              object\n",
       "result              object\n",
       "result_margin      float64\n",
       "target_runs        float64\n",
       "target_overs       float64\n",
       "super_over          object\n",
       "umpire1             object\n",
       "umpire2             object\n",
       "dtype: object"
      ]
     },
     "execution_count": 16,
     "metadata": {},
     "output_type": "execute_result"
    }
   ],
   "source": [
    "df1.dtypes"
   ]
  },
  {
   "cell_type": "code",
   "execution_count": 17,
   "id": "1bdc6b1b",
   "metadata": {},
   "outputs": [],
   "source": [
    "df3=pd.read_csv('IPL_Ball_by_Ball_2008_2022.csv')"
   ]
  },
  {
   "cell_type": "code",
   "execution_count": 18,
   "id": "8d3f1e40",
   "metadata": {},
   "outputs": [
    {
     "data": {
      "text/html": [
       "<div>\n",
       "<style scoped>\n",
       "    .dataframe tbody tr th:only-of-type {\n",
       "        vertical-align: middle;\n",
       "    }\n",
       "\n",
       "    .dataframe tbody tr th {\n",
       "        vertical-align: top;\n",
       "    }\n",
       "\n",
       "    .dataframe thead th {\n",
       "        text-align: right;\n",
       "    }\n",
       "</style>\n",
       "<table border=\"1\" class=\"dataframe\">\n",
       "  <thead>\n",
       "    <tr style=\"text-align: right;\">\n",
       "      <th></th>\n",
       "      <th>ID</th>\n",
       "      <th>innings</th>\n",
       "      <th>overs</th>\n",
       "      <th>ballnumber</th>\n",
       "      <th>batter</th>\n",
       "      <th>bowler</th>\n",
       "      <th>non-striker</th>\n",
       "      <th>extra_type</th>\n",
       "      <th>batsman_run</th>\n",
       "      <th>extras_run</th>\n",
       "      <th>total_run</th>\n",
       "      <th>non_boundary</th>\n",
       "      <th>isWicketDelivery</th>\n",
       "      <th>player_out</th>\n",
       "      <th>kind</th>\n",
       "      <th>fielders_involved</th>\n",
       "      <th>BattingTeam</th>\n",
       "    </tr>\n",
       "  </thead>\n",
       "  <tbody>\n",
       "    <tr>\n",
       "      <th>0</th>\n",
       "      <td>1312200</td>\n",
       "      <td>1</td>\n",
       "      <td>0</td>\n",
       "      <td>1</td>\n",
       "      <td>YBK Jaiswal</td>\n",
       "      <td>Mohammed Shami</td>\n",
       "      <td>JC Buttler</td>\n",
       "      <td>NaN</td>\n",
       "      <td>0</td>\n",
       "      <td>0</td>\n",
       "      <td>0</td>\n",
       "      <td>0</td>\n",
       "      <td>0</td>\n",
       "      <td>NaN</td>\n",
       "      <td>NaN</td>\n",
       "      <td>NaN</td>\n",
       "      <td>Rajasthan Royals</td>\n",
       "    </tr>\n",
       "    <tr>\n",
       "      <th>1</th>\n",
       "      <td>1312200</td>\n",
       "      <td>1</td>\n",
       "      <td>0</td>\n",
       "      <td>2</td>\n",
       "      <td>YBK Jaiswal</td>\n",
       "      <td>Mohammed Shami</td>\n",
       "      <td>JC Buttler</td>\n",
       "      <td>legbyes</td>\n",
       "      <td>0</td>\n",
       "      <td>1</td>\n",
       "      <td>1</td>\n",
       "      <td>0</td>\n",
       "      <td>0</td>\n",
       "      <td>NaN</td>\n",
       "      <td>NaN</td>\n",
       "      <td>NaN</td>\n",
       "      <td>Rajasthan Royals</td>\n",
       "    </tr>\n",
       "    <tr>\n",
       "      <th>2</th>\n",
       "      <td>1312200</td>\n",
       "      <td>1</td>\n",
       "      <td>0</td>\n",
       "      <td>3</td>\n",
       "      <td>JC Buttler</td>\n",
       "      <td>Mohammed Shami</td>\n",
       "      <td>YBK Jaiswal</td>\n",
       "      <td>NaN</td>\n",
       "      <td>1</td>\n",
       "      <td>0</td>\n",
       "      <td>1</td>\n",
       "      <td>0</td>\n",
       "      <td>0</td>\n",
       "      <td>NaN</td>\n",
       "      <td>NaN</td>\n",
       "      <td>NaN</td>\n",
       "      <td>Rajasthan Royals</td>\n",
       "    </tr>\n",
       "    <tr>\n",
       "      <th>3</th>\n",
       "      <td>1312200</td>\n",
       "      <td>1</td>\n",
       "      <td>0</td>\n",
       "      <td>4</td>\n",
       "      <td>YBK Jaiswal</td>\n",
       "      <td>Mohammed Shami</td>\n",
       "      <td>JC Buttler</td>\n",
       "      <td>NaN</td>\n",
       "      <td>0</td>\n",
       "      <td>0</td>\n",
       "      <td>0</td>\n",
       "      <td>0</td>\n",
       "      <td>0</td>\n",
       "      <td>NaN</td>\n",
       "      <td>NaN</td>\n",
       "      <td>NaN</td>\n",
       "      <td>Rajasthan Royals</td>\n",
       "    </tr>\n",
       "    <tr>\n",
       "      <th>4</th>\n",
       "      <td>1312200</td>\n",
       "      <td>1</td>\n",
       "      <td>0</td>\n",
       "      <td>5</td>\n",
       "      <td>YBK Jaiswal</td>\n",
       "      <td>Mohammed Shami</td>\n",
       "      <td>JC Buttler</td>\n",
       "      <td>NaN</td>\n",
       "      <td>0</td>\n",
       "      <td>0</td>\n",
       "      <td>0</td>\n",
       "      <td>0</td>\n",
       "      <td>0</td>\n",
       "      <td>NaN</td>\n",
       "      <td>NaN</td>\n",
       "      <td>NaN</td>\n",
       "      <td>Rajasthan Royals</td>\n",
       "    </tr>\n",
       "  </tbody>\n",
       "</table>\n",
       "</div>"
      ],
      "text/plain": [
       "        ID  innings  overs  ballnumber       batter          bowler  \\\n",
       "0  1312200        1      0           1  YBK Jaiswal  Mohammed Shami   \n",
       "1  1312200        1      0           2  YBK Jaiswal  Mohammed Shami   \n",
       "2  1312200        1      0           3   JC Buttler  Mohammed Shami   \n",
       "3  1312200        1      0           4  YBK Jaiswal  Mohammed Shami   \n",
       "4  1312200        1      0           5  YBK Jaiswal  Mohammed Shami   \n",
       "\n",
       "   non-striker extra_type  batsman_run  extras_run  total_run  non_boundary  \\\n",
       "0   JC Buttler        NaN            0           0          0             0   \n",
       "1   JC Buttler    legbyes            0           1          1             0   \n",
       "2  YBK Jaiswal        NaN            1           0          1             0   \n",
       "3   JC Buttler        NaN            0           0          0             0   \n",
       "4   JC Buttler        NaN            0           0          0             0   \n",
       "\n",
       "   isWicketDelivery player_out kind fielders_involved       BattingTeam  \n",
       "0                 0        NaN  NaN               NaN  Rajasthan Royals  \n",
       "1                 0        NaN  NaN               NaN  Rajasthan Royals  \n",
       "2                 0        NaN  NaN               NaN  Rajasthan Royals  \n",
       "3                 0        NaN  NaN               NaN  Rajasthan Royals  \n",
       "4                 0        NaN  NaN               NaN  Rajasthan Royals  "
      ]
     },
     "execution_count": 18,
     "metadata": {},
     "output_type": "execute_result"
    }
   ],
   "source": [
    "df3.head()"
   ]
  },
  {
   "cell_type": "code",
   "execution_count": 19,
   "id": "86a14733",
   "metadata": {},
   "outputs": [
    {
     "name": "stdout",
     "output_type": "stream",
     "text": [
      "<class 'pandas.core.frame.DataFrame'>\n",
      "RangeIndex: 225954 entries, 0 to 225953\n",
      "Data columns (total 17 columns):\n",
      " #   Column             Non-Null Count   Dtype \n",
      "---  ------             --------------   ----- \n",
      " 0   ID                 225954 non-null  int64 \n",
      " 1   innings            225954 non-null  int64 \n",
      " 2   overs              225954 non-null  int64 \n",
      " 3   ballnumber         225954 non-null  int64 \n",
      " 4   batter             225954 non-null  object\n",
      " 5   bowler             225954 non-null  object\n",
      " 6   non-striker        225954 non-null  object\n",
      " 7   extra_type         12049 non-null   object\n",
      " 8   batsman_run        225954 non-null  int64 \n",
      " 9   extras_run         225954 non-null  int64 \n",
      " 10  total_run          225954 non-null  int64 \n",
      " 11  non_boundary       225954 non-null  int64 \n",
      " 12  isWicketDelivery   225954 non-null  int64 \n",
      " 13  player_out         11151 non-null   object\n",
      " 14  kind               11151 non-null   object\n",
      " 15  fielders_involved  7988 non-null    object\n",
      " 16  BattingTeam        225954 non-null  object\n",
      "dtypes: int64(9), object(8)\n",
      "memory usage: 29.3+ MB\n"
     ]
    },
    {
     "data": {
      "text/plain": [
       "(225954, 17)"
      ]
     },
     "execution_count": 19,
     "metadata": {},
     "output_type": "execute_result"
    }
   ],
   "source": [
    "df3.info()\n",
    "df3.shape"
   ]
  },
  {
   "cell_type": "code",
   "execution_count": 20,
   "id": "ec88adba",
   "metadata": {},
   "outputs": [
    {
     "data": {
      "text/plain": [
       "0"
      ]
     },
     "execution_count": 20,
     "metadata": {},
     "output_type": "execute_result"
    }
   ],
   "source": [
    "df3.duplicated().sum()"
   ]
  },
  {
   "cell_type": "code",
   "execution_count": 21,
   "id": "433c5ce8",
   "metadata": {},
   "outputs": [
    {
     "data": {
      "text/plain": [
       "ID                        0\n",
       "innings                   0\n",
       "overs                     0\n",
       "ballnumber                0\n",
       "batter                    0\n",
       "bowler                    0\n",
       "non-striker               0\n",
       "extra_type           213905\n",
       "batsman_run               0\n",
       "extras_run                0\n",
       "total_run                 0\n",
       "non_boundary              0\n",
       "isWicketDelivery          0\n",
       "player_out           214803\n",
       "kind                 214803\n",
       "fielders_involved    217966\n",
       "BattingTeam               0\n",
       "dtype: int64"
      ]
     },
     "execution_count": 21,
     "metadata": {},
     "output_type": "execute_result"
    }
   ],
   "source": [
    "df3.isnull().sum()"
   ]
  },
  {
   "cell_type": "code",
   "execution_count": 22,
   "id": "a732dba1",
   "metadata": {},
   "outputs": [],
   "source": [
    "df3.drop(['extra_type','player_out','kind','fielders_involved'],axis=1,inplace=True)"
   ]
  },
  {
   "cell_type": "code",
   "execution_count": 23,
   "id": "d08e84a1",
   "metadata": {},
   "outputs": [
    {
     "name": "stdout",
     "output_type": "stream",
     "text": [
      "<class 'pandas.core.frame.DataFrame'>\n",
      "RangeIndex: 225954 entries, 0 to 225953\n",
      "Data columns (total 13 columns):\n",
      " #   Column            Non-Null Count   Dtype \n",
      "---  ------            --------------   ----- \n",
      " 0   ID                225954 non-null  int64 \n",
      " 1   innings           225954 non-null  int64 \n",
      " 2   overs             225954 non-null  int64 \n",
      " 3   ballnumber        225954 non-null  int64 \n",
      " 4   batter            225954 non-null  object\n",
      " 5   bowler            225954 non-null  object\n",
      " 6   non-striker       225954 non-null  object\n",
      " 7   batsman_run       225954 non-null  int64 \n",
      " 8   extras_run        225954 non-null  int64 \n",
      " 9   total_run         225954 non-null  int64 \n",
      " 10  non_boundary      225954 non-null  int64 \n",
      " 11  isWicketDelivery  225954 non-null  int64 \n",
      " 12  BattingTeam       225954 non-null  object\n",
      "dtypes: int64(9), object(4)\n",
      "memory usage: 22.4+ MB\n"
     ]
    },
    {
     "data": {
      "text/plain": [
       "(225954, 13)"
      ]
     },
     "execution_count": 23,
     "metadata": {},
     "output_type": "execute_result"
    }
   ],
   "source": [
    "df3.info()\n",
    "df3.shape"
   ]
  },
  {
   "cell_type": "code",
   "execution_count": 24,
   "id": "acd49049",
   "metadata": {},
   "outputs": [
    {
     "data": {
      "text/plain": [
       "ID                   int64\n",
       "innings              int64\n",
       "overs                int64\n",
       "ballnumber           int64\n",
       "batter              object\n",
       "bowler              object\n",
       "non-striker         object\n",
       "batsman_run          int64\n",
       "extras_run           int64\n",
       "total_run            int64\n",
       "non_boundary         int64\n",
       "isWicketDelivery     int64\n",
       "BattingTeam         object\n",
       "dtype: object"
      ]
     },
     "execution_count": 24,
     "metadata": {},
     "output_type": "execute_result"
    }
   ],
   "source": [
    "df3.dtypes"
   ]
  },
  {
   "cell_type": "code",
   "execution_count": 25,
   "id": "2bc9a585",
   "metadata": {},
   "outputs": [
    {
     "data": {
      "text/plain": [
       "array(['Kolkata Knight Riders', 'Chennai Super Kings', 'Delhi Daredevils',\n",
       "       'Royal Challengers Bangalore', 'Rajasthan Royals',\n",
       "       'Kings XI Punjab', 'Deccan Chargers', 'Mumbai Indians',\n",
       "       'Pune Warriors', 'Kochi Tuskers Kerala', 'Sunrisers Hyderabad',\n",
       "       'Rising Pune Supergiants', 'Gujarat Lions',\n",
       "       'Rising Pune Supergiant', 'Delhi Capitals', 'Punjab Kings',\n",
       "       'Gujarat Titans', 'Lucknow Super Giants'], dtype=object)"
      ]
     },
     "execution_count": 25,
     "metadata": {},
     "output_type": "execute_result"
    }
   ],
   "source": [
    "df1['winner'].unique()"
   ]
  },
  {
   "cell_type": "code",
   "execution_count": 26,
   "id": "c49c9e71",
   "metadata": {},
   "outputs": [],
   "source": [
    "#changing old names of teams to new name\n",
    "df1['team1']=df1['team1'].str.replace('Delhi Daredevils','Delhi Capitals')\n",
    "df1['team2']=df1['team2'].str.replace('Delhi Daredevils','Delhi Capitals')\n",
    "df1['winner']=df1['winner'].str.replace('Delhi Daredevils','Delhi Capitals')\n",
    "df1['toss_winner']=df1['toss_winner'].str.replace('Delhi Daredevils','Delhi Capitals')\n",
    "#for sunrisers Hyderabad\n",
    "df1['team1']=df1['team1'].str.replace('Deccan Chargers','Sunrisers Hyderabad')\n",
    "df1['team2']=df1['team2'].str.replace('Deccan Chargers','Sunrisers Hyderabad')\n",
    "df1['winner']=df1['winner'].str.replace('Deccan Chargers','Sunrisers Hyderabad')\n",
    "df1['toss_winner']=df1['toss_winner'].str.replace('Deccan Chargers','Sunrisers Hyderabad')\n",
    "#for punjab kings\n",
    "df1['team1']=df1['team1'].str.replace('Kings XI Punjab','Punjab Kings')\n",
    "df1['team2']=df1['team2'].str.replace('Kings XI Punjab','Punjab Kings')\n",
    "df1['winner']=df1['winner'].str.replace('Kings XI Punjab','Punjab Kings')\n",
    "df1['toss_winner']=df1['toss_winner'].str.replace('Kings XI Punjab','Punjab Kings')\n",
    "#for Rising Pune Supergiant\n",
    "df1['team1']=df1['team1'].str.replace('Rising Pune Supergiants','Rising Pune Supergiant')\n",
    "df1['team2']=df1['team2'].str.replace('Rising Pune Supergiants','Rising Pune Supergiant')\n",
    "df1['winner']=df1['winner'].str.replace('Rising Pune Supergiants','Rising Pune Supergiant')\n",
    "df1['toss_winner']=df1['toss_winner'].str.replace('Rising Pune Supergiants','Rising Pune Supergiant')"
   ]
  },
  {
   "cell_type": "code",
   "execution_count": 27,
   "id": "76542cb9",
   "metadata": {},
   "outputs": [
    {
     "data": {
      "text/plain": [
       "winner\n",
       "Mumbai Indians                 138\n",
       "Chennai Super Kings            131\n",
       "Kolkata Knight Riders          119\n",
       "Royal Challengers Bangalore    114\n",
       "Sunrisers Hyderabad            107\n",
       "Delhi Capitals                 105\n",
       "Punjab Kings                   104\n",
       "Rajasthan Royals               101\n",
       "Gujarat Titans                  23\n",
       "Lucknow Super Giants            17\n",
       "Rising Pune Supergiant          15\n",
       "Gujarat Lions                   13\n",
       "Pune Warriors                   12\n",
       "Kochi Tuskers Kerala             6\n",
       "Name: count, dtype: int64"
      ]
     },
     "execution_count": 27,
     "metadata": {},
     "output_type": "execute_result"
    }
   ],
   "source": [
    "df1['winner'].value_counts()"
   ]
  },
  {
   "cell_type": "code",
   "execution_count": 28,
   "id": "35c8b6b1",
   "metadata": {},
   "outputs": [
    {
     "data": {
      "image/png": "[encoded data removed]",
      "text/plain": [
       "<Figure size 800x400 with 1 Axes>"
      ]
     },
     "metadata": {},
     "output_type": "display_data"
    }
   ],
   "source": [
    "#visualization of winning teams \n",
    "plt.figure(figsize = (8,4))\n",
    "ax=sns.countplot(y ='winner',data = df1,order=df1['winner'].value_counts().index,palette='cividis')\n",
    "plt.xlabel('Winning Matches')\n",
    "plt.ylabel('Team')\n",
    "plt.title('IPL  matches won by each team')\n",
    "abs_values = df1['winner'].value_counts()\n",
    "ax.bar_label(container=ax.containers[0], labels=abs_values)\n",
    "sns.set_context(\"paper\", font_scale=0.9)"
   ]
  },
  {
   "cell_type": "code",
   "execution_count": 29,
   "id": "0b323c2c",
   "metadata": {},
   "outputs": [
    {
     "data": {
      "text/plain": [
       "Text(0.5, 1.0, 'Toss Decision')"
      ]
     },
     "execution_count": 29,
     "metadata": {},
     "output_type": "execute_result"
    },
    {
     "data": {
      "image/png": "[encoded data removed]",
      "text/plain": [
       "<Figure size 1000x300 with 1 Axes>"
      ]
     },
     "metadata": {},
     "output_type": "display_data"
    }
   ],
   "source": [
    "#Toss decision over years\n",
    "plt.figure(figsize = (10,3))\n",
    "sns.countplot(x='season',hue='toss_decision', data=df1,palette='plasma')\n",
    "sns.set_context(\"paper\", font_scale=0.3)\n",
    "plt.title('Toss Decision')"
   ]
  },
  {
   "cell_type": "code",
   "execution_count": 30,
   "id": "3dcded11",
   "metadata": {},
   "outputs": [
    {
     "data": {
      "text/plain": [
       "id                          1082635\n",
       "season                         2017\n",
       "city                          Delhi\n",
       "date                       5/6/2017\n",
       "match_type                   League\n",
       "player_of_match         LMP Simmons\n",
       "venue              Feroz Shah Kotla\n",
       "team1                Delhi Capitals\n",
       "team2                Mumbai Indians\n",
       "toss_winner          Delhi Capitals\n",
       "toss_decision                 field\n",
       "winner               Mumbai Indians\n",
       "result                         runs\n",
       "result_margin                 146.0\n",
       "target_runs                   213.0\n",
       "target_overs                   20.0\n",
       "super_over                        N\n",
       "umpire1                 Nitin Menon\n",
       "umpire2                   CK Nandan\n",
       "Name: 620, dtype: object"
      ]
     },
     "execution_count": 30,
     "metadata": {},
     "output_type": "execute_result"
    }
   ],
   "source": [
    "Team_with_Max_runs=df1.loc[df1['result_margin'].idxmax()]\n",
    "Team_with_Max_runs"
   ]
  },
  {
   "cell_type": "code",
   "execution_count": 31,
   "id": "ccc06bcf",
   "metadata": {},
   "outputs": [
    {
     "data": {
      "text/plain": [
       "'Mumbai Indians'"
      ]
     },
     "execution_count": 31,
     "metadata": {},
     "output_type": "execute_result"
    }
   ],
   "source": [
    "Team_with_Max_runs_winner=df1.loc[df1['result_margin'].idxmax()]['winner']\n",
    "Team_with_Max_runs_winner"
   ]
  },
  {
   "cell_type": "code",
   "execution_count": 32,
   "id": "3aa5eb42",
   "metadata": {},
   "outputs": [
    {
     "data": {
      "text/plain": [
       "id                           336028\n",
       "season                      2007/08\n",
       "city                         Mumbai\n",
       "date                      5/21/2008\n",
       "match_type                   League\n",
       "player_of_match            SE Marsh\n",
       "venue              Wankhede Stadium\n",
       "team1                Mumbai Indians\n",
       "team2                  Punjab Kings\n",
       "toss_winner          Mumbai Indians\n",
       "toss_decision                 field\n",
       "winner                 Punjab Kings\n",
       "result                         runs\n",
       "result_margin                   1.0\n",
       "target_runs                   190.0\n",
       "target_overs                   20.0\n",
       "super_over                        N\n",
       "umpire1                   BF Bowden\n",
       "umpire2              GA Pratapkumar\n",
       "Name: 44, dtype: object"
      ]
     },
     "execution_count": 32,
     "metadata": {},
     "output_type": "execute_result"
    }
   ],
   "source": [
    "Team_with_Min_runs=df1.loc[df1['result_margin'].idxmin()]\n",
    "Team_with_Min_runs"
   ]
  },
  {
   "cell_type": "code",
   "execution_count": 33,
   "id": "d7cd4b09",
   "metadata": {},
   "outputs": [
    {
     "data": {
      "text/html": [
       "<div>\n",
       "<style scoped>\n",
       "    .dataframe tbody tr th:only-of-type {\n",
       "        vertical-align: middle;\n",
       "    }\n",
       "\n",
       "    .dataframe tbody tr th {\n",
       "        vertical-align: top;\n",
       "    }\n",
       "\n",
       "    .dataframe thead th {\n",
       "        text-align: right;\n",
       "    }\n",
       "</style>\n",
       "<table border=\"1\" class=\"dataframe\">\n",
       "  <thead>\n",
       "    <tr style=\"text-align: right;\">\n",
       "      <th></th>\n",
       "      <th>season</th>\n",
       "      <th>winner</th>\n",
       "    </tr>\n",
       "  </thead>\n",
       "  <tbody>\n",
       "    <tr>\n",
       "      <th>0</th>\n",
       "      <td>2008</td>\n",
       "      <td>Rajasthan Royals</td>\n",
       "    </tr>\n",
       "    <tr>\n",
       "      <th>1</th>\n",
       "      <td>2009</td>\n",
       "      <td>Deccan Chargers</td>\n",
       "    </tr>\n",
       "    <tr>\n",
       "      <th>2</th>\n",
       "      <td>2010</td>\n",
       "      <td>Chennai Super Kings</td>\n",
       "    </tr>\n",
       "    <tr>\n",
       "      <th>3</th>\n",
       "      <td>2011</td>\n",
       "      <td>Chennai Super Kings</td>\n",
       "    </tr>\n",
       "    <tr>\n",
       "      <th>4</th>\n",
       "      <td>2012</td>\n",
       "      <td>Kolkata Knight Riders</td>\n",
       "    </tr>\n",
       "    <tr>\n",
       "      <th>5</th>\n",
       "      <td>2013</td>\n",
       "      <td>Mumbai Indians</td>\n",
       "    </tr>\n",
       "    <tr>\n",
       "      <th>6</th>\n",
       "      <td>2014</td>\n",
       "      <td>Kolkata Knight Riders</td>\n",
       "    </tr>\n",
       "    <tr>\n",
       "      <th>7</th>\n",
       "      <td>2015</td>\n",
       "      <td>Mumbai Indians</td>\n",
       "    </tr>\n",
       "    <tr>\n",
       "      <th>8</th>\n",
       "      <td>2016</td>\n",
       "      <td>Sunrisers Hyderabad</td>\n",
       "    </tr>\n",
       "    <tr>\n",
       "      <th>9</th>\n",
       "      <td>2017</td>\n",
       "      <td>Mumbai Indians</td>\n",
       "    </tr>\n",
       "    <tr>\n",
       "      <th>10</th>\n",
       "      <td>2018</td>\n",
       "      <td>Chennai Super Kings</td>\n",
       "    </tr>\n",
       "    <tr>\n",
       "      <th>11</th>\n",
       "      <td>2019</td>\n",
       "      <td>Mumbai Indians</td>\n",
       "    </tr>\n",
       "    <tr>\n",
       "      <th>12</th>\n",
       "      <td>2020</td>\n",
       "      <td>Mumbai Indians</td>\n",
       "    </tr>\n",
       "    <tr>\n",
       "      <th>13</th>\n",
       "      <td>2021</td>\n",
       "      <td>Chennai Super Kings</td>\n",
       "    </tr>\n",
       "    <tr>\n",
       "      <th>14</th>\n",
       "      <td>2022</td>\n",
       "      <td>Gujarat Titans</td>\n",
       "    </tr>\n",
       "    <tr>\n",
       "      <th>15</th>\n",
       "      <td>2023</td>\n",
       "      <td>Chennai Super Kings</td>\n",
       "    </tr>\n",
       "  </tbody>\n",
       "</table>\n",
       "</div>"
      ],
      "text/plain": [
       "   season                 winner\n",
       "0    2008       Rajasthan Royals\n",
       "1    2009        Deccan Chargers\n",
       "2    2010    Chennai Super Kings\n",
       "3    2011    Chennai Super Kings\n",
       "4    2012  Kolkata Knight Riders\n",
       "5    2013         Mumbai Indians\n",
       "6    2014  Kolkata Knight Riders\n",
       "7    2015         Mumbai Indians\n",
       "8    2016    Sunrisers Hyderabad\n",
       "9    2017         Mumbai Indians\n",
       "10   2018    Chennai Super Kings\n",
       "11   2019         Mumbai Indians\n",
       "12   2020         Mumbai Indians\n",
       "13   2021    Chennai Super Kings\n",
       "14   2022         Gujarat Titans\n",
       "15   2023    Chennai Super Kings"
      ]
     },
     "execution_count": 33,
     "metadata": {},
     "output_type": "execute_result"
    }
   ],
   "source": [
    "#winning Teams for each year\n",
    "\n",
    "\n",
    "temp_df = df2.drop_duplicates(subset=['season'], keep='last')[['season', 'winner']].reset_index(drop=True)\n",
    "temp_df\n",
    "\n",
    "#WT=df1.drop_duplicates(subset = ['season'])\n",
    "#WT[['season','winner']].reset_index(drop=True)"
   ]
  },
  {
   "cell_type": "code",
   "execution_count": 34,
   "id": "34d05899",
   "metadata": {},
   "outputs": [
    {
     "data": {
      "text/html": [
       "<div>\n",
       "<style scoped>\n",
       "    .dataframe tbody tr th:only-of-type {\n",
       "        vertical-align: middle;\n",
       "    }\n",
       "\n",
       "    .dataframe tbody tr th {\n",
       "        vertical-align: top;\n",
       "    }\n",
       "\n",
       "    .dataframe thead th {\n",
       "        text-align: right;\n",
       "    }\n",
       "</style>\n",
       "<table border=\"1\" class=\"dataframe\">\n",
       "  <thead>\n",
       "    <tr style=\"text-align: right;\">\n",
       "      <th></th>\n",
       "      <th>season</th>\n",
       "      <th>winner</th>\n",
       "      <th>player_of_match</th>\n",
       "    </tr>\n",
       "  </thead>\n",
       "  <tbody>\n",
       "    <tr>\n",
       "      <th>0</th>\n",
       "      <td>2008</td>\n",
       "      <td>Rajasthan Royals</td>\n",
       "      <td>YK Pathan</td>\n",
       "    </tr>\n",
       "    <tr>\n",
       "      <th>1</th>\n",
       "      <td>2009</td>\n",
       "      <td>Deccan Chargers</td>\n",
       "      <td>A Kumble</td>\n",
       "    </tr>\n",
       "    <tr>\n",
       "      <th>2</th>\n",
       "      <td>2010</td>\n",
       "      <td>Chennai Super Kings</td>\n",
       "      <td>SK Raina</td>\n",
       "    </tr>\n",
       "    <tr>\n",
       "      <th>3</th>\n",
       "      <td>2011</td>\n",
       "      <td>Chennai Super Kings</td>\n",
       "      <td>M Vijay</td>\n",
       "    </tr>\n",
       "    <tr>\n",
       "      <th>4</th>\n",
       "      <td>2012</td>\n",
       "      <td>Kolkata Knight Riders</td>\n",
       "      <td>MS Bisla</td>\n",
       "    </tr>\n",
       "    <tr>\n",
       "      <th>5</th>\n",
       "      <td>2013</td>\n",
       "      <td>Mumbai Indians</td>\n",
       "      <td>KA Pollard</td>\n",
       "    </tr>\n",
       "    <tr>\n",
       "      <th>6</th>\n",
       "      <td>2014</td>\n",
       "      <td>Kolkata Knight Riders</td>\n",
       "      <td>MK Pandey</td>\n",
       "    </tr>\n",
       "    <tr>\n",
       "      <th>7</th>\n",
       "      <td>2015</td>\n",
       "      <td>Mumbai Indians</td>\n",
       "      <td>RG Sharma</td>\n",
       "    </tr>\n",
       "    <tr>\n",
       "      <th>8</th>\n",
       "      <td>2016</td>\n",
       "      <td>Sunrisers Hyderabad</td>\n",
       "      <td>BCJ Cutting</td>\n",
       "    </tr>\n",
       "    <tr>\n",
       "      <th>9</th>\n",
       "      <td>2017</td>\n",
       "      <td>Mumbai Indians</td>\n",
       "      <td>KH Pandya</td>\n",
       "    </tr>\n",
       "    <tr>\n",
       "      <th>10</th>\n",
       "      <td>2018</td>\n",
       "      <td>Chennai Super Kings</td>\n",
       "      <td>SR Watson</td>\n",
       "    </tr>\n",
       "    <tr>\n",
       "      <th>11</th>\n",
       "      <td>2019</td>\n",
       "      <td>Mumbai Indians</td>\n",
       "      <td>JJ Bumrah</td>\n",
       "    </tr>\n",
       "    <tr>\n",
       "      <th>12</th>\n",
       "      <td>2020</td>\n",
       "      <td>Mumbai Indians</td>\n",
       "      <td>TA Boult</td>\n",
       "    </tr>\n",
       "    <tr>\n",
       "      <th>13</th>\n",
       "      <td>2021</td>\n",
       "      <td>Chennai Super Kings</td>\n",
       "      <td>F du Plessis</td>\n",
       "    </tr>\n",
       "    <tr>\n",
       "      <th>14</th>\n",
       "      <td>2022</td>\n",
       "      <td>Gujarat Titans</td>\n",
       "      <td>HH Pandya</td>\n",
       "    </tr>\n",
       "    <tr>\n",
       "      <th>15</th>\n",
       "      <td>2023</td>\n",
       "      <td>Chennai Super Kings</td>\n",
       "      <td>DP Conway</td>\n",
       "    </tr>\n",
       "  </tbody>\n",
       "</table>\n",
       "</div>"
      ],
      "text/plain": [
       "   season                 winner player_of_match\n",
       "0    2008       Rajasthan Royals       YK Pathan\n",
       "1    2009        Deccan Chargers        A Kumble\n",
       "2    2010    Chennai Super Kings        SK Raina\n",
       "3    2011    Chennai Super Kings         M Vijay\n",
       "4    2012  Kolkata Knight Riders        MS Bisla\n",
       "5    2013         Mumbai Indians      KA Pollard\n",
       "6    2014  Kolkata Knight Riders       MK Pandey\n",
       "7    2015         Mumbai Indians       RG Sharma\n",
       "8    2016    Sunrisers Hyderabad     BCJ Cutting\n",
       "9    2017         Mumbai Indians       KH Pandya\n",
       "10   2018    Chennai Super Kings       SR Watson\n",
       "11   2019         Mumbai Indians       JJ Bumrah\n",
       "12   2020         Mumbai Indians        TA Boult\n",
       "13   2021    Chennai Super Kings    F du Plessis\n",
       "14   2022         Gujarat Titans       HH Pandya\n",
       "15   2023    Chennai Super Kings       DP Conway"
      ]
     },
     "execution_count": 34,
     "metadata": {},
     "output_type": "execute_result"
    }
   ],
   "source": [
    "#Man of the Match for each year Winning Team\n",
    "MOM=df2.drop_duplicates(subset=['season'], keep='last')[['season', 'winner','player_of_match']].reset_index(drop=True)\n",
    "MOM"
   ]
  },
  {
   "cell_type": "code",
   "execution_count": 40,
   "id": "198c8968",
   "metadata": {},
   "outputs": [
    {
     "data": {
      "text/html": [
       "<div>\n",
       "<style scoped>\n",
       "    .dataframe tbody tr th:only-of-type {\n",
       "        vertical-align: middle;\n",
       "    }\n",
       "\n",
       "    .dataframe tbody tr th {\n",
       "        vertical-align: top;\n",
       "    }\n",
       "\n",
       "    .dataframe thead th {\n",
       "        text-align: right;\n",
       "    }\n",
       "</style>\n",
       "<table border=\"1\" class=\"dataframe\">\n",
       "  <thead>\n",
       "    <tr style=\"text-align: right;\">\n",
       "      <th></th>\n",
       "      <th>Batsman</th>\n",
       "      <th>Runs</th>\n",
       "    </tr>\n",
       "  </thead>\n",
       "  <tbody>\n",
       "    <tr>\n",
       "      <th>0</th>\n",
       "      <td>V Kohli</td>\n",
       "      <td>6634</td>\n",
       "    </tr>\n",
       "    <tr>\n",
       "      <th>1</th>\n",
       "      <td>S Dhawan</td>\n",
       "      <td>6244</td>\n",
       "    </tr>\n",
       "    <tr>\n",
       "      <th>2</th>\n",
       "      <td>DA Warner</td>\n",
       "      <td>5883</td>\n",
       "    </tr>\n",
       "    <tr>\n",
       "      <th>3</th>\n",
       "      <td>RG Sharma</td>\n",
       "      <td>5881</td>\n",
       "    </tr>\n",
       "    <tr>\n",
       "      <th>4</th>\n",
       "      <td>SK Raina</td>\n",
       "      <td>5536</td>\n",
       "    </tr>\n",
       "    <tr>\n",
       "      <th>5</th>\n",
       "      <td>AB de Villiers</td>\n",
       "      <td>5181</td>\n",
       "    </tr>\n",
       "    <tr>\n",
       "      <th>6</th>\n",
       "      <td>CH Gayle</td>\n",
       "      <td>4997</td>\n",
       "    </tr>\n",
       "    <tr>\n",
       "      <th>7</th>\n",
       "      <td>MS Dhoni</td>\n",
       "      <td>4978</td>\n",
       "    </tr>\n",
       "    <tr>\n",
       "      <th>8</th>\n",
       "      <td>RV Uthappa</td>\n",
       "      <td>4954</td>\n",
       "    </tr>\n",
       "    <tr>\n",
       "      <th>9</th>\n",
       "      <td>KD Karthik</td>\n",
       "      <td>4377</td>\n",
       "    </tr>\n",
       "  </tbody>\n",
       "</table>\n",
       "</div>"
      ],
      "text/plain": [
       "          Batsman  Runs\n",
       "0         V Kohli  6634\n",
       "1        S Dhawan  6244\n",
       "2       DA Warner  5883\n",
       "3       RG Sharma  5881\n",
       "4        SK Raina  5536\n",
       "5  AB de Villiers  5181\n",
       "6        CH Gayle  4997\n",
       "7        MS Dhoni  4978\n",
       "8      RV Uthappa  4954\n",
       "9      KD Karthik  4377"
      ]
     },
     "execution_count": 40,
     "metadata": {},
     "output_type": "execute_result"
    }
   ],
   "source": [
    "#Highest Runs in IPL Seasons from 2008 to 2023\n",
    "HR=df3.groupby([\"batter\"])[\"batsman_run\"].sum().reset_index()\n",
    "HR.columns = [\"Batsman\", \"Runs\"]\n",
    "HR.sort_values(by = \"Runs\", ascending = False).head(10).reset_index(drop=True)"
   ]
  },
  {
   "cell_type": "code",
   "execution_count": 56,
   "id": "23d0fa48",
   "metadata": {},
   "outputs": [
    {
     "data": {
      "text/html": [
       "<div>\n",
       "<style scoped>\n",
       "    .dataframe tbody tr th:only-of-type {\n",
       "        vertical-align: middle;\n",
       "    }\n",
       "\n",
       "    .dataframe tbody tr th {\n",
       "        vertical-align: top;\n",
       "    }\n",
       "\n",
       "    .dataframe thead th {\n",
       "        text-align: right;\n",
       "    }\n",
       "</style>\n",
       "<table border=\"1\" class=\"dataframe\">\n",
       "  <thead>\n",
       "    <tr style=\"text-align: right;\">\n",
       "      <th></th>\n",
       "      <th>Bowlers</th>\n",
       "      <th>Wickets</th>\n",
       "    </tr>\n",
       "  </thead>\n",
       "  <tbody>\n",
       "    <tr>\n",
       "      <th>0</th>\n",
       "      <td>DJ Bravo</td>\n",
       "      <td>207</td>\n",
       "    </tr>\n",
       "    <tr>\n",
       "      <th>1</th>\n",
       "      <td>SL Malinga</td>\n",
       "      <td>188</td>\n",
       "    </tr>\n",
       "    <tr>\n",
       "      <th>2</th>\n",
       "      <td>A Mishra</td>\n",
       "      <td>175</td>\n",
       "    </tr>\n",
       "    <tr>\n",
       "      <th>3</th>\n",
       "      <td>R Ashwin</td>\n",
       "      <td>174</td>\n",
       "    </tr>\n",
       "    <tr>\n",
       "      <th>4</th>\n",
       "      <td>YS Chahal</td>\n",
       "      <td>172</td>\n",
       "    </tr>\n",
       "    <tr>\n",
       "      <th>5</th>\n",
       "      <td>SP Narine</td>\n",
       "      <td>171</td>\n",
       "    </tr>\n",
       "    <tr>\n",
       "      <th>6</th>\n",
       "      <td>B Kumar</td>\n",
       "      <td>165</td>\n",
       "    </tr>\n",
       "    <tr>\n",
       "      <th>7</th>\n",
       "      <td>PP Chawla</td>\n",
       "      <td>165</td>\n",
       "    </tr>\n",
       "    <tr>\n",
       "      <th>8</th>\n",
       "      <td>Harbhajan Singh</td>\n",
       "      <td>161</td>\n",
       "    </tr>\n",
       "    <tr>\n",
       "      <th>9</th>\n",
       "      <td>JJ Bumrah</td>\n",
       "      <td>161</td>\n",
       "    </tr>\n",
       "  </tbody>\n",
       "</table>\n",
       "</div>"
      ],
      "text/plain": [
       "           Bowlers  Wickets\n",
       "0         DJ Bravo      207\n",
       "1       SL Malinga      188\n",
       "2         A Mishra      175\n",
       "3         R Ashwin      174\n",
       "4        YS Chahal      172\n",
       "5        SP Narine      171\n",
       "6          B Kumar      165\n",
       "7        PP Chawla      165\n",
       "8  Harbhajan Singh      161\n",
       "9        JJ Bumrah      161"
      ]
     },
     "execution_count": 56,
     "metadata": {},
     "output_type": "execute_result"
    }
   ],
   "source": [
    "#Highest Wickets in IPL Seasons from 2008 to 2023\n",
    "HR=df3.groupby([\"bowler\"])[\"isWicketDelivery\"].sum().reset_index()\n",
    "HR.columns = [\"Bowlers\", \"Wickets\"]\n",
    "HR.sort_values(by = \"Wickets\", ascending = False).head(10).reset_index(drop=True)"
   ]
  },
  {
   "cell_type": "code",
   "execution_count": 53,
   "id": "8284ab2b",
   "metadata": {},
   "outputs": [
    {
     "data": {
      "image/png": "[encoded data removed]",
      "text/plain": [
       "<Figure size 640x480 with 1 Axes>"
      ]
     },
     "metadata": {},
     "output_type": "display_data"
    }
   ],
   "source": [
    "toss= df1.toss_decision.value_counts()\n",
    "labels = (np.array(toss.index))\n",
    "sizes = (np.array((toss / toss.sum())*100))\n",
    "colors = ['yellow', 'lightblue']\n",
    "plt.pie(sizes, labels=labels, colors=colors,\n",
    "        autopct='%1.1f%%', shadow=True, startangle=90)\n",
    "plt.title(\"Percantage of Toss Decision\")\n",
    "plt.show()\n",
    "sns.set_context(\"paper\", font_scale=0.9)\n",
    "          "
   ]
  },
  {
   "cell_type": "code",
   "execution_count": null,
   "id": "f517844c",
   "metadata": {},
   "outputs": [],
   "source": []
  }
 ],
 "metadata": {
  "kernelspec": {
   "display_name": "Python 3 (ipykernel)",
   "language": "python",
   "name": "python3"
  },
  "language_info": {
   "codemirror_mode": {
    "name": "ipython",
    "version": 3
   },
   "file_extension": ".py",
   "mimetype": "text/x-python",
   "name": "python",
   "nbconvert_exporter": "python",
   "pygments_lexer": "ipython3",
   "version": "3.11.7"
  }
 },
 "nbformat": 4,
 "nbformat_minor": 5
}
