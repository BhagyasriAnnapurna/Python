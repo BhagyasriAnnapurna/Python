{
 "cells": [
  {
   "cell_type": "code",
   "execution_count": 1,
   "id": "bcbba5e1",
   "metadata": {},
   "outputs": [
    {
     "ename": "FileNotFoundError",
     "evalue": "[Errno 2] No such file or directory: 'jaya.txt'",
     "output_type": "error",
     "traceback": [
      "\u001b[1;31m---------------------------------------------------------------------------\u001b[0m",
      "\u001b[1;31mFileNotFoundError\u001b[0m                         Traceback (most recent call last)",
      "Input \u001b[1;32mIn [1]\u001b[0m, in \u001b[0;36m<cell line: 2>\u001b[1;34m()\u001b[0m\n\u001b[0;32m      1\u001b[0m \u001b[38;5;66;03m#file operation\u001b[39;00m\n\u001b[1;32m----> 2\u001b[0m f\u001b[38;5;241m=\u001b[39m\u001b[38;5;28;43mopen\u001b[39;49m\u001b[43m(\u001b[49m\u001b[38;5;124;43m'\u001b[39;49m\u001b[38;5;124;43mjaya.txt\u001b[39;49m\u001b[38;5;124;43m'\u001b[39;49m\u001b[43m)\u001b[49m\n",
      "\u001b[1;31mFileNotFoundError\u001b[0m: [Errno 2] No such file or directory: 'jaya.txt'"
     ]
    }
   ],
   "source": [
    "#file operation\n",
    "f=open('jaya.txt')"
   ]
  },
  {
   "cell_type": "code",
   "execution_count": 2,
   "id": "8a71ba6c",
   "metadata": {},
   "outputs": [],
   "source": [
    "f=open('jaya.txt','w')"
   ]
  },
  {
   "cell_type": "code",
   "execution_count": 3,
   "id": "ae895334",
   "metadata": {},
   "outputs": [
    {
     "name": "stdout",
     "output_type": "stream",
     "text": [
      " Volume in drive C is SSD\n",
      " Volume Serial Number is 9AC6-C990\n",
      "\n",
      " Directory of C:\\Users\\Dell\\python modules\\in - python\n",
      "\n",
      "10/21/2022  09:28 AM    <DIR>          .\n",
      "10/21/2022  09:28 AM    <DIR>          ..\n",
      "10/21/2022  06:45 AM    <DIR>          .ipynb_checkpoints\n",
      "09/20/2022  10:44 AM            13,486 1.python variable .ipynb\n",
      "10/18/2022  04:19 PM            98,932 2. Python string basic.ipynb\n",
      "10/18/2022  05:03 PM            96,297 3. List , tuples , dict , set .ipynb\n",
      "10/12/2022  12:47 PM            36,373 4.conditional statement - if , elif, else (1).ipynb\n",
      "09/29/2022  11:15 AM            46,046 5.for loop practice.ipynb\n",
      "10/20/2022  02:27 PM           467,969 6.while loop and basic of function .ipynb\n",
      "10/20/2022  03:09 PM            56,364 7.Function continued .ipynb\n",
      "10/04/2022  11:31 AM            15,447 Exception handling revision .ipynb\n",
      "10/04/2022  10:16 AM           250,249 Exception_handling_revision_class.ipynb\n",
      "10/21/2022  09:28 AM            13,268 exception_k.ipynb\n",
      "10/20/2022  09:52 AM            15,378 fileoperations.ipynb\n",
      "10/19/2022  11:15 PM       182,443,835 iterator , generator , map , reduce , filter , basic file operation  (3).ipynb\n",
      "10/21/2022  09:33 AM                 0 jaya.txt\n",
      "10/21/2022  06:48 AM            94,120 pandas_basic.ipynb\n",
      "10/20/2022  09:34 AM                 2 test.jaya\n",
      "10/20/2022  09:29 AM                54 test1.txt\n",
      "10/20/2022  09:32 AM                21 test2.txt\n",
      "10/20/2022  09:43 AM                57 test5.txt\n",
      "10/20/2022  11:31 AM            54,599 Untitled.ipynb\n",
      "10/18/2022  03:17 PM             2,981 Untitled1.ipynb\n",
      "              20 File(s)    183,705,478 bytes\n",
      "               3 Dir(s)  35,547,385,856 bytes free\n"
     ]
    }
   ],
   "source": [
    "ls"
   ]
  },
  {
   "cell_type": "code",
   "execution_count": 4,
   "id": "537711b1",
   "metadata": {},
   "outputs": [],
   "source": [
    "f=open('jaya.txt','r') #inorder to read the file\n",
    "#w+ = both writing and reading operation\n",
    "#r = only read operation\n",
    "#w = only write operation"
   ]
  },
  {
   "cell_type": "code",
   "execution_count": 3,
   "id": "c792a8bf",
   "metadata": {},
   "outputs": [
    {
     "data": {
      "text/plain": [
       "36"
      ]
     },
     "execution_count": 3,
     "metadata": {},
     "output_type": "execute_result"
    }
   ],
   "source": [
    "f.write(\"this is my very first file operation\")"
   ]
  },
  {
   "cell_type": "code",
   "execution_count": 5,
   "id": "bf4b950d",
   "metadata": {},
   "outputs": [],
   "source": [
    "f.close()"
   ]
  },
  {
   "cell_type": "code",
   "execution_count": 6,
   "id": "80907541",
   "metadata": {},
   "outputs": [
    {
     "name": "stdout",
     "output_type": "stream",
     "text": [
      " Volume in drive C is SSD\n",
      " Volume Serial Number is 9AC6-C990\n",
      "\n",
      " Directory of C:\\Users\\Dell\\python modules\\in - python\n",
      "\n",
      "10/22/2022  06:01 PM    <DIR>          .\n",
      "10/22/2022  06:01 PM    <DIR>          ..\n",
      "10/22/2022  03:06 PM    <DIR>          .ipynb_checkpoints\n",
      "09/20/2022  10:44 AM            13,486 1.python variable .ipynb\n",
      "10/18/2022  04:19 PM            98,932 2. Python string basic.ipynb\n",
      "10/18/2022  05:03 PM            96,297 3. List , tuples , dict , set .ipynb\n",
      "10/12/2022  12:47 PM            36,373 4.conditional statement - if , elif, else (1).ipynb\n",
      "09/29/2022  11:15 AM            46,046 5.for loop practice.ipynb\n",
      "10/20/2022  02:27 PM           467,969 6.while loop and basic of function .ipynb\n",
      "10/20/2022  03:09 PM            56,364 7.Function continued .ipynb\n",
      "10/22/2022  11:38 AM            51,832 Attribute DataSet.xlsx\n",
      "10/04/2022  11:31 AM            15,447 Exception handling revision .ipynb\n",
      "10/04/2022  10:16 AM           250,249 Exception_handling_revision_class.ipynb\n",
      "10/21/2022  09:28 AM            13,268 exception_k.ipynb\n",
      "10/22/2022  06:01 PM            18,144 fileoperations.ipynb\n",
      "10/22/2022  11:39 AM             3,103 haberman.csv\n",
      "10/19/2022  11:15 PM       182,443,835 iterator , generator , map , reduce , filter , basic file operation  (3).ipynb\n",
      "10/22/2022  06:05 PM                36 jaya.txt\n",
      "10/22/2022  05:35 PM           429,825 pandas class 2.ipynb\n",
      "10/22/2022  03:05 PM           166,393 pandas_basic.ipynb\n",
      "10/22/2022  05:34 PM        10,870,279 sales_data_final.csv\n",
      "10/22/2022  11:53 AM             3,103 test.csv\n",
      "10/22/2022  03:05 PM            94,421 test123.json\n",
      "10/20/2022  11:31 AM            54,599 Untitled.ipynb\n",
      "10/18/2022  03:17 PM             2,981 Untitled1.ipynb\n",
      "              22 File(s)    195,232,982 bytes\n",
      "               3 Dir(s)  35,134,947,328 bytes free\n"
     ]
    }
   ],
   "source": [
    "ls"
   ]
  },
  {
   "cell_type": "code",
   "execution_count": 10,
   "id": "61faf757",
   "metadata": {},
   "outputs": [],
   "source": [
    "f1=open(\"test1.txt\",'w')"
   ]
  },
  {
   "cell_type": "code",
   "execution_count": 11,
   "id": "845dc8e6",
   "metadata": {},
   "outputs": [
    {
     "data": {
      "text/plain": [
       "54"
      ]
     },
     "execution_count": 11,
     "metadata": {},
     "output_type": "execute_result"
    }
   ],
   "source": [
    "f1.write(\"this is a file operation i am trying to do in my class\")"
   ]
  },
  {
   "cell_type": "code",
   "execution_count": 12,
   "id": "65751c36",
   "metadata": {},
   "outputs": [],
   "source": [
    "f1.close()"
   ]
  },
  {
   "cell_type": "code",
   "execution_count": 13,
   "id": "808a0a57",
   "metadata": {},
   "outputs": [
    {
     "name": "stdout",
     "output_type": "stream",
     "text": [
      " Volume in drive C is SSD\n",
      " Volume Serial Number is 9AC6-C990\n",
      "\n",
      " Directory of C:\\Users\\Dell\\python modules\\in - python\n",
      "\n",
      "10/20/2022  09:29 AM    <DIR>          .\n",
      "10/20/2022  09:29 AM    <DIR>          ..\n",
      "10/20/2022  09:26 AM    <DIR>          .ipynb_checkpoints\n",
      "09/20/2022  10:44 AM            13,486 1.python variable .ipynb\n",
      "10/18/2022  04:19 PM            98,932 2. Python string basic.ipynb\n",
      "10/18/2022  05:03 PM            96,297 3. List , tuples , dict , set .ipynb\n",
      "10/12/2022  12:47 PM            36,373 4.conditional statement - if , elif, else (1).ipynb\n",
      "09/29/2022  11:15 AM            46,046 5.for loop practice.ipynb\n",
      "10/19/2022  11:43 AM           467,458 6.while loop and basic of function .ipynb\n",
      "10/19/2022  12:09 PM            55,327 7.Function continued .ipynb\n",
      "10/04/2022  11:31 AM            15,447 Exception handling revision .ipynb\n",
      "10/04/2022  10:16 AM           250,249 Exception_handling_revision_class.ipynb\n",
      "10/19/2022  10:40 AM            10,762 exception_k.ipynb\n",
      "10/20/2022  09:28 AM             6,522 fileoperations.ipynb\n",
      "10/19/2022  11:15 PM       182,443,835 iterator , generator , map , reduce , filter , basic file operation  (3).ipynb\n",
      "10/20/2022  09:28 AM                36 jaya.txt\n",
      "10/20/2022  09:29 AM                54 test1.txt\n",
      "10/03/2022  01:02 PM            54,384 Untitled.ipynb\n",
      "10/18/2022  03:17 PM             2,981 Untitled1.ipynb\n",
      "              16 File(s)    183,598,189 bytes\n",
      "               3 Dir(s)  35,298,492,416 bytes free\n"
     ]
    }
   ],
   "source": [
    "ls"
   ]
  },
  {
   "cell_type": "code",
   "execution_count": 7,
   "id": "0b40877f",
   "metadata": {},
   "outputs": [],
   "source": [
    "l=[1,2,3,4,5,6,7] # try to store this list in the file permanently"
   ]
  },
  {
   "cell_type": "code",
   "execution_count": 8,
   "id": "072b99fb",
   "metadata": {},
   "outputs": [],
   "source": [
    "f2=open(\"test2.txt\",'w')"
   ]
  },
  {
   "cell_type": "code",
   "execution_count": 9,
   "id": "4321e620",
   "metadata": {},
   "outputs": [
    {
     "ename": "TypeError",
     "evalue": "write() argument must be str, not list",
     "output_type": "error",
     "traceback": [
      "\u001b[1;31m---------------------------------------------------------------------------\u001b[0m",
      "\u001b[1;31mTypeError\u001b[0m                                 Traceback (most recent call last)",
      "Input \u001b[1;32mIn [9]\u001b[0m, in \u001b[0;36m<cell line: 1>\u001b[1;34m()\u001b[0m\n\u001b[1;32m----> 1\u001b[0m \u001b[43mf2\u001b[49m\u001b[38;5;241;43m.\u001b[39;49m\u001b[43mwrite\u001b[49m\u001b[43m(\u001b[49m\u001b[43ml\u001b[49m\u001b[43m)\u001b[49m\n",
      "\u001b[1;31mTypeError\u001b[0m: write() argument must be str, not list"
     ]
    }
   ],
   "source": [
    "f2.write(l)"
   ]
  },
  {
   "cell_type": "code",
   "execution_count": 10,
   "id": "8e7bc5b5",
   "metadata": {},
   "outputs": [
    {
     "data": {
      "text/plain": [
       "21"
      ]
     },
     "execution_count": 10,
     "metadata": {},
     "output_type": "execute_result"
    }
   ],
   "source": [
    "f2.write(str(l))"
   ]
  },
  {
   "cell_type": "code",
   "execution_count": 11,
   "id": "3ccd2712",
   "metadata": {},
   "outputs": [],
   "source": [
    "f2.close()"
   ]
  },
  {
   "cell_type": "code",
   "execution_count": 12,
   "id": "4cc80330",
   "metadata": {},
   "outputs": [
    {
     "name": "stdout",
     "output_type": "stream",
     "text": [
      " Volume in drive C is SSD\n",
      " Volume Serial Number is 9AC6-C990\n",
      "\n",
      " Directory of C:\\Users\\Dell\\python modules\\in - python\n",
      "\n",
      "10/22/2022  06:06 PM    <DIR>          .\n",
      "10/22/2022  06:06 PM    <DIR>          ..\n",
      "10/22/2022  03:06 PM    <DIR>          .ipynb_checkpoints\n",
      "09/20/2022  10:44 AM            13,486 1.python variable .ipynb\n",
      "10/18/2022  04:19 PM            98,932 2. Python string basic.ipynb\n",
      "10/18/2022  05:03 PM            96,297 3. List , tuples , dict , set .ipynb\n",
      "10/12/2022  12:47 PM            36,373 4.conditional statement - if , elif, else (1).ipynb\n",
      "09/29/2022  11:15 AM            46,046 5.for loop practice.ipynb\n",
      "10/20/2022  02:27 PM           467,969 6.while loop and basic of function .ipynb\n",
      "10/20/2022  03:09 PM            56,364 7.Function continued .ipynb\n",
      "10/22/2022  11:38 AM            51,832 Attribute DataSet.xlsx\n",
      "10/04/2022  11:31 AM            15,447 Exception handling revision .ipynb\n",
      "10/04/2022  10:16 AM           250,249 Exception_handling_revision_class.ipynb\n",
      "10/21/2022  09:28 AM            13,268 exception_k.ipynb\n",
      "10/22/2022  06:05 PM            18,304 fileoperations.ipynb\n",
      "10/22/2022  11:39 AM             3,103 haberman.csv\n",
      "10/19/2022  11:15 PM       182,443,835 iterator , generator , map , reduce , filter , basic file operation  (3).ipynb\n",
      "10/22/2022  06:05 PM                36 jaya.txt\n",
      "10/22/2022  05:35 PM           429,825 pandas class 2.ipynb\n",
      "10/22/2022  03:05 PM           166,393 pandas_basic.ipynb\n",
      "10/22/2022  05:34 PM        10,870,279 sales_data_final.csv\n",
      "10/22/2022  11:53 AM             3,103 test.csv\n",
      "10/22/2022  03:05 PM            94,421 test123.json\n",
      "10/22/2022  06:07 PM                21 test2.txt\n",
      "10/20/2022  11:31 AM            54,599 Untitled.ipynb\n",
      "10/18/2022  03:17 PM             2,981 Untitled1.ipynb\n",
      "              23 File(s)    195,233,163 bytes\n",
      "               3 Dir(s)  35,133,734,912 bytes free\n"
     ]
    }
   ],
   "source": [
    "ls"
   ]
  },
  {
   "cell_type": "code",
   "execution_count": 20,
   "id": "5cef5760",
   "metadata": {},
   "outputs": [],
   "source": [
    "#you can create our own file extension\n",
    "f3=open(\"test.xlsx\",'w')\n",
    "f3.write(\"hi123\")\n",
    "f3.close()"
   ]
  },
  {
   "cell_type": "code",
   "execution_count": 18,
   "id": "70fe62f9",
   "metadata": {},
   "outputs": [
    {
     "name": "stdout",
     "output_type": "stream",
     "text": [
      " Volume in drive C is SSD\n",
      " Volume Serial Number is 9AC6-C990\n",
      "\n",
      " Directory of C:\\Users\\Dell\\python modules\\in - python\n",
      "\n",
      "10/22/2022  06:09 PM    <DIR>          .\n",
      "10/22/2022  06:09 PM    <DIR>          ..\n",
      "10/22/2022  03:06 PM    <DIR>          .ipynb_checkpoints\n",
      "09/20/2022  10:44 AM            13,486 1.python variable .ipynb\n",
      "10/18/2022  04:19 PM            98,932 2. Python string basic.ipynb\n",
      "10/18/2022  05:03 PM            96,297 3. List , tuples , dict , set .ipynb\n",
      "10/12/2022  12:47 PM            36,373 4.conditional statement - if , elif, else (1).ipynb\n",
      "09/29/2022  11:15 AM            46,046 5.for loop practice.ipynb\n",
      "10/20/2022  02:27 PM           467,969 6.while loop and basic of function .ipynb\n",
      "10/20/2022  03:09 PM            56,364 7.Function continued .ipynb\n",
      "10/22/2022  11:38 AM            51,832 Attribute DataSet.xlsx\n",
      "10/04/2022  11:31 AM            15,447 Exception handling revision .ipynb\n",
      "10/04/2022  10:16 AM           250,249 Exception_handling_revision_class.ipynb\n",
      "10/21/2022  09:28 AM            13,268 exception_k.ipynb\n",
      "10/22/2022  06:09 PM            21,099 fileoperations.ipynb\n",
      "10/22/2022  11:39 AM             3,103 haberman.csv\n",
      "10/19/2022  11:15 PM       182,443,835 iterator , generator , map , reduce , filter , basic file operation  (3).ipynb\n",
      "10/22/2022  06:05 PM                36 jaya.txt\n",
      "10/22/2022  05:35 PM           429,825 pandas class 2.ipynb\n",
      "10/22/2022  03:05 PM           166,393 pandas_basic.ipynb\n",
      "10/22/2022  05:34 PM        10,870,279 sales_data_final.csv\n",
      "10/22/2022  11:53 AM             3,103 test.csv\n",
      "10/22/2022  06:08 PM                 2 test.jaya\n",
      "10/22/2022  06:09 PM                 5 test.xlsx\n",
      "10/22/2022  03:05 PM            94,421 test123.json\n",
      "10/22/2022  06:07 PM                21 test2.txt\n",
      "10/20/2022  11:31 AM            54,599 Untitled.ipynb\n",
      "10/18/2022  03:17 PM             2,981 Untitled1.ipynb\n",
      "              25 File(s)    195,235,965 bytes\n",
      "               3 Dir(s)  35,135,565,824 bytes free\n"
     ]
    }
   ],
   "source": [
    "ls"
   ]
  },
  {
   "cell_type": "code",
   "execution_count": 27,
   "id": "55b37c4a",
   "metadata": {},
   "outputs": [
    {
     "name": "stdout",
     "output_type": "stream",
     "text": [
      "Overwriting test5.txt\n"
     ]
    }
   ],
   "source": [
    "%%writefile test5.txt\n",
    "this is my pythonthis is my python\n",
    "this is my python\n",
    "this is my python\n",
    "this is my python\n",
    "\n"
   ]
  },
  {
   "cell_type": "code",
   "execution_count": 28,
   "id": "bea52e2c",
   "metadata": {},
   "outputs": [],
   "source": [
    "f=open('test5.txt','r')"
   ]
  },
  {
   "cell_type": "code",
   "execution_count": 29,
   "id": "98c31526",
   "metadata": {},
   "outputs": [
    {
     "data": {
      "text/plain": [
       "'this is my pythonthis is my python\\nthis is my python\\nthis is my python\\nthis is my python\\n\\n'"
      ]
     },
     "execution_count": 29,
     "metadata": {},
     "output_type": "execute_result"
    }
   ],
   "source": [
    "f.read()"
   ]
  },
  {
   "cell_type": "code",
   "execution_count": 30,
   "id": "b2faf42d",
   "metadata": {},
   "outputs": [
    {
     "data": {
      "text/plain": [
       "''"
      ]
     },
     "execution_count": 30,
     "metadata": {},
     "output_type": "execute_result"
    }
   ],
   "source": [
    "#if i again call the read operation, it gives blank because, whenever it is reading file pointer  will go to the last line after that there is no data\n",
    "#the pointer is exhausted\n",
    "f.read()"
   ]
  },
  {
   "cell_type": "code",
   "execution_count": 31,
   "id": "b8158202",
   "metadata": {},
   "outputs": [
    {
     "data": {
      "text/plain": [
       "0"
      ]
     },
     "execution_count": 31,
     "metadata": {},
     "output_type": "execute_result"
    }
   ],
   "source": [
    "#set the pointer, seek is used to set the pointer in a particular position\n",
    "f.seek(0)"
   ]
  },
  {
   "cell_type": "code",
   "execution_count": 32,
   "id": "ca1994ae",
   "metadata": {},
   "outputs": [
    {
     "data": {
      "text/plain": [
       "'this is my pythonthis is my python\\nthis is my python\\nthis is my python\\nthis is my python\\n\\n'"
      ]
     },
     "execution_count": 32,
     "metadata": {},
     "output_type": "execute_result"
    }
   ],
   "source": [
    "#now i can read the file again\n",
    "f.read()"
   ]
  },
  {
   "cell_type": "code",
   "execution_count": 36,
   "id": "b98407c4",
   "metadata": {},
   "outputs": [
    {
     "data": {
      "text/plain": [
       "0"
      ]
     },
     "execution_count": 36,
     "metadata": {},
     "output_type": "execute_result"
    }
   ],
   "source": [
    "f.seek(0)"
   ]
  },
  {
   "cell_type": "code",
   "execution_count": 34,
   "id": "8fbca6df",
   "metadata": {},
   "outputs": [
    {
     "data": {
      "text/plain": [
       "'s my pythonthis is my python\\nthis is my python\\nthis is my python\\nthis is my python\\n\\n'"
      ]
     },
     "execution_count": 34,
     "metadata": {},
     "output_type": "execute_result"
    }
   ],
   "source": [
    "f.read()"
   ]
  },
  {
   "cell_type": "code",
   "execution_count": 27,
   "id": "c2821e9d",
   "metadata": {},
   "outputs": [],
   "source": [
    "f1=open('test5.txt')"
   ]
  },
  {
   "cell_type": "code",
   "execution_count": 37,
   "id": "51ab6beb",
   "metadata": {},
   "outputs": [
    {
     "data": {
      "text/plain": [
       "0"
      ]
     },
     "execution_count": 37,
     "metadata": {},
     "output_type": "execute_result"
    }
   ],
   "source": [
    "#tell will give the index of the ppointer in the file\n",
    "f.tell()"
   ]
  },
  {
   "cell_type": "code",
   "execution_count": 33,
   "id": "aeb367de",
   "metadata": {},
   "outputs": [
    {
     "data": {
      "text/plain": [
       "'this is my python\\nthis is my pythonthis is my pythonvv\\nece\\nhi\\nc section\\n'"
      ]
     },
     "execution_count": 33,
     "metadata": {},
     "output_type": "execute_result"
    }
   ],
   "source": [
    "f1.read()"
   ]
  },
  {
   "cell_type": "code",
   "execution_count": 49,
   "id": "e09e1651",
   "metadata": {},
   "outputs": [
    {
     "data": {
      "text/plain": [
       "57"
      ]
     },
     "execution_count": 49,
     "metadata": {},
     "output_type": "execute_result"
    }
   ],
   "source": [
    "f1.tell()"
   ]
  },
  {
   "cell_type": "code",
   "execution_count": null,
   "id": "bbf68948",
   "metadata": {},
   "outputs": [],
   "source": []
  }
 ],
 "metadata": {
  "kernelspec": {
   "display_name": "Python 3 (ipykernel)",
   "language": "python",
   "name": "python3"
  },
  "language_info": {
   "codemirror_mode": {
    "name": "ipython",
    "version": 3
   },
   "file_extension": ".py",
   "mimetype": "text/x-python",
   "name": "python",
   "nbconvert_exporter": "python",
   "pygments_lexer": "ipython3",
   "version": "3.9.12"
  }
 },
 "nbformat": 4,
 "nbformat_minor": 5
}
