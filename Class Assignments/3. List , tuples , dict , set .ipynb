{
 "cells": [
  {
   "cell_type": "code",
   "execution_count": 23,
   "id": "6aa8fce0",
   "metadata": {},
   "outputs": [],
   "source": []
  },
  {
   "cell_type": "markdown",
   "id": "5b4c9172",
   "metadata": {},
   "source": [
    "# LIST"
   ]
  },
  {
   "cell_type": "code",
   "execution_count": null,
   "id": "4d5606aa",
   "metadata": {},
   "outputs": [],
   "source": []
  },
  {
   "cell_type": "code",
   "execution_count": 2,
   "id": "e1719fe0",
   "metadata": {},
   "outputs": [],
   "source": [
    "l = [1,2,3,4,5, \"jaya\" , 45.67, True]"
   ]
  },
  {
   "cell_type": "code",
   "execution_count": 19,
   "id": "88a616d3",
   "metadata": {},
   "outputs": [
    {
     "data": {
      "text/plain": [
       "1"
      ]
     },
     "execution_count": 19,
     "metadata": {},
     "output_type": "execute_result"
    }
   ],
   "source": [
    "l[0]"
   ]
  },
  {
   "cell_type": "code",
   "execution_count": 20,
   "id": "0507b73f",
   "metadata": {},
   "outputs": [
    {
     "data": {
      "text/plain": [
       "8"
      ]
     },
     "execution_count": 20,
     "metadata": {},
     "output_type": "execute_result"
    }
   ],
   "source": [
    "len(l)"
   ]
  },
  {
   "cell_type": "code",
   "execution_count": 3,
   "id": "ba5eb6aa",
   "metadata": {},
   "outputs": [
    {
     "data": {
      "text/plain": [
       "True"
      ]
     },
     "execution_count": 3,
     "metadata": {},
     "output_type": "execute_result"
    }
   ],
   "source": [
    "l[-1]"
   ]
  },
  {
   "cell_type": "code",
   "execution_count": 4,
   "id": "fed3fabb",
   "metadata": {},
   "outputs": [
    {
     "data": {
      "text/plain": [
       "8"
      ]
     },
     "execution_count": 4,
     "metadata": {},
     "output_type": "execute_result"
    }
   ],
   "source": [
    "len(l)"
   ]
  },
  {
   "cell_type": "code",
   "execution_count": 5,
   "id": "a22593bb",
   "metadata": {},
   "outputs": [
    {
     "data": {
      "text/plain": [
       "[1, 2, 3, 4, 5]"
      ]
     },
     "execution_count": 5,
     "metadata": {},
     "output_type": "execute_result"
    }
   ],
   "source": [
    "l[0:5]"
   ]
  },
  {
   "cell_type": "code",
   "execution_count": 3,
   "id": "9ec8246d",
   "metadata": {},
   "outputs": [
    {
     "data": {
      "text/plain": [
       "[1, 2, 3, 4, 5, 'jaya', 45.67, True]"
      ]
     },
     "execution_count": 3,
     "metadata": {},
     "output_type": "execute_result"
    }
   ],
   "source": [
    "l[::1]"
   ]
  },
  {
   "cell_type": "code",
   "execution_count": 2,
   "id": "325e5983",
   "metadata": {},
   "outputs": [
    {
     "data": {
      "text/plain": [
       "[1, 2, 3, 4, 5, 'jaya', 45.67, True]"
      ]
     },
     "execution_count": 2,
     "metadata": {},
     "output_type": "execute_result"
    }
   ],
   "source": [
    "l"
   ]
  },
  {
   "cell_type": "code",
   "execution_count": 7,
   "id": "4a5c6b2d",
   "metadata": {},
   "outputs": [
    {
     "data": {
      "text/plain": [
       "[1, 3, 5, 45.67]"
      ]
     },
     "execution_count": 7,
     "metadata": {},
     "output_type": "execute_result"
    }
   ],
   "source": [
    "l[0:100:2]"
   ]
  },
  {
   "cell_type": "code",
   "execution_count": 9,
   "id": "7f8fa5d8",
   "metadata": {},
   "outputs": [
    {
     "data": {
      "text/plain": [
       "[1, 2, 3, 4, 5, 'jaya', 45.67, True]"
      ]
     },
     "execution_count": 9,
     "metadata": {},
     "output_type": "execute_result"
    }
   ],
   "source": [
    "l"
   ]
  },
  {
   "cell_type": "code",
   "execution_count": 4,
   "id": "31faac26",
   "metadata": {},
   "outputs": [
    {
     "data": {
      "text/plain": [
       "[True, 45.67, 'jaya', 5, 4, 3, 2]"
      ]
     },
     "execution_count": 4,
     "metadata": {},
     "output_type": "execute_result"
    }
   ],
   "source": [
    "l[8:0:-1]"
   ]
  },
  {
   "cell_type": "code",
   "execution_count": 11,
   "id": "d1ac7b2f",
   "metadata": {},
   "outputs": [
    {
     "data": {
      "text/plain": [
       "[1, 2, 3]"
      ]
     },
     "execution_count": 11,
     "metadata": {},
     "output_type": "execute_result"
    }
   ],
   "source": [
    "l[:3]"
   ]
  },
  {
   "cell_type": "code",
   "execution_count": 6,
   "id": "f3a88528",
   "metadata": {},
   "outputs": [
    {
     "data": {
      "text/plain": [
       "[1, 2, 3, 4, 5, 'jaya', 45.67, True, 'krish']"
      ]
     },
     "execution_count": 6,
     "metadata": {},
     "output_type": "execute_result"
    }
   ],
   "source": [
    "l+[\"krish\"]"
   ]
  },
  {
   "cell_type": "code",
   "execution_count": 7,
   "id": "9c50fc6c",
   "metadata": {},
   "outputs": [
    {
     "data": {
      "text/plain": [
       "[1, 2, 3, 4, 5, 'jaya', 45.67, True, 1, 2, 3, 4, 5, 'jaya', 45.67, True]"
      ]
     },
     "execution_count": 7,
     "metadata": {},
     "output_type": "execute_result"
    }
   ],
   "source": [
    "l * 2"
   ]
  },
  {
   "cell_type": "code",
   "execution_count": 23,
   "id": "a8835e53",
   "metadata": {},
   "outputs": [
    {
     "data": {
      "text/plain": [
       "[1, 2, 3, 4, 5, 'jaya', 45.67, True]"
      ]
     },
     "execution_count": 23,
     "metadata": {},
     "output_type": "execute_result"
    }
   ],
   "source": [
    "l"
   ]
  },
  {
   "cell_type": "code",
   "execution_count": 8,
   "id": "1b7cb7ee",
   "metadata": {},
   "outputs": [
    {
     "data": {
      "text/plain": [
       "True"
      ]
     },
     "execution_count": 8,
     "metadata": {},
     "output_type": "execute_result"
    }
   ],
   "source": [
    "3 in l #in is an operator to search the particular element is available in the list"
   ]
  },
  {
   "cell_type": "code",
   "execution_count": 17,
   "id": "f72eae30",
   "metadata": {},
   "outputs": [
    {
     "data": {
      "text/plain": [
       "True"
      ]
     },
     "execution_count": 17,
     "metadata": {},
     "output_type": "execute_result"
    }
   ],
   "source": [
    "2 in l"
   ]
  },
  {
   "cell_type": "code",
   "execution_count": 20,
   "id": "36dcfabd",
   "metadata": {},
   "outputs": [
    {
     "ename": "TypeError",
     "evalue": "'>' not supported between instances of 'str' and 'int'",
     "output_type": "error",
     "traceback": [
      "\u001b[1;31m---------------------------------------------------------------------------\u001b[0m",
      "\u001b[1;31mTypeError\u001b[0m                                 Traceback (most recent call last)",
      "\u001b[1;32m~\\AppData\\Local\\Temp/ipykernel_28700/1790536805.py\u001b[0m in \u001b[0;36m<module>\u001b[1;34m\u001b[0m\n\u001b[1;32m----> 1\u001b[1;33m \u001b[0mmax\u001b[0m\u001b[1;33m(\u001b[0m\u001b[0ml\u001b[0m\u001b[1;33m)\u001b[0m\u001b[1;33m\u001b[0m\u001b[1;33m\u001b[0m\u001b[0m\n\u001b[0m",
      "\u001b[1;31mTypeError\u001b[0m: '>' not supported between instances of 'str' and 'int'"
     ]
    }
   ],
   "source": [
    "max(l)  #error because the list consists of values and string"
   ]
  },
  {
   "cell_type": "code",
   "execution_count": 9,
   "id": "5f9d1feb",
   "metadata": {},
   "outputs": [],
   "source": [
    "l1 = [3,4,5,6,6]"
   ]
  },
  {
   "cell_type": "code",
   "execution_count": 10,
   "id": "19744a16",
   "metadata": {},
   "outputs": [
    {
     "data": {
      "text/plain": [
       "6"
      ]
     },
     "execution_count": 10,
     "metadata": {},
     "output_type": "execute_result"
    }
   ],
   "source": [
    "max(l1)"
   ]
  },
  {
   "cell_type": "code",
   "execution_count": 24,
   "id": "36d91ce0",
   "metadata": {},
   "outputs": [
    {
     "data": {
      "text/plain": [
       "[1, 2, 3, 4, 5, 'jaya', 45.67, True]"
      ]
     },
     "execution_count": 24,
     "metadata": {},
     "output_type": "execute_result"
    }
   ],
   "source": [
    "l"
   ]
  },
  {
   "cell_type": "code",
   "execution_count": 13,
   "id": "cb8fbcc3",
   "metadata": {},
   "outputs": [],
   "source": [
    "l2 = [\"aece\" , \"fourthyear\" , \"students\"]"
   ]
  },
  {
   "cell_type": "code",
   "execution_count": 14,
   "id": "fcbb6f75",
   "metadata": {},
   "outputs": [
    {
     "data": {
      "text/plain": [
       "'aece'"
      ]
     },
     "execution_count": 14,
     "metadata": {},
     "output_type": "execute_result"
    }
   ],
   "source": [
    "min(l2)"
   ]
  },
  {
   "cell_type": "code",
   "execution_count": 19,
   "id": "f15ead27",
   "metadata": {},
   "outputs": [
    {
     "data": {
      "text/plain": [
       "3"
      ]
     },
     "execution_count": 19,
     "metadata": {},
     "output_type": "execute_result"
    }
   ],
   "source": [
    "min(l1)"
   ]
  },
  {
   "cell_type": "code",
   "execution_count": 14,
   "id": "2f860bd5",
   "metadata": {},
   "outputs": [
    {
     "data": {
      "text/plain": [
       "'ece'"
      ]
     },
     "execution_count": 14,
     "metadata": {},
     "output_type": "execute_result"
    }
   ],
   "source": [
    "min(l2)"
   ]
  },
  {
   "cell_type": "code",
   "execution_count": 15,
   "id": "0302a260",
   "metadata": {},
   "outputs": [
    {
     "data": {
      "text/plain": [
       "[1, 2, 3, 4, 5, 'jaya', 45.67, True]"
      ]
     },
     "execution_count": 15,
     "metadata": {},
     "output_type": "execute_result"
    }
   ],
   "source": [
    "l"
   ]
  },
  {
   "cell_type": "code",
   "execution_count": 16,
   "id": "749e8146",
   "metadata": {},
   "outputs": [],
   "source": [
    "l.append(\"krishna\")"
   ]
  },
  {
   "cell_type": "code",
   "execution_count": 17,
   "id": "3c94f99a",
   "metadata": {},
   "outputs": [
    {
     "data": {
      "text/plain": [
       "[1, 2, 3, 4, 5, 'jaya', 45.67, True, 'krishna']"
      ]
     },
     "execution_count": 17,
     "metadata": {},
     "output_type": "execute_result"
    }
   ],
   "source": [
    "l"
   ]
  },
  {
   "cell_type": "code",
   "execution_count": 18,
   "id": "79a5c295",
   "metadata": {},
   "outputs": [],
   "source": [
    "l.append([1,2,3,4])"
   ]
  },
  {
   "cell_type": "code",
   "execution_count": null,
   "id": "26ecd8e8",
   "metadata": {},
   "outputs": [],
   "source": []
  },
  {
   "cell_type": "code",
   "execution_count": 19,
   "id": "5e122777",
   "metadata": {},
   "outputs": [
    {
     "data": {
      "text/plain": [
       "[1, 2, 3, 4, 5, 'jaya', 45.67, True, 'krishna', [1, 2, 3, 4]]"
      ]
     },
     "execution_count": 19,
     "metadata": {},
     "output_type": "execute_result"
    }
   ],
   "source": [
    "l"
   ]
  },
  {
   "cell_type": "code",
   "execution_count": 25,
   "id": "03c9adf9",
   "metadata": {},
   "outputs": [
    {
     "ename": "SyntaxError",
     "evalue": "invalid syntax (3153385960.py, line 1)",
     "output_type": "error",
     "traceback": [
      "\u001b[1;36m  Input \u001b[1;32mIn [25]\u001b[1;36m\u001b[0m\n\u001b[1;33m    l.pop(index=-1, /)  #press tab afer dot we can find      pop is used to remove the particular index number\u001b[0m\n\u001b[1;37m                    ^\u001b[0m\n\u001b[1;31mSyntaxError\u001b[0m\u001b[1;31m:\u001b[0m invalid syntax\n"
     ]
    }
   ],
   "source": [
    "l.pop()  #press tab afer dot we can find      pop is used to remove the particular index number                                                                                                                                                                                                                                                                                                                                                                                                                                                                                                                                                                                                                                                                                                                                                                                                                                                                                                                                                                                                                                                                                                                                                                                                                                                                                                                                                                                                                                                                                                                                                                                                                                                                                                                                                                                                                                                                                                                                                                                                                                                                                                                                                                                                                                                                                                                                                                                                                                                                                                                                                                                                                                                                                                                                                                                                                                                                                                                                                                                                                                                                                                                                                                                   "
   ]
  },
  {
   "cell_type": "code",
   "execution_count": 21,
   "id": "59865748",
   "metadata": {},
   "outputs": [
    {
     "data": {
      "text/plain": [
       "[1, 2, 3, 4, 5, 'jaya', 45.67, True, 'krishna']"
      ]
     },
     "execution_count": 21,
     "metadata": {},
     "output_type": "execute_result"
    }
   ],
   "source": [
    "l"
   ]
  },
  {
   "cell_type": "code",
   "execution_count": 29,
   "id": "84200cd2",
   "metadata": {},
   "outputs": [
    {
     "data": {
      "text/plain": [
       "[1, 2, 3, 4]"
      ]
     },
     "execution_count": 29,
     "metadata": {},
     "output_type": "execute_result"
    }
   ],
   "source": [
    "l[7]"
   ]
  },
  {
   "cell_type": "code",
   "execution_count": 27,
   "id": "4b2d7c8b",
   "metadata": {},
   "outputs": [
    {
     "data": {
      "text/plain": [
       "1"
      ]
     },
     "execution_count": 27,
     "metadata": {},
     "output_type": "execute_result"
    }
   ],
   "source": [
    "l.count(5)"
   ]
  },
  {
   "cell_type": "code",
   "execution_count": 18,
   "id": "4bb0ae4c",
   "metadata": {},
   "outputs": [
    {
     "data": {
      "text/plain": [
       "[1, 2, 3, 4, 5]"
      ]
     },
     "execution_count": 18,
     "metadata": {},
     "output_type": "execute_result"
    }
   ],
   "source": [
    "l"
   ]
  },
  {
   "cell_type": "code",
   "execution_count": 19,
   "id": "6edaaa25",
   "metadata": {},
   "outputs": [
    {
     "data": {
      "text/plain": [
       "5"
      ]
     },
     "execution_count": 19,
     "metadata": {},
     "output_type": "execute_result"
    }
   ],
   "source": [
    "l.pop()\n",
    " #by default it will delete last indexes"
   ]
  },
  {
   "cell_type": "code",
   "execution_count": 38,
   "id": "e578afaf",
   "metadata": {},
   "outputs": [],
   "source": [
    "o=u[::-1]"
   ]
  },
  {
   "cell_type": "code",
   "execution_count": 39,
   "id": "d1dce988",
   "metadata": {},
   "outputs": [
    {
     "data": {
      "text/plain": [
       "['krishna', True, 45.67, 'jaya', 5, 4, 3, 2, 1]"
      ]
     },
     "execution_count": 39,
     "metadata": {},
     "output_type": "execute_result"
    }
   ],
   "source": [
    "o"
   ]
  },
  {
   "cell_type": "code",
   "execution_count": 28,
   "id": "77598818",
   "metadata": {},
   "outputs": [],
   "source": [
    "l.reverse()  #reverse funcion will reverse the string permanently"
   ]
  },
  {
   "cell_type": "code",
   "execution_count": 29,
   "id": "c630beef",
   "metadata": {},
   "outputs": [
    {
     "data": {
      "text/plain": [
       "['krishna', True, 45.67, 'jaya', 5, 4, 3, 2, 1]"
      ]
     },
     "execution_count": 29,
     "metadata": {},
     "output_type": "execute_result"
    }
   ],
   "source": [
    "l"
   ]
  },
  {
   "cell_type": "code",
   "execution_count": 11,
   "id": "52cfc604",
   "metadata": {},
   "outputs": [],
   "source": [
    " l=l[::-1]  #it doesnot take the permanent reverse"
   ]
  },
  {
   "cell_type": "code",
   "execution_count": 31,
   "id": "233d2ce6",
   "metadata": {},
   "outputs": [
    {
     "data": {
      "text/plain": [
       "[True, 45.67, 'jaya', 5, 4, 3, 2, 1]"
      ]
     },
     "execution_count": 31,
     "metadata": {},
     "output_type": "execute_result"
    }
   ],
   "source": [
    "l"
   ]
  },
  {
   "cell_type": "code",
   "execution_count": 41,
   "id": "f8d0ef51",
   "metadata": {},
   "outputs": [],
   "source": [
    "l.reverse()"
   ]
  },
  {
   "cell_type": "code",
   "execution_count": 21,
   "id": "04bdc84d",
   "metadata": {},
   "outputs": [
    {
     "data": {
      "text/plain": [
       "[1, 2, 3, 4]"
      ]
     },
     "execution_count": 21,
     "metadata": {},
     "output_type": "execute_result"
    }
   ],
   "source": [
    "l"
   ]
  },
  {
   "cell_type": "code",
   "execution_count": 15,
   "id": "546a2228",
   "metadata": {},
   "outputs": [],
   "source": [
    "l.append ((1,2,3,4))"
   ]
  },
  {
   "cell_type": "code",
   "execution_count": 41,
   "id": "ac448e20",
   "metadata": {},
   "outputs": [
    {
     "data": {
      "text/plain": [
       "['krishna', True, 45.67, 'jaya', 5, 4, 3, 2, 1]"
      ]
     },
     "execution_count": 41,
     "metadata": {},
     "output_type": "execute_result"
    }
   ],
   "source": [
    "l"
   ]
  },
  {
   "cell_type": "code",
   "execution_count": 42,
   "id": "89a88475",
   "metadata": {},
   "outputs": [
    {
     "data": {
      "text/plain": [
       "6"
      ]
     },
     "execution_count": 42,
     "metadata": {},
     "output_type": "execute_result"
    }
   ],
   "source": [
    "l.index(3)"
   ]
  },
  {
   "cell_type": "code",
   "execution_count": 31,
   "id": "9045a61f",
   "metadata": {},
   "outputs": [
    {
     "ename": "TypeError",
     "evalue": "'<' not supported between instances of 'list' and 'int'",
     "output_type": "error",
     "traceback": [
      "\u001b[1;31m---------------------------------------------------------------------------\u001b[0m",
      "\u001b[1;31mTypeError\u001b[0m                                 Traceback (most recent call last)",
      "Input \u001b[1;32mIn [31]\u001b[0m, in \u001b[0;36m<cell line: 1>\u001b[1;34m()\u001b[0m\n\u001b[1;32m----> 1\u001b[0m \u001b[43ml\u001b[49m\u001b[38;5;241;43m.\u001b[39;49m\u001b[43msort\u001b[49m\u001b[43m(\u001b[49m\u001b[43m)\u001b[49m\n",
      "\u001b[1;31mTypeError\u001b[0m: '<' not supported between instances of 'list' and 'int'"
     ]
    }
   ],
   "source": [
    "l.sort()"
   ]
  },
  {
   "cell_type": "code",
   "execution_count": 46,
   "id": "9cd32227",
   "metadata": {},
   "outputs": [
    {
     "data": {
      "text/plain": [
       "[2, 3, 4, 5, 'sudh', 45.67, True, 'kuamr', [1, 2, 3, 4]]"
      ]
     },
     "execution_count": 46,
     "metadata": {},
     "output_type": "execute_result"
    }
   ],
   "source": [
    "l"
   ]
  },
  {
   "cell_type": "code",
   "execution_count": 43,
   "id": "1c2e3b21",
   "metadata": {},
   "outputs": [],
   "source": [
    "l1=[3,4,5,8,6]"
   ]
  },
  {
   "cell_type": "code",
   "execution_count": 44,
   "id": "0fa37a2d",
   "metadata": {},
   "outputs": [],
   "source": [
    "l1.sort()  #sort is used only for numbers"
   ]
  },
  {
   "cell_type": "code",
   "execution_count": 45,
   "id": "f0eb8ce5",
   "metadata": {},
   "outputs": [
    {
     "data": {
      "text/plain": [
       "[3, 4, 5, 6, 8]"
      ]
     },
     "execution_count": 45,
     "metadata": {},
     "output_type": "execute_result"
    }
   ],
   "source": [
    "l1"
   ]
  },
  {
   "cell_type": "code",
   "execution_count": 46,
   "id": "71dbdb88",
   "metadata": {},
   "outputs": [],
   "source": [
    "l3 = [8,98,34,23,1,0]"
   ]
  },
  {
   "cell_type": "code",
   "execution_count": 49,
   "id": "e86443e7",
   "metadata": {},
   "outputs": [],
   "source": [
    "l3.sort()"
   ]
  },
  {
   "cell_type": "code",
   "execution_count": 50,
   "id": "f498e490",
   "metadata": {},
   "outputs": [
    {
     "data": {
      "text/plain": [
       "[0, 1, 8, 23, 34, 98]"
      ]
     },
     "execution_count": 50,
     "metadata": {},
     "output_type": "execute_result"
    }
   ],
   "source": [
    "l3"
   ]
  },
  {
   "cell_type": "code",
   "execution_count": 51,
   "id": "e9df020b",
   "metadata": {},
   "outputs": [],
   "source": [
    "l3.sort(reverse= True ) #to sort the data into descending order"
   ]
  },
  {
   "cell_type": "code",
   "execution_count": 52,
   "id": "cb59106d",
   "metadata": {},
   "outputs": [
    {
     "data": {
      "text/plain": [
       "[98, 34, 23, 8, 1, 0]"
      ]
     },
     "execution_count": 52,
     "metadata": {},
     "output_type": "execute_result"
    }
   ],
   "source": [
    "l3"
   ]
  },
  {
   "cell_type": "code",
   "execution_count": 53,
   "id": "b74d99fc",
   "metadata": {},
   "outputs": [],
   "source": [
    "l1 = [2,3,4]\n",
    "l2 = [6,7,8]\n",
    "l3 = [3,2,4]"
   ]
  },
  {
   "cell_type": "code",
   "execution_count": 41,
   "id": "52db333c",
   "metadata": {},
   "outputs": [
    {
     "data": {
      "text/plain": [
       "'ya'"
      ]
     },
     "execution_count": 41,
     "metadata": {},
     "output_type": "execute_result"
    }
   ],
   "source": [
    "l1 =\"jaya\"\n",
    "l1[2:4]"
   ]
  },
  {
   "cell_type": "code",
   "execution_count": 54,
   "id": "ccb0aeda",
   "metadata": {},
   "outputs": [],
   "source": [
    "l4 = [l1,l2,l3] #inerting all lists in single lists (list inside a list)"
   ]
  },
  {
   "cell_type": "code",
   "execution_count": 21,
   "id": "f7c18d8b",
   "metadata": {},
   "outputs": [
    {
     "data": {
      "text/plain": [
       "8"
      ]
     },
     "execution_count": 21,
     "metadata": {},
     "output_type": "execute_result"
    }
   ],
   "source": [
    "l4[1][2]"
   ]
  },
  {
   "cell_type": "code",
   "execution_count": 57,
   "id": "ce40647b",
   "metadata": {},
   "outputs": [
    {
     "data": {
      "text/plain": [
       "[[2, 3, 4], [6, 7, 8], [3, 2, 4]]"
      ]
     },
     "execution_count": 57,
     "metadata": {},
     "output_type": "execute_result"
    }
   ],
   "source": [
    "(l4)"
   ]
  },
  {
   "cell_type": "code",
   "execution_count": 59,
   "id": "e3091857",
   "metadata": {},
   "outputs": [
    {
     "data": {
      "text/plain": [
       "3"
      ]
     },
     "execution_count": 59,
     "metadata": {},
     "output_type": "execute_result"
    }
   ],
   "source": [
    "l4[2][0]"
   ]
  },
  {
   "cell_type": "code",
   "execution_count": 40,
   "id": "1c71465f",
   "metadata": {},
   "outputs": [
    {
     "data": {
      "text/plain": [
       "[3, 2, 4]"
      ]
     },
     "execution_count": 40,
     "metadata": {},
     "output_type": "execute_result"
    }
   ],
   "source": [
    "l4[2] #indexing ([2,3,4]=index 0\n",
    "                    # [6,7,8]=index=1\n",
    "                    #[3,2,4]=index=2)"
   ]
  },
  {
   "cell_type": "code",
   "execution_count": 41,
   "id": "68c6c66b",
   "metadata": {},
   "outputs": [
    {
     "data": {
      "text/plain": [
       "2"
      ]
     },
     "execution_count": 41,
     "metadata": {},
     "output_type": "execute_result"
    }
   ],
   "source": [
    "l4[2][1]"
   ]
  },
  {
   "cell_type": "code",
   "execution_count": 47,
   "id": "8481647a",
   "metadata": {},
   "outputs": [
    {
     "data": {
      "text/plain": [
       "2"
      ]
     },
     "execution_count": 47,
     "metadata": {},
     "output_type": "execute_result"
    }
   ],
   "source": [
    "l4[2][1]"
   ]
  },
  {
   "cell_type": "code",
   "execution_count": 44,
   "id": "33febc15",
   "metadata": {},
   "outputs": [
    {
     "data": {
      "text/plain": [
       "[1, 2, 3, 4, 5, 45.67, True, [1, 2, 3, 4], [1, 2, 3, 4]]"
      ]
     },
     "execution_count": 44,
     "metadata": {},
     "output_type": "execute_result"
    }
   ],
   "source": [
    "l"
   ]
  },
  {
   "cell_type": "code",
   "execution_count": 17,
   "id": "dfefc348",
   "metadata": {},
   "outputs": [
    {
     "data": {
      "text/plain": [
       "1"
      ]
     },
     "execution_count": 17,
     "metadata": {},
     "output_type": "execute_result"
    }
   ],
   "source": [
    "l.count(3)"
   ]
  },
  {
   "cell_type": "code",
   "execution_count": 62,
   "id": "bbf42cca",
   "metadata": {},
   "outputs": [],
   "source": [
    "l5 = [3,4,5,3,3,3]"
   ]
  },
  {
   "cell_type": "code",
   "execution_count": 63,
   "id": "94653c8e",
   "metadata": {},
   "outputs": [
    {
     "data": {
      "text/plain": [
       "4"
      ]
     },
     "execution_count": 63,
     "metadata": {},
     "output_type": "execute_result"
    }
   ],
   "source": [
    "l5.count(3)"
   ]
  },
  {
   "cell_type": "code",
   "execution_count": 60,
   "id": "15a1b5b8",
   "metadata": {},
   "outputs": [
    {
     "data": {
      "text/plain": [
       "1"
      ]
     },
     "execution_count": 60,
     "metadata": {},
     "output_type": "execute_result"
    }
   ],
   "source": [
    "l1=[1,2,3]\n",
    "l2=[4,5,6]\n",
    "l3=[7,8,9]\n",
    "\n",
    "l4=[l1,l2,l3]\n",
    "\n",
    "l4.count([7,8,9])     # there is no indiviudal element 3 in list4\n",
    "\n"
   ]
  },
  {
   "cell_type": "code",
   "execution_count": 61,
   "id": "0a2a3d99",
   "metadata": {},
   "outputs": [
    {
     "data": {
      "text/plain": [
       "[[1, 2, 3], [4, 5, 6], [7, 8, 9]]"
      ]
     },
     "execution_count": 61,
     "metadata": {},
     "output_type": "execute_result"
    }
   ],
   "source": [
    "l4"
   ]
  },
  {
   "cell_type": "code",
   "execution_count": 69,
   "id": "9344afad",
   "metadata": {},
   "outputs": [
    {
     "data": {
      "text/plain": [
       "0"
      ]
     },
     "execution_count": 69,
     "metadata": {},
     "output_type": "execute_result"
    }
   ],
   "source": [
    "l4.count(3)"
   ]
  },
  {
   "cell_type": "code",
   "execution_count": 62,
   "id": "a67e216c",
   "metadata": {},
   "outputs": [],
   "source": [
    "l=[True, 45.67, 'jaya', 5, 4, 3, 2, 1]"
   ]
  },
  {
   "cell_type": "code",
   "execution_count": 63,
   "id": "68861420",
   "metadata": {},
   "outputs": [],
   "source": [
    "l.append(\"software\")"
   ]
  },
  {
   "cell_type": "code",
   "execution_count": 25,
   "id": "927a4828",
   "metadata": {},
   "outputs": [
    {
     "data": {
      "text/plain": [
       "[45.67, 'jaya', 4, 3, 2, 1, (1, 2, 3, 4), 'software']"
      ]
     },
     "execution_count": 25,
     "metadata": {},
     "output_type": "execute_result"
    }
   ],
   "source": [
    "l"
   ]
  },
  {
   "cell_type": "code",
   "execution_count": 26,
   "id": "de2bbdc9",
   "metadata": {},
   "outputs": [],
   "source": [
    "l.append(\"jaya\")"
   ]
  },
  {
   "cell_type": "code",
   "execution_count": 27,
   "id": "fb235d9c",
   "metadata": {},
   "outputs": [
    {
     "data": {
      "text/plain": [
       "[45.67, 'jaya', 4, 3, 2, 1, (1, 2, 3, 4), 'software', 'jaya']"
      ]
     },
     "execution_count": 27,
     "metadata": {},
     "output_type": "execute_result"
    }
   ],
   "source": [
    "l"
   ]
  },
  {
   "cell_type": "code",
   "execution_count": 68,
   "id": "9f139029",
   "metadata": {},
   "outputs": [
    {
     "ename": "TypeError",
     "evalue": "'int' object is not iterable",
     "output_type": "error",
     "traceback": [
      "\u001b[1;31m---------------------------------------------------------------------------\u001b[0m",
      "\u001b[1;31mTypeError\u001b[0m                                 Traceback (most recent call last)",
      "Input \u001b[1;32mIn [68]\u001b[0m, in \u001b[0;36m<cell line: 1>\u001b[1;34m()\u001b[0m\n\u001b[1;32m----> 1\u001b[0m \u001b[43ml\u001b[49m\u001b[38;5;241;43m.\u001b[39;49m\u001b[43mextend\u001b[49m\u001b[43m(\u001b[49m\u001b[38;5;241;43m67\u001b[39;49m\u001b[43m)\u001b[49m\n",
      "\u001b[1;31mTypeError\u001b[0m: 'int' object is not iterable"
     ]
    }
   ],
   "source": [
    "l.extend(67)"
   ]
  },
  {
   "cell_type": "code",
   "execution_count": 67,
   "id": "40c36ad0",
   "metadata": {},
   "outputs": [
    {
     "data": {
      "text/plain": [
       "[True,\n",
       " 45.67,\n",
       " 'jaya',\n",
       " 5,\n",
       " 4,\n",
       " 3,\n",
       " 2,\n",
       " 1,\n",
       " 'software',\n",
       " 'a',\n",
       " 'r',\n",
       " 'j',\n",
       " 'u',\n",
       " 'n',\n",
       " '6',\n",
       " '7']"
      ]
     },
     "execution_count": 67,
     "metadata": {},
     "output_type": "execute_result"
    }
   ],
   "source": [
    "l"
   ]
  },
  {
   "cell_type": "code",
   "execution_count": 70,
   "id": "39565fb8",
   "metadata": {},
   "outputs": [],
   "source": [
    "l6 = [1,2,3]"
   ]
  },
  {
   "cell_type": "code",
   "execution_count": 71,
   "id": "ca802d08",
   "metadata": {},
   "outputs": [],
   "source": [
    "l6.append([4,5,6])"
   ]
  },
  {
   "cell_type": "code",
   "execution_count": 118,
   "id": "b12a528a",
   "metadata": {},
   "outputs": [
    {
     "data": {
      "text/plain": [
       "[1, 2, 3, [4, 5, 6]]"
      ]
     },
     "execution_count": 118,
     "metadata": {},
     "output_type": "execute_result"
    }
   ],
   "source": [
    "l6"
   ]
  },
  {
   "cell_type": "code",
   "execution_count": 9,
   "id": "7388acce",
   "metadata": {},
   "outputs": [],
   "source": [
    "l6.append(\"jaya\")"
   ]
  },
  {
   "cell_type": "code",
   "execution_count": 107,
   "id": "fd0824a0",
   "metadata": {},
   "outputs": [
    {
     "data": {
      "text/plain": [
       "[1, 2, 3, [4, 5, 6], 'jaya']"
      ]
     },
     "execution_count": 107,
     "metadata": {},
     "output_type": "execute_result"
    }
   ],
   "source": [
    "l6"
   ]
  },
  {
   "cell_type": "code",
   "execution_count": 62,
   "id": "7907cb19",
   "metadata": {},
   "outputs": [
    {
     "ename": "TypeError",
     "evalue": "'int' object is not iterable",
     "output_type": "error",
     "traceback": [
      "\u001b[1;31m---------------------------------------------------------------------------\u001b[0m",
      "\u001b[1;31mTypeError\u001b[0m                                 Traceback (most recent call last)",
      "Input \u001b[1;32mIn [62]\u001b[0m, in \u001b[0;36m<cell line: 1>\u001b[1;34m()\u001b[0m\n\u001b[1;32m----> 1\u001b[0m \u001b[43ml6\u001b[49m\u001b[38;5;241;43m.\u001b[39;49m\u001b[43mextend\u001b[49m\u001b[43m(\u001b[49m\u001b[38;5;241;43m54\u001b[39;49m\u001b[43m)\u001b[49m\n",
      "\u001b[1;31mTypeError\u001b[0m: 'int' object is not iterable"
     ]
    }
   ],
   "source": [
    "l6.extend(54)   #integer cannot be store only one element when we use extend"
   ]
  },
  {
   "cell_type": "code",
   "execution_count": 10,
   "id": "603aba04",
   "metadata": {},
   "outputs": [],
   "source": [
    " l6.append(45)   "
   ]
  },
  {
   "cell_type": "code",
   "execution_count": 11,
   "id": "023369f7",
   "metadata": {},
   "outputs": [
    {
     "data": {
      "text/plain": [
       "[1, 2, 3, [4, 5, 6], 'jaya', 45]"
      ]
     },
     "execution_count": 11,
     "metadata": {},
     "output_type": "execute_result"
    }
   ],
   "source": [
    "l6"
   ]
  },
  {
   "cell_type": "code",
   "execution_count": null,
   "id": "dbf1db2f",
   "metadata": {},
   "outputs": [],
   "source": [
    "APPEND OPERATION WILL APPEND AS IT IS (if it as string , it appenda as string , list as list etc)"
   ]
  },
  {
   "cell_type": "code",
   "execution_count": null,
   "id": "a353c5fe",
   "metadata": {},
   "outputs": [],
   "source": [
    "EXTEND OPERATION WILL  try to unwrap(unwrangaling) entire dataset and then it will add one by one  dataset to the original list"
   ]
  },
  {
   "cell_type": "code",
   "execution_count": 51,
   "id": "a662edf7",
   "metadata": {},
   "outputs": [],
   "source": [
    "l6.extend([56,34,21]) #extend works only on lists"
   ]
  },
  {
   "cell_type": "code",
   "execution_count": 52,
   "id": "01527db6",
   "metadata": {},
   "outputs": [
    {
     "data": {
      "text/plain": [
       "[1, 2, 3, [4, 5, 6], 'jaya', 45, 56, 34, 21, 'j', 'a', 'y', 'a', 56, 34, 21]"
      ]
     },
     "execution_count": 52,
     "metadata": {},
     "output_type": "execute_result"
    }
   ],
   "source": [
    "l6"
   ]
  },
  {
   "cell_type": "code",
   "execution_count": 72,
   "id": "f206218d",
   "metadata": {},
   "outputs": [],
   "source": [
    "l6.extend(\"jaya\")"
   ]
  },
  {
   "cell_type": "code",
   "execution_count": 73,
   "id": "1173ec16",
   "metadata": {},
   "outputs": [
    {
     "data": {
      "text/plain": [
       "[1, 2, 3, [4, 5, 6], 'j', 'a', 'y', 'a']"
      ]
     },
     "execution_count": 73,
     "metadata": {},
     "output_type": "execute_result"
    }
   ],
   "source": [
    "l6"
   ]
  },
  {
   "cell_type": "code",
   "execution_count": 15,
   "id": "4d38b1bd",
   "metadata": {},
   "outputs": [
    {
     "data": {
      "text/plain": [
       "[1, 2, 3, [4, 5, 6], 'jaya', 45, 56, 34, 21, 'j', 'a', 'y', 'a']"
      ]
     },
     "execution_count": 15,
     "metadata": {},
     "output_type": "execute_result"
    }
   ],
   "source": [
    "l6"
   ]
  },
  {
   "cell_type": "code",
   "execution_count": 74,
   "id": "84a62688",
   "metadata": {},
   "outputs": [
    {
     "ename": "ValueError",
     "evalue": "'jaya' is not in list",
     "output_type": "error",
     "traceback": [
      "\u001b[1;31m---------------------------------------------------------------------------\u001b[0m",
      "\u001b[1;31mValueError\u001b[0m                                Traceback (most recent call last)",
      "Input \u001b[1;32mIn [74]\u001b[0m, in \u001b[0;36m<cell line: 1>\u001b[1;34m()\u001b[0m\n\u001b[1;32m----> 1\u001b[0m \u001b[43ml6\u001b[49m\u001b[38;5;241;43m.\u001b[39;49m\u001b[43mindex\u001b[49m\u001b[43m(\u001b[49m\u001b[38;5;124;43m'\u001b[39;49m\u001b[38;5;124;43mjaya\u001b[39;49m\u001b[38;5;124;43m'\u001b[39;49m\u001b[43m)\u001b[49m\n",
      "\u001b[1;31mValueError\u001b[0m: 'jaya' is not in list"
     ]
    }
   ],
   "source": [
    "l6.index('jaya')"
   ]
  },
  {
   "cell_type": "code",
   "execution_count": 75,
   "id": "bcd7b6bc",
   "metadata": {},
   "outputs": [],
   "source": [
    "l7  = [1,2,3,4,55,6,6,7]"
   ]
  },
  {
   "cell_type": "code",
   "execution_count": 92,
   "id": "543912bd",
   "metadata": {},
   "outputs": [
    {
     "data": {
      "text/plain": [
       "5"
      ]
     },
     "execution_count": 92,
     "metadata": {},
     "output_type": "execute_result"
    }
   ],
   "source": [
    "l7.index(6) #index will tellyou index of particular element"
   ]
  },
  {
   "cell_type": "code",
   "execution_count": 67,
   "id": "a0bd97b7",
   "metadata": {},
   "outputs": [],
   "source": [
    "l = [1,2,3,4,5]"
   ]
  },
  {
   "cell_type": "code",
   "execution_count": 53,
   "id": "b41b0450",
   "metadata": {},
   "outputs": [],
   "source": [
    "l.append(45)  #append is used to add the element at last index only"
   ]
  },
  {
   "cell_type": "code",
   "execution_count": 34,
   "id": "f806136d",
   "metadata": {},
   "outputs": [
    {
     "data": {
      "text/plain": [
       "[45.67,\n",
       " 'jaya',\n",
       " 4,\n",
       " 3,\n",
       " 2,\n",
       " 1,\n",
       " (1, 2, 3, 4),\n",
       " 'software',\n",
       " 'jaya',\n",
       " '3',\n",
       " '3',\n",
       " '3',\n",
       " '3']"
      ]
     },
     "execution_count": 34,
     "metadata": {},
     "output_type": "execute_result"
    }
   ],
   "source": [
    "l"
   ]
  },
  {
   "cell_type": "code",
   "execution_count": 79,
   "id": "8b4bdb4f",
   "metadata": {},
   "outputs": [],
   "source": [
    "l.insert(2 , 5)  #insert is used to insert some data at any position "
   ]
  },
  {
   "cell_type": "code",
   "execution_count": 78,
   "id": "08ef3881",
   "metadata": {},
   "outputs": [
    {
     "data": {
      "text/plain": [
       "[True,\n",
       " 45.67,\n",
       " 5,\n",
       " 'jaya',\n",
       " 5,\n",
       " 4,\n",
       " 3,\n",
       " 2,\n",
       " 1,\n",
       " 'software',\n",
       " 'a',\n",
       " 'r',\n",
       " 'j',\n",
       " 'u',\n",
       " 'n',\n",
       " '6',\n",
       " '7']"
      ]
     },
     "execution_count": 78,
     "metadata": {},
     "output_type": "execute_result"
    }
   ],
   "source": [
    "l"
   ]
  },
  {
   "cell_type": "code",
   "execution_count": 37,
   "id": "d39d4b3e",
   "metadata": {},
   "outputs": [
    {
     "data": {
      "text/plain": [
       "[45.67,\n",
       " 'jaya',\n",
       " 5,\n",
       " 4,\n",
       " 3,\n",
       " 2,\n",
       " 1,\n",
       " (1, 2, 3, 4),\n",
       " 'software',\n",
       " 'jaya',\n",
       " '3',\n",
       " '3',\n",
       " '3',\n",
       " '3']"
      ]
     },
     "execution_count": 37,
     "metadata": {},
     "output_type": "execute_result"
    }
   ],
   "source": [
    "l"
   ]
  },
  {
   "cell_type": "code",
   "execution_count": 80,
   "id": "c9c73ea0",
   "metadata": {},
   "outputs": [],
   "source": [
    "l.remove(4)\n"
   ]
  },
  {
   "cell_type": "code",
   "execution_count": 81,
   "id": "58eb7f27",
   "metadata": {},
   "outputs": [
    {
     "data": {
      "text/plain": [
       "[True,\n",
       " 45.67,\n",
       " 5,\n",
       " 5,\n",
       " 'jaya',\n",
       " 5,\n",
       " 3,\n",
       " 2,\n",
       " 1,\n",
       " 'software',\n",
       " 'a',\n",
       " 'r',\n",
       " 'j',\n",
       " 'u',\n",
       " 'n',\n",
       " '6',\n",
       " '7']"
      ]
     },
     "execution_count": 81,
     "metadata": {},
     "output_type": "execute_result"
    }
   ],
   "source": [
    "l"
   ]
  },
  {
   "cell_type": "code",
   "execution_count": 82,
   "id": "f6bbab60",
   "metadata": {},
   "outputs": [],
   "source": [
    "l.insert(5,\"jaya\")"
   ]
  },
  {
   "cell_type": "code",
   "execution_count": 83,
   "id": "4d5fcc67",
   "metadata": {},
   "outputs": [
    {
     "data": {
      "text/plain": [
       "[True,\n",
       " 45.67,\n",
       " 5,\n",
       " 5,\n",
       " 'jaya',\n",
       " 'jaya',\n",
       " 5,\n",
       " 3,\n",
       " 2,\n",
       " 1,\n",
       " 'software',\n",
       " 'a',\n",
       " 'r',\n",
       " 'j',\n",
       " 'u',\n",
       " 'n',\n",
       " '6',\n",
       " '7']"
      ]
     },
     "execution_count": 83,
     "metadata": {},
     "output_type": "execute_result"
    }
   ],
   "source": [
    "l"
   ]
  },
  {
   "cell_type": "code",
   "execution_count": 135,
   "id": "64f41b39",
   "metadata": {},
   "outputs": [
    {
     "data": {
      "text/plain": [
       "[1, [1, 2, 34], 2, 3, 4, 'jaya', 5, 45]"
      ]
     },
     "execution_count": 135,
     "metadata": {},
     "output_type": "execute_result"
    }
   ],
   "source": [
    "l"
   ]
  },
  {
   "cell_type": "code",
   "execution_count": 85,
   "id": "a46aa65d",
   "metadata": {},
   "outputs": [
    {
     "data": {
      "text/plain": [
       "'7'"
      ]
     },
     "execution_count": 85,
     "metadata": {},
     "output_type": "execute_result"
    }
   ],
   "source": [
    "l.pop() #removes last element"
   ]
  },
  {
   "cell_type": "code",
   "execution_count": 84,
   "id": "f7e51b16",
   "metadata": {},
   "outputs": [
    {
     "data": {
      "text/plain": [
       "[True,\n",
       " 45.67,\n",
       " 5,\n",
       " 5,\n",
       " 'jaya',\n",
       " 'jaya',\n",
       " 5,\n",
       " 3,\n",
       " 2,\n",
       " 1,\n",
       " 'software',\n",
       " 'a',\n",
       " 'r',\n",
       " 'j',\n",
       " 'u',\n",
       " 'n',\n",
       " '6',\n",
       " '7']"
      ]
     },
     "execution_count": 84,
     "metadata": {},
     "output_type": "execute_result"
    }
   ],
   "source": [
    "l"
   ]
  },
  {
   "cell_type": "code",
   "execution_count": 139,
   "id": "908f4119",
   "metadata": {},
   "outputs": [
    {
     "data": {
      "text/plain": [
       "2"
      ]
     },
     "execution_count": 139,
     "metadata": {},
     "output_type": "execute_result"
    }
   ],
   "source": [
    "l.pop(2) #remove element 2 from the list"
   ]
  },
  {
   "cell_type": "code",
   "execution_count": 39,
   "id": "31839570",
   "metadata": {},
   "outputs": [
    {
     "data": {
      "text/plain": [
       "[1, [1, 2, 34], 3, 4, 5]"
      ]
     },
     "execution_count": 39,
     "metadata": {},
     "output_type": "execute_result"
    }
   ],
   "source": [
    "l"
   ]
  },
  {
   "cell_type": "code",
   "execution_count": 40,
   "id": "9b556890",
   "metadata": {},
   "outputs": [],
   "source": [
    "l[1].remove(34)"
   ]
  },
  {
   "cell_type": "code",
   "execution_count": 41,
   "id": "c7ad33f3",
   "metadata": {},
   "outputs": [
    {
     "data": {
      "text/plain": [
       "[1, [1, 2], 3, 4, 5]"
      ]
     },
     "execution_count": 41,
     "metadata": {},
     "output_type": "execute_result"
    }
   ],
   "source": [
    "l"
   ]
  },
  {
   "cell_type": "code",
   "execution_count": 142,
   "id": "8c4c0b2e",
   "metadata": {},
   "outputs": [],
   "source": [
    "l.remove(4) #Remove first occurrence of value."
   ]
  },
  {
   "cell_type": "markdown",
   "id": "08560928",
   "metadata": {},
   "source": [
    "# POP will do operation based on indexes"
   ]
  },
  {
   "cell_type": "markdown",
   "id": "6b2831c7",
   "metadata": {},
   "source": [
    "# REMOVE will do operation based on values"
   ]
  },
  {
   "cell_type": "code",
   "execution_count": null,
   "id": "61253199",
   "metadata": {},
   "outputs": [],
   "source": [
    "l"
   ]
  },
  {
   "cell_type": "code",
   "execution_count": 144,
   "id": "4b3fa07c",
   "metadata": {},
   "outputs": [],
   "source": [
    "l.remove(3)"
   ]
  },
  {
   "cell_type": "code",
   "execution_count": 145,
   "id": "bd896442",
   "metadata": {},
   "outputs": [
    {
     "data": {
      "text/plain": [
       "[1, [1, 2, 34], 'jaya', 5]"
      ]
     },
     "execution_count": 145,
     "metadata": {},
     "output_type": "execute_result"
    }
   ],
   "source": [
    "l"
   ]
  },
  {
   "cell_type": "code",
   "execution_count": 89,
   "id": "a9d2dbf0",
   "metadata": {},
   "outputs": [],
   "source": [
    "l = [1,2,3,4]"
   ]
  },
  {
   "cell_type": "code",
   "execution_count": 92,
   "id": "68f3ed3d",
   "metadata": {},
   "outputs": [],
   "source": [
    "l[2] =\"krishna\"  #item reassignment operations"
   ]
  },
  {
   "cell_type": "code",
   "execution_count": 93,
   "id": "8ae1745a",
   "metadata": {},
   "outputs": [
    {
     "data": {
      "text/plain": [
       "[1, 2, 'krishna', 4]"
      ]
     },
     "execution_count": 93,
     "metadata": {},
     "output_type": "execute_result"
    }
   ],
   "source": [
    "l"
   ]
  },
  {
   "cell_type": "code",
   "execution_count": 86,
   "id": "ea4b1401",
   "metadata": {},
   "outputs": [],
   "source": [
    "s = \"kirti\""
   ]
  },
  {
   "cell_type": "code",
   "execution_count": 88,
   "id": "afa749f0",
   "metadata": {},
   "outputs": [
    {
     "ename": "TypeError",
     "evalue": "'str' object does not support item assignment",
     "output_type": "error",
     "traceback": [
      "\u001b[1;31m---------------------------------------------------------------------------\u001b[0m",
      "\u001b[1;31mTypeError\u001b[0m                                 Traceback (most recent call last)",
      "Input \u001b[1;32mIn [88]\u001b[0m, in \u001b[0;36m<cell line: 1>\u001b[1;34m()\u001b[0m\n\u001b[1;32m----> 1\u001b[0m s[\u001b[38;5;241m1\u001b[39m]\u001b[38;5;241m=\u001b[39m\u001b[38;5;124m'\u001b[39m\u001b[38;5;124mp\u001b[39m\u001b[38;5;124m'\u001b[39m\n",
      "\u001b[1;31mTypeError\u001b[0m: 'str' object does not support item assignment"
     ]
    }
   ],
   "source": [
    "s[1]='p'"
   ]
  },
  {
   "cell_type": "markdown",
   "id": "4829ab88",
   "metadata": {},
   "source": [
    "# STRING OBJECT DOESNOT SUPPORT REASSIGNMENT  (STRING ELEMENTS ARE IMMUTABLE)"
   ]
  },
  {
   "cell_type": "markdown",
   "id": "62e97906",
   "metadata": {},
   "source": [
    "# MUTABLE= reassignment can be done(list)\n",
    "IMMUTABLE= reassignment cannot be done(Strings)\n",
    "STRINGS ARE IMMUTABLE\n",
    "TUPLES ARE ALSO IMMUTABLE"
   ]
  },
  {
   "cell_type": "code",
   "execution_count": null,
   "id": "a612b4e7",
   "metadata": {},
   "outputs": [],
   "source": []
  },
  {
   "cell_type": "markdown",
   "id": "f3baaf8a",
   "metadata": {},
   "source": [
    "# TUPLES"
   ]
  },
  {
   "cell_type": "code",
   "execution_count": 43,
   "id": "8e53c33c",
   "metadata": {},
   "outputs": [],
   "source": [
    "t = (4,5,6,7,\"jaya\" ,45.67, True)"
   ]
  },
  {
   "cell_type": "code",
   "execution_count": null,
   "id": "b32520aa",
   "metadata": {},
   "outputs": [],
   "source": []
  },
  {
   "cell_type": "code",
   "execution_count": 153,
   "id": "d5a64769",
   "metadata": {},
   "outputs": [
    {
     "data": {
      "text/plain": [
       "tuple"
      ]
     },
     "execution_count": 153,
     "metadata": {},
     "output_type": "execute_result"
    }
   ],
   "source": [
    "type(t)"
   ]
  },
  {
   "cell_type": "markdown",
   "id": "6da6f3ac",
   "metadata": {},
   "source": [
    "INDEXING"
   ]
  },
  {
   "cell_type": "code",
   "execution_count": 154,
   "id": "31b1c5f6",
   "metadata": {},
   "outputs": [
    {
     "data": {
      "text/plain": [
       "4"
      ]
     },
     "execution_count": 154,
     "metadata": {},
     "output_type": "execute_result"
    }
   ],
   "source": [
    "t[0]"
   ]
  },
  {
   "cell_type": "code",
   "execution_count": 155,
   "id": "1dbc0672",
   "metadata": {},
   "outputs": [
    {
     "data": {
      "text/plain": [
       "(4, 5, 6, 7)"
      ]
     },
     "execution_count": 155,
     "metadata": {},
     "output_type": "execute_result"
    }
   ],
   "source": [
    "t[0:4]"
   ]
  },
  {
   "cell_type": "code",
   "execution_count": 122,
   "id": "d4dc0937",
   "metadata": {},
   "outputs": [
    {
     "data": {
      "text/plain": [
       "True"
      ]
     },
     "execution_count": 122,
     "metadata": {},
     "output_type": "execute_result"
    }
   ],
   "source": [
    "t[-1]"
   ]
  },
  {
   "cell_type": "code",
   "execution_count": 6,
   "id": "56772e1f",
   "metadata": {},
   "outputs": [
    {
     "data": {
      "text/plain": [
       "(4, 5, 6, 7, 'jaya', 45.67, True)"
      ]
     },
     "execution_count": 6,
     "metadata": {},
     "output_type": "execute_result"
    }
   ],
   "source": [
    "t"
   ]
  },
  {
   "cell_type": "code",
   "execution_count": 157,
   "id": "a00177b9",
   "metadata": {},
   "outputs": [
    {
     "data": {
      "text/plain": [
       "(4, 6, 'jaya')"
      ]
     },
     "execution_count": 157,
     "metadata": {},
     "output_type": "execute_result"
    }
   ],
   "source": [
    "t[0:6:2]"
   ]
  },
  {
   "cell_type": "code",
   "execution_count": 158,
   "id": "f2ce9d69",
   "metadata": {},
   "outputs": [
    {
     "data": {
      "text/plain": [
       "()"
      ]
     },
     "execution_count": 158,
     "metadata": {},
     "output_type": "execute_result"
    }
   ],
   "source": [
    "t[0:4:-1]"
   ]
  },
  {
   "cell_type": "code",
   "execution_count": 160,
   "id": "bae4cfcd",
   "metadata": {},
   "outputs": [],
   "source": [
    "l = [1,2,3,456,78]"
   ]
  },
  {
   "cell_type": "code",
   "execution_count": 161,
   "id": "2e918dea",
   "metadata": {},
   "outputs": [],
   "source": [
    "l[2] = \"kumar\""
   ]
  },
  {
   "cell_type": "code",
   "execution_count": 162,
   "id": "e3eab494",
   "metadata": {},
   "outputs": [
    {
     "data": {
      "text/plain": [
       "[1, 2, 'kumar', 456, 78]"
      ]
     },
     "execution_count": 162,
     "metadata": {},
     "output_type": "execute_result"
    }
   ],
   "source": [
    "l"
   ]
  },
  {
   "cell_type": "code",
   "execution_count": 44,
   "id": "1167cccd",
   "metadata": {},
   "outputs": [
    {
     "data": {
      "text/plain": [
       "(4, 5, 6, 7, 'jaya', 45.67, True)"
      ]
     },
     "execution_count": 44,
     "metadata": {},
     "output_type": "execute_result"
    }
   ],
   "source": [
    "t"
   ]
  },
  {
   "cell_type": "code",
   "execution_count": 132,
   "id": "9473ba71",
   "metadata": {},
   "outputs": [
    {
     "ename": "TypeError",
     "evalue": "'tuple' object does not support item assignment",
     "output_type": "error",
     "traceback": [
      "\u001b[1;31m---------------------------------------------------------------------------\u001b[0m",
      "\u001b[1;31mTypeError\u001b[0m                                 Traceback (most recent call last)",
      "\u001b[1;32m~\\AppData\\Local\\Temp/ipykernel_28700/2030672768.py\u001b[0m in \u001b[0;36m<module>\u001b[1;34m\u001b[0m\n\u001b[1;32m----> 1\u001b[1;33m \u001b[0mt\u001b[0m\u001b[1;33m[\u001b[0m\u001b[1;36m2\u001b[0m\u001b[1;33m]\u001b[0m \u001b[1;33m=\u001b[0m \u001b[1;34m\"sudh\"\u001b[0m\u001b[1;33m\u001b[0m\u001b[1;33m\u001b[0m\u001b[0m\n\u001b[0m",
      "\u001b[1;31mTypeError\u001b[0m: 'tuple' object does not support item assignment"
     ]
    }
   ],
   "source": [
    "t[2] = \"sudh\""
   ]
  },
  {
   "cell_type": "markdown",
   "id": "cd1a7d42",
   "metadata": {},
   "source": [
    "TUPLES ARE IMMUTABLE ELEMENTS"
   ]
  },
  {
   "cell_type": "code",
   "execution_count": 45,
   "id": "9839bd9a",
   "metadata": {},
   "outputs": [],
   "source": [
    "t1 = (3,4,5,6)"
   ]
  },
  {
   "cell_type": "code",
   "execution_count": 46,
   "id": "435af40a",
   "metadata": {},
   "outputs": [
    {
     "data": {
      "text/plain": [
       "(4, 5, 6, 7, 'jaya', 45.67, True)"
      ]
     },
     "execution_count": 46,
     "metadata": {},
     "output_type": "execute_result"
    }
   ],
   "source": [
    "t"
   ]
  },
  {
   "cell_type": "code",
   "execution_count": 52,
   "id": "297d63ce",
   "metadata": {},
   "outputs": [],
   "source": [
    "t2=t + t1# here we are not disturbing the existing one"
   ]
  },
  {
   "cell_type": "code",
   "execution_count": 46,
   "id": "b0c998b3",
   "metadata": {},
   "outputs": [
    {
     "data": {
      "text/plain": [
       "(4, 5, 6, 7, 'jaya', 45.67, True, 3, 4, 5, 6)"
      ]
     },
     "execution_count": 46,
     "metadata": {},
     "output_type": "execute_result"
    }
   ],
   "source": [
    "t2"
   ]
  },
  {
   "cell_type": "code",
   "execution_count": 8,
   "id": "652e2a70",
   "metadata": {},
   "outputs": [
    {
     "data": {
      "text/plain": [
       "1"
      ]
     },
     "execution_count": 8,
     "metadata": {},
     "output_type": "execute_result"
    }
   ],
   "source": [
    "t2.count(3)"
   ]
  },
  {
   "cell_type": "code",
   "execution_count": 11,
   "id": "79f9ddd9",
   "metadata": {},
   "outputs": [
    {
     "data": {
      "text/plain": [
       "1"
      ]
     },
     "execution_count": 11,
     "metadata": {},
     "output_type": "execute_result"
    }
   ],
   "source": [
    "t.count(4)"
   ]
  },
  {
   "cell_type": "code",
   "execution_count": 53,
   "id": "db18848f",
   "metadata": {},
   "outputs": [
    {
     "data": {
      "text/plain": [
       "(4, 5, 6, 7, 'jaya', 45.67, True)"
      ]
     },
     "execution_count": 53,
     "metadata": {},
     "output_type": "execute_result"
    }
   ],
   "source": [
    "t"
   ]
  },
  {
   "cell_type": "code",
   "execution_count": 12,
   "id": "7fa78fcb",
   "metadata": {},
   "outputs": [
    {
     "data": {
      "text/plain": [
       "1"
      ]
     },
     "execution_count": 12,
     "metadata": {},
     "output_type": "execute_result"
    }
   ],
   "source": [
    "t.index(5)"
   ]
  },
  {
   "cell_type": "code",
   "execution_count": 13,
   "id": "1cb27098",
   "metadata": {},
   "outputs": [],
   "source": [
    "t = t+t1"
   ]
  },
  {
   "cell_type": "code",
   "execution_count": 54,
   "id": "97631a5a",
   "metadata": {},
   "outputs": [
    {
     "ename": "AttributeError",
     "evalue": "'tuple' object has no attribute 'remove'",
     "output_type": "error",
     "traceback": [
      "\u001b[1;31m---------------------------------------------------------------------------\u001b[0m",
      "\u001b[1;31mAttributeError\u001b[0m                            Traceback (most recent call last)",
      "Input \u001b[1;32mIn [54]\u001b[0m, in \u001b[0;36m<cell line: 1>\u001b[1;34m()\u001b[0m\n\u001b[1;32m----> 1\u001b[0m \u001b[43mt\u001b[49m\u001b[38;5;241;43m.\u001b[39;49m\u001b[43mremove\u001b[49m(\u001b[38;5;241m4\u001b[39m)\n",
      "\u001b[1;31mAttributeError\u001b[0m: 'tuple' object has no attribute 'remove'"
     ]
    }
   ],
   "source": [
    "t.remove(4)"
   ]
  },
  {
   "cell_type": "code",
   "execution_count": 9,
   "id": "bb941cde",
   "metadata": {},
   "outputs": [],
   "source": [
    "t = (3,4,56,7, \"jaya\")"
   ]
  },
  {
   "cell_type": "code",
   "execution_count": 10,
   "id": "c067bd42",
   "metadata": {},
   "outputs": [],
   "source": [
    "t3 = list(t)"
   ]
  },
  {
   "cell_type": "code",
   "execution_count": 11,
   "id": "aad7caf8",
   "metadata": {},
   "outputs": [
    {
     "data": {
      "text/plain": [
       "[3, 4, 56, 7, 'jaya']"
      ]
     },
     "execution_count": 11,
     "metadata": {},
     "output_type": "execute_result"
    }
   ],
   "source": [
    "t3"
   ]
  },
  {
   "cell_type": "code",
   "execution_count": 12,
   "id": "b6f65bb5",
   "metadata": {},
   "outputs": [
    {
     "data": {
      "text/plain": [
       "(3, 4, 56, 7, 'jaya')"
      ]
     },
     "execution_count": 12,
     "metadata": {},
     "output_type": "execute_result"
    }
   ],
   "source": [
    "tuple(t3)"
   ]
  },
  {
   "cell_type": "code",
   "execution_count": 19,
   "id": "4a8ae1c8",
   "metadata": {},
   "outputs": [
    {
     "data": {
      "text/plain": [
       "\"[3, 4, 56, 7, 'jaya']\""
      ]
     },
     "execution_count": 19,
     "metadata": {},
     "output_type": "execute_result"
    }
   ],
   "source": [
    "str(t2)"
   ]
  },
  {
   "cell_type": "markdown",
   "id": "98b5dc82",
   "metadata": {},
   "source": [
    "# DICTIONARY"
   ]
  },
  {
   "cell_type": "code",
   "execution_count": 1,
   "id": "f94734a8",
   "metadata": {},
   "outputs": [],
   "source": [
    "d = {} #dictionary is key value pair"
   ]
  },
  {
   "cell_type": "code",
   "execution_count": 2,
   "id": "ab59b7e6",
   "metadata": {},
   "outputs": [
    {
     "data": {
      "text/plain": [
       "dict"
      ]
     },
     "execution_count": 2,
     "metadata": {},
     "output_type": "execute_result"
    }
   ],
   "source": [
    "type(d)"
   ]
  },
  {
   "cell_type": "code",
   "execution_count": 3,
   "id": "91d49265",
   "metadata": {},
   "outputs": [],
   "source": [
    "d1 = {1}"
   ]
  },
  {
   "cell_type": "code",
   "execution_count": 153,
   "id": "bcdb9c91",
   "metadata": {},
   "outputs": [
    {
     "data": {
      "text/plain": [
       "set"
      ]
     },
     "execution_count": 153,
     "metadata": {},
     "output_type": "execute_result"
    }
   ],
   "source": [
    "type(d1)"
   ]
  },
  {
   "cell_type": "markdown",
   "id": "7eeb94f2",
   "metadata": {},
   "source": [
    "symbol of dict and set are same"
   ]
  },
  {
   "cell_type": "code",
   "execution_count": 47,
   "id": "64f5415c",
   "metadata": {},
   "outputs": [],
   "source": [
    "d2 = { 'key1' : \"value\"  , 234 : \"xyz\" , \"name\" : \"jaya\" , \"no\" : 34324345 }"
   ]
  },
  {
   "cell_type": "code",
   "execution_count": 5,
   "id": "06836918",
   "metadata": {},
   "outputs": [
    {
     "data": {
      "text/plain": [
       "dict"
      ]
     },
     "execution_count": 5,
     "metadata": {},
     "output_type": "execute_result"
    }
   ],
   "source": [
    "type(d2)"
   ]
  },
  {
   "cell_type": "code",
   "execution_count": 50,
   "id": "c5c796b8",
   "metadata": {},
   "outputs": [
    {
     "data": {
      "text/plain": [
       "34324345"
      ]
     },
     "execution_count": 50,
     "metadata": {},
     "output_type": "execute_result"
    }
   ],
   "source": [
    "d2['no']"
   ]
  },
  {
   "cell_type": "markdown",
   "id": "6ba66e18",
   "metadata": {},
   "source": [
    "in dictionary KEYS are behaving as indexes"
   ]
  },
  {
   "cell_type": "code",
   "execution_count": 7,
   "id": "5a5e8f3f",
   "metadata": {},
   "outputs": [
    {
     "data": {
      "text/plain": [
       "34324345"
      ]
     },
     "execution_count": 7,
     "metadata": {},
     "output_type": "execute_result"
    }
   ],
   "source": [
    "d2['no']"
   ]
  },
  {
   "cell_type": "code",
   "execution_count": 52,
   "id": "cacf47c4",
   "metadata": {},
   "outputs": [],
   "source": [
    "d3 = {'name': \"jaya\" , 'tech' :[\"python\" , \"ML\" , \"DL\" , \"NLP\",\"CV\" , \"Big data\" , \"data analytics\"]}  #value can be anything(list,tuple,string,dict)"
   ]
  },
  {
   "cell_type": "code",
   "execution_count": 53,
   "id": "4f178d36",
   "metadata": {},
   "outputs": [
    {
     "data": {
      "text/plain": [
       "{'name': 'jaya',\n",
       " 'tech': ['python', 'ML', 'DL', 'NLP', 'CV', 'Big data', 'data analytics']}"
      ]
     },
     "execution_count": 53,
     "metadata": {},
     "output_type": "execute_result"
    }
   ],
   "source": [
    "d3"
   ]
  },
  {
   "cell_type": "code",
   "execution_count": 54,
   "id": "568e6fb3",
   "metadata": {},
   "outputs": [
    {
     "data": {
      "text/plain": [
       "'NLP'"
      ]
     },
     "execution_count": 54,
     "metadata": {},
     "output_type": "execute_result"
    }
   ],
   "source": [
    " d3['tech'][3]"
   ]
  },
  {
   "cell_type": "code",
   "execution_count": 56,
   "id": "58048098",
   "metadata": {},
   "outputs": [],
   "source": [
    "d4 = {\"name\" :\"college\" , \"contact_info\" : 345345 , \"name\":\"sudh\"}  #name as a key used two times "
   ]
  },
  {
   "cell_type": "code",
   "execution_count": 166,
   "id": "4798b515",
   "metadata": {},
   "outputs": [
    {
     "data": {
      "text/plain": [
       "{'name': 'sudh', 'contact_info': 345345}"
      ]
     },
     "execution_count": 166,
     "metadata": {},
     "output_type": "execute_result"
    }
   ],
   "source": [
    "d4"
   ]
  },
  {
   "cell_type": "markdown",
   "id": "cb3e26eb",
   "metadata": {},
   "source": [
    "# in dictionary key values should be UNIQUE"
   ]
  },
  {
   "cell_type": "code",
   "execution_count": 57,
   "id": "8de717f3",
   "metadata": {},
   "outputs": [],
   "source": [
    "d4[\"name1\"] = \"xyz\""
   ]
  },
  {
   "cell_type": "code",
   "execution_count": 58,
   "id": "18345078",
   "metadata": {},
   "outputs": [
    {
     "data": {
      "text/plain": [
       "{'name': 'sudh', 'contact_info': 345345, 'name1': 'xyz'}"
      ]
     },
     "execution_count": 58,
     "metadata": {},
     "output_type": "execute_result"
    }
   ],
   "source": [
    "d4"
   ]
  },
  {
   "cell_type": "code",
   "execution_count": 59,
   "id": "a68260d9",
   "metadata": {},
   "outputs": [
    {
     "data": {
      "text/plain": [
       "{'key1': 'value', 234: 'xyz', 'name': 'jaya', 'no': 34324345}"
      ]
     },
     "execution_count": 59,
     "metadata": {},
     "output_type": "execute_result"
    }
   ],
   "source": [
    "d2"
   ]
  },
  {
   "cell_type": "code",
   "execution_count": 62,
   "id": "6dafbc0e",
   "metadata": {},
   "outputs": [],
   "source": [
    "d4['k2'] = d2"
   ]
  },
  {
   "cell_type": "code",
   "execution_count": 64,
   "id": "78e6782e",
   "metadata": {},
   "outputs": [
    {
     "data": {
      "text/plain": [
       "{'name': 'sudh',\n",
       " 'contact_info': 345345,\n",
       " 'name1': 'xyz',\n",
       " 'k2': {'key1': 'value', 234: 'xyz', 'name': 'jaya', 'no': 34324345}}"
      ]
     },
     "execution_count": 64,
     "metadata": {},
     "output_type": "execute_result"
    }
   ],
   "source": [
    "d4"
   ]
  },
  {
   "cell_type": "code",
   "execution_count": 62,
   "id": "9d72711b",
   "metadata": {},
   "outputs": [
    {
     "data": {
      "text/plain": [
       "{'name': 'sudh',\n",
       " 'contact_info': 345345,\n",
       " 'k2': {'key1': 'value', 234: 'xyz', 'name': 'jaya', 'no': 34324345}}"
      ]
     },
     "execution_count": 62,
     "metadata": {},
     "output_type": "execute_result"
    }
   ],
   "source": [
    "d4 #dictionary in dictionary"
   ]
  },
  {
   "cell_type": "code",
   "execution_count": 65,
   "id": "0b5a04ac",
   "metadata": {},
   "outputs": [
    {
     "data": {
      "text/plain": [
       "'jaya'"
      ]
     },
     "execution_count": 65,
     "metadata": {},
     "output_type": "execute_result"
    }
   ],
   "source": [
    "d4['k2']['name']"
   ]
  },
  {
   "cell_type": "code",
   "execution_count": 25,
   "id": "d533f35f",
   "metadata": {},
   "outputs": [
    {
     "data": {
      "text/plain": [
       "34324345"
      ]
     },
     "execution_count": 25,
     "metadata": {},
     "output_type": "execute_result"
    }
   ],
   "source": [
    "d4['k2']['no']"
   ]
  },
  {
   "cell_type": "code",
   "execution_count": 66,
   "id": "7b8011f0",
   "metadata": {},
   "outputs": [],
   "source": [
    "d4['name']='jaya'"
   ]
  },
  {
   "cell_type": "markdown",
   "id": "52e414e7",
   "metadata": {},
   "source": [
    "special symbols cannot be used as key"
   ]
  },
  {
   "cell_type": "code",
   "execution_count": 67,
   "id": "2aa65af6",
   "metadata": {},
   "outputs": [
    {
     "data": {
      "text/plain": [
       "{'name': 'jaya',\n",
       " 'contact_info': 345345,\n",
       " 'name1': 'xyz',\n",
       " 'k2': {'key1': 'value', 234: 'xyz', 'name': 'jaya', 'no': 34324345}}"
      ]
     },
     "execution_count": 67,
     "metadata": {},
     "output_type": "execute_result"
    }
   ],
   "source": [
    "d4"
   ]
  },
  {
   "cell_type": "code",
   "execution_count": 26,
   "id": "6d5c805b",
   "metadata": {},
   "outputs": [
    {
     "ename": "TypeError",
     "evalue": "unhashable type: 'dict'",
     "output_type": "error",
     "traceback": [
      "\u001b[1;31m---------------------------------------------------------------------------\u001b[0m",
      "\u001b[1;31mTypeError\u001b[0m                                 Traceback (most recent call last)",
      "Input \u001b[1;32mIn [26]\u001b[0m, in \u001b[0;36m<cell line: 1>\u001b[1;34m()\u001b[0m\n\u001b[1;32m----> 1\u001b[0m d5 \u001b[38;5;241m=\u001b[39m {_: \u001b[38;5;124m\"\u001b[39m\u001b[38;5;124msdfsd\u001b[39m\u001b[38;5;124m\"\u001b[39m}\n",
      "\u001b[1;31mTypeError\u001b[0m: unhashable type: 'dict'"
     ]
    }
   ],
   "source": [
    "d5 = {_: \"sdfsd\"}"
   ]
  },
  {
   "cell_type": "code",
   "execution_count": 27,
   "id": "142487c7",
   "metadata": {},
   "outputs": [
    {
     "ename": "NameError",
     "evalue": "name 'd5' is not defined",
     "output_type": "error",
     "traceback": [
      "\u001b[1;31m---------------------------------------------------------------------------\u001b[0m",
      "\u001b[1;31mNameError\u001b[0m                                 Traceback (most recent call last)",
      "Input \u001b[1;32mIn [27]\u001b[0m, in \u001b[0;36m<cell line: 1>\u001b[1;34m()\u001b[0m\n\u001b[1;32m----> 1\u001b[0m \u001b[43md5\u001b[49m[_]\n",
      "\u001b[1;31mNameError\u001b[0m: name 'd5' is not defined"
     ]
    }
   ],
   "source": [
    "d5[_]"
   ]
  },
  {
   "cell_type": "code",
   "execution_count": 181,
   "id": "31fb366d",
   "metadata": {},
   "outputs": [],
   "source": [
    "d6 = {(1,2,34) : \"fsdfs\"}"
   ]
  },
  {
   "cell_type": "markdown",
   "id": "89a71587",
   "metadata": {},
   "source": [
    "Tuple can be used as a key"
   ]
  },
  {
   "cell_type": "code",
   "execution_count": 182,
   "id": "f271ffa3",
   "metadata": {},
   "outputs": [
    {
     "data": {
      "text/plain": [
       "'fsdfs'"
      ]
     },
     "execution_count": 182,
     "metadata": {},
     "output_type": "execute_result"
    }
   ],
   "source": [
    "d6[(1,2,34)]"
   ]
  },
  {
   "cell_type": "code",
   "execution_count": 28,
   "id": "12d88c93",
   "metadata": {},
   "outputs": [
    {
     "ename": "TypeError",
     "evalue": "unhashable type: 'list'",
     "output_type": "error",
     "traceback": [
      "\u001b[1;31m---------------------------------------------------------------------------\u001b[0m",
      "\u001b[1;31mTypeError\u001b[0m                                 Traceback (most recent call last)",
      "Input \u001b[1;32mIn [28]\u001b[0m, in \u001b[0;36m<cell line: 1>\u001b[1;34m()\u001b[0m\n\u001b[1;32m----> 1\u001b[0m d7 \u001b[38;5;241m=\u001b[39m {[\u001b[38;5;241m1\u001b[39m,\u001b[38;5;241m2\u001b[39m,\u001b[38;5;241m3\u001b[39m,\u001b[38;5;241m4\u001b[39m] : \u001b[38;5;124m\"\u001b[39m\u001b[38;5;124mfasdfasfas\u001b[39m\u001b[38;5;124m\"\u001b[39m}\n",
      "\u001b[1;31mTypeError\u001b[0m: unhashable type: 'list'"
     ]
    }
   ],
   "source": [
    "d7 = {[1,2,3,4] : \"fasdfasfas\"}"
   ]
  },
  {
   "cell_type": "code",
   "execution_count": 184,
   "id": "104ede11",
   "metadata": {},
   "outputs": [
    {
     "ename": "TypeError",
     "evalue": "unhashable type: 'dict'",
     "output_type": "error",
     "traceback": [
      "\u001b[1;31m---------------------------------------------------------------------------\u001b[0m",
      "\u001b[1;31mTypeError\u001b[0m                                 Traceback (most recent call last)",
      "\u001b[1;32m~\\AppData\\Local\\Temp/ipykernel_28700/2992907961.py\u001b[0m in \u001b[0;36m<module>\u001b[1;34m\u001b[0m\n\u001b[1;32m----> 1\u001b[1;33m \u001b[0md8\u001b[0m \u001b[1;33m=\u001b[0m \u001b[1;33m{\u001b[0m\u001b[1;33m{\u001b[0m\u001b[1;36m3\u001b[0m\u001b[1;33m:\u001b[0m\u001b[1;36m4\u001b[0m\u001b[1;33m}\u001b[0m \u001b[1;33m:\u001b[0m \u001b[1;34m\"fsdfs\"\u001b[0m\u001b[1;33m}\u001b[0m\u001b[1;33m\u001b[0m\u001b[1;33m\u001b[0m\u001b[0m\n\u001b[0m",
      "\u001b[1;31mTypeError\u001b[0m: unhashable type: 'dict'"
     ]
    }
   ],
   "source": [
    "d8 = {{3:4} : \"fsdfs\"}"
   ]
  },
  {
   "cell_type": "markdown",
   "id": "43724719",
   "metadata": {},
   "source": [
    "# LIST and DICTIONARYS ARE NOT ALLOWED AS KEY      TUPLES,STRING INT CAN BE USED AS KEY\n"
   ]
  },
  {
   "cell_type": "markdown",
   "id": "0328994c",
   "metadata": {},
   "source": [
    "# DICTIONARYS ARE MUTABLE"
   ]
  },
  {
   "cell_type": "code",
   "execution_count": 65,
   "id": "8c830654",
   "metadata": {},
   "outputs": [
    {
     "data": {
      "text/plain": [
       "{'key1': 'value', 234: 'xyz', 'name': 'jaya', 'no': 34324345}"
      ]
     },
     "execution_count": 65,
     "metadata": {},
     "output_type": "execute_result"
    }
   ],
   "source": [
    "d2"
   ]
  },
  {
   "cell_type": "code",
   "execution_count": 66,
   "id": "8e4d10b2",
   "metadata": {},
   "outputs": [
    {
     "data": {
      "text/plain": [
       "{'key1': 'value', 234: 'xyz', 'name': 'jaya', 'no': 34324345}"
      ]
     },
     "execution_count": 66,
     "metadata": {},
     "output_type": "execute_result"
    }
   ],
   "source": [
    "d2"
   ]
  },
  {
   "cell_type": "code",
   "execution_count": 68,
   "id": "ffe45689",
   "metadata": {},
   "outputs": [
    {
     "data": {
      "text/plain": [
       "{'name': 'sudh',\n",
       " 'contact_info': 345345,\n",
       " 'k2': {'key1': 'value', 234: 'xyz', 'name': 'jaya', 'no': 34324345}}"
      ]
     },
     "execution_count": 68,
     "metadata": {},
     "output_type": "execute_result"
    }
   ],
   "source": [
    "d4"
   ]
  },
  {
   "cell_type": "code",
   "execution_count": 71,
   "id": "91d8669f",
   "metadata": {},
   "outputs": [
    {
     "ename": "TypeError",
     "evalue": "unsupported operand type(s) for +: 'dict' and 'dict'",
     "output_type": "error",
     "traceback": [
      "\u001b[1;31m---------------------------------------------------------------------------\u001b[0m",
      "\u001b[1;31mTypeError\u001b[0m                                 Traceback (most recent call last)",
      "Input \u001b[1;32mIn [71]\u001b[0m, in \u001b[0;36m<cell line: 1>\u001b[1;34m()\u001b[0m\n\u001b[1;32m----> 1\u001b[0m \u001b[43md2\u001b[49m\u001b[43m \u001b[49m\u001b[38;5;241;43m+\u001b[39;49m\u001b[43md3\u001b[49m\n",
      "\u001b[1;31mTypeError\u001b[0m: unsupported operand type(s) for +: 'dict' and 'dict'"
     ]
    }
   ],
   "source": [
    "d2 +d3"
   ]
  },
  {
   "cell_type": "code",
   "execution_count": 70,
   "id": "68de029c",
   "metadata": {},
   "outputs": [],
   "source": [
    "d3 = {'name1': \"jaya\" , 'tech' :[\"python\" , \"ML\" , \"DL\" , \"NLP\",\"CV\" , \"Big data\" , \"data analytics\"]}  #value can be anything(list,tuple,string,dict)"
   ]
  },
  {
   "cell_type": "markdown",
   "id": "f913dc25",
   "metadata": {},
   "source": [
    "# CONCATINATION OPERATIONS ARE NOT ALLOWED IN DICTIONARY"
   ]
  },
  {
   "cell_type": "code",
   "execution_count": 190,
   "id": "578323f7",
   "metadata": {},
   "outputs": [
    {
     "data": {
      "text/plain": [
       "{'key1': 'value', 234: 'xyz', 'name': 'sudh', 'no': 34324345}"
      ]
     },
     "execution_count": 190,
     "metadata": {},
     "output_type": "execute_result"
    }
   ],
   "source": [
    "d2"
   ]
  },
  {
   "cell_type": "code",
   "execution_count": 68,
   "id": "106267a3",
   "metadata": {},
   "outputs": [
    {
     "data": {
      "text/plain": [
       "dict_keys(['key1', 234, 'name', 'no'])"
      ]
     },
     "execution_count": 68,
     "metadata": {},
     "output_type": "execute_result"
    }
   ],
   "source": [
    "d2.keys() #to extract only keys in a dictionary"
   ]
  },
  {
   "cell_type": "code",
   "execution_count": 69,
   "id": "27a9df33",
   "metadata": {},
   "outputs": [
    {
     "data": {
      "text/plain": [
       "dict_values(['value', 'xyz', 'jaya', 34324345])"
      ]
     },
     "execution_count": 69,
     "metadata": {},
     "output_type": "execute_result"
    }
   ],
   "source": [
    "d2.values() #to extract only values "
   ]
  },
  {
   "cell_type": "code",
   "execution_count": 70,
   "id": "7e55f5cc",
   "metadata": {},
   "outputs": [
    {
     "data": {
      "text/plain": [
       "dict_items([('key1', 'value'), (234, 'xyz'), ('name', 'jaya'), ('no', 34324345)])"
      ]
     },
     "execution_count": 70,
     "metadata": {},
     "output_type": "execute_result"
    }
   ],
   "source": [
    "d2.items() #to extract key value pair in the dictionary"
   ]
  },
  {
   "cell_type": "markdown",
   "id": "fcb0ae7f",
   "metadata": {},
   "source": [
    "# SET- DOESNOT CONTAINS KEY VALUE PAIRS"
   ]
  },
  {
   "cell_type": "code",
   "execution_count": 195,
   "id": "5e99acaf",
   "metadata": {},
   "outputs": [],
   "source": [
    "s = {3,4,5,6,7,8}"
   ]
  },
  {
   "cell_type": "code",
   "execution_count": 196,
   "id": "e4a109b4",
   "metadata": {},
   "outputs": [
    {
     "data": {
      "text/plain": [
       "set"
      ]
     },
     "execution_count": 196,
     "metadata": {},
     "output_type": "execute_result"
    }
   ],
   "source": [
    "type(s)"
   ]
  },
  {
   "cell_type": "code",
   "execution_count": 79,
   "id": "f458842a",
   "metadata": {},
   "outputs": [],
   "source": [
    "s1 = {3,4,4,5,6,6,7,7,8,8,9,9,0,0,0,678}"
   ]
  },
  {
   "cell_type": "raw",
   "id": "a205331d",
   "metadata": {},
   "source": [
    "s1  # SET IS TRYING TO KEEP UNIQUE ELEMENT"
   ]
  },
  {
   "cell_type": "code",
   "execution_count": 80,
   "id": "dd891a7e",
   "metadata": {},
   "outputs": [
    {
     "data": {
      "text/plain": [
       "{0, 3, 4, 5, 6, 7, 8, 9, 678}"
      ]
     },
     "execution_count": 80,
     "metadata": {},
     "output_type": "execute_result"
    }
   ],
   "source": [
    "s1"
   ]
  },
  {
   "cell_type": "code",
   "execution_count": 92,
   "id": "6b5d0bcb",
   "metadata": {},
   "outputs": [],
   "source": [
    "s2 = { 3245,4545,6456,5645,675,6234,345}"
   ]
  },
  {
   "cell_type": "markdown",
   "id": "97ab330f",
   "metadata": {},
   "source": [
    "s2 #SET IS USED TO GIVE SORTING ELEMENT"
   ]
  },
  {
   "cell_type": "code",
   "execution_count": 81,
   "id": "29073bac",
   "metadata": {},
   "outputs": [],
   "source": [
    "s3 = {\"sudh\" , 324,34,12,645,12,5,'b' , '6'}"
   ]
  },
  {
   "cell_type": "code",
   "execution_count": 84,
   "id": "82b7b14f",
   "metadata": {},
   "outputs": [],
   "source": [
    "s4={1,8,\"python\",324}"
   ]
  },
  {
   "cell_type": "code",
   "execution_count": 85,
   "id": "24b4f333",
   "metadata": {},
   "outputs": [
    {
     "data": {
      "text/plain": [
       "{1, 324, 8, 'python'}"
      ]
     },
     "execution_count": 85,
     "metadata": {},
     "output_type": "execute_result"
    }
   ],
   "source": [
    "s4"
   ]
  },
  {
   "cell_type": "code",
   "execution_count": 35,
   "id": "cb028d0d",
   "metadata": {},
   "outputs": [
    {
     "ename": "TypeError",
     "evalue": "'set' object is not subscriptable",
     "output_type": "error",
     "traceback": [
      "\u001b[1;31m---------------------------------------------------------------------------\u001b[0m",
      "\u001b[1;31mTypeError\u001b[0m                                 Traceback (most recent call last)",
      "Input \u001b[1;32mIn [35]\u001b[0m, in \u001b[0;36m<cell line: 1>\u001b[1;34m()\u001b[0m\n\u001b[1;32m----> 1\u001b[0m \u001b[43ms3\u001b[49m\u001b[43m[\u001b[49m\u001b[38;5;241;43m0\u001b[39;49m\u001b[43m]\u001b[49m\n",
      "\u001b[1;31mTypeError\u001b[0m: 'set' object is not subscriptable"
     ]
    }
   ],
   "source": [
    "s3[0]"
   ]
  },
  {
   "cell_type": "code",
   "execution_count": 205,
   "id": "77f5a2db",
   "metadata": {},
   "outputs": [
    {
     "data": {
      "text/plain": [
       "['b', 34, 324, 5, 645, '6', 'sudh', 12]"
      ]
     },
     "execution_count": 205,
     "metadata": {},
     "output_type": "execute_result"
    }
   ],
   "source": [
    "list(s3)"
   ]
  },
  {
   "cell_type": "code",
   "execution_count": 206,
   "id": "763168c1",
   "metadata": {},
   "outputs": [
    {
     "data": {
      "text/plain": [
       "('b', 34, 324, 5, 645, '6', 'sudh', 12)"
      ]
     },
     "execution_count": 206,
     "metadata": {},
     "output_type": "execute_result"
    }
   ],
   "source": [
    "tuple(s3)"
   ]
  },
  {
   "cell_type": "code",
   "execution_count": 88,
   "id": "397aad48",
   "metadata": {},
   "outputs": [],
   "source": [
    " l = [2,3,4,5656,7,6,7,7,7,77,7,7,7,7,7,7,7,7,7,7,7,7,7,7,7,7]"
   ]
  },
  {
   "cell_type": "code",
   "execution_count": 89,
   "id": "765debb1",
   "metadata": {},
   "outputs": [],
   "source": [
    "l = list(set(l))"
   ]
  },
  {
   "cell_type": "code",
   "execution_count": 90,
   "id": "e7fe1064",
   "metadata": {},
   "outputs": [
    {
     "data": {
      "text/plain": [
       "[2, 3, 4, 6, 7, 77, 5656]"
      ]
     },
     "execution_count": 90,
     "metadata": {},
     "output_type": "execute_result"
    }
   ],
   "source": [
    "l"
   ]
  },
  {
   "cell_type": "code",
   "execution_count": 93,
   "id": "d9ed309c",
   "metadata": {},
   "outputs": [
    {
     "data": {
      "text/plain": [
       "{345, 675, 3245, 4545, 5645, 6234, 6456}"
      ]
     },
     "execution_count": 93,
     "metadata": {},
     "output_type": "execute_result"
    }
   ],
   "source": [
    "s2"
   ]
  },
  {
   "cell_type": "code",
   "execution_count": 94,
   "id": "08082aff",
   "metadata": {},
   "outputs": [],
   "source": [
    "s2.add(34)"
   ]
  },
  {
   "cell_type": "code",
   "execution_count": 95,
   "id": "01783c98",
   "metadata": {},
   "outputs": [
    {
     "data": {
      "text/plain": [
       "{34, 345, 675, 3245, 4545, 5645, 6234, 6456}"
      ]
     },
     "execution_count": 95,
     "metadata": {},
     "output_type": "execute_result"
    }
   ],
   "source": [
    "s2"
   ]
  },
  {
   "cell_type": "code",
   "execution_count": 214,
   "id": "67f99607",
   "metadata": {},
   "outputs": [
    {
     "ename": "TypeError",
     "evalue": "unhashable type: 'list'",
     "output_type": "error",
     "traceback": [
      "\u001b[1;31m---------------------------------------------------------------------------\u001b[0m",
      "\u001b[1;31mTypeError\u001b[0m                                 Traceback (most recent call last)",
      "\u001b[1;32m~\\AppData\\Local\\Temp/ipykernel_28700/1499940319.py\u001b[0m in \u001b[0;36m<module>\u001b[1;34m\u001b[0m\n\u001b[1;32m----> 1\u001b[1;33m \u001b[0ms2\u001b[0m\u001b[1;33m.\u001b[0m\u001b[0madd\u001b[0m\u001b[1;33m(\u001b[0m\u001b[1;33m[\u001b[0m\u001b[1;36m1\u001b[0m\u001b[1;33m,\u001b[0m\u001b[1;36m2\u001b[0m\u001b[1;33m,\u001b[0m\u001b[1;36m3\u001b[0m\u001b[1;33m,\u001b[0m\u001b[1;36m4\u001b[0m\u001b[1;33m,\u001b[0m\u001b[1;36m5\u001b[0m\u001b[1;33m]\u001b[0m\u001b[1;33m)\u001b[0m\u001b[1;33m\u001b[0m\u001b[1;33m\u001b[0m\u001b[0m\n\u001b[0m",
      "\u001b[1;31mTypeError\u001b[0m: unhashable type: 'list'"
     ]
    }
   ],
   "source": [
    "s2.add([1,2,3,4,5])"
   ]
  },
  {
   "cell_type": "code",
   "execution_count": 74,
   "id": "5cb18521",
   "metadata": {},
   "outputs": [],
   "source": [
    "s = {(1,2,3,4,5) , 3,4,45,65,6}"
   ]
  },
  {
   "cell_type": "code",
   "execution_count": 216,
   "id": "6f89af80",
   "metadata": {},
   "outputs": [
    {
     "data": {
      "text/plain": [
       "{(1, 2, 3, 4, 5), 3, 4, 45, 6, 65}"
      ]
     },
     "execution_count": 216,
     "metadata": {},
     "output_type": "execute_result"
    }
   ],
   "source": [
    "s"
   ]
  },
  {
   "cell_type": "code",
   "execution_count": 217,
   "id": "6605f9c0",
   "metadata": {},
   "outputs": [
    {
     "ename": "TypeError",
     "evalue": "unhashable type: 'list'",
     "output_type": "error",
     "traceback": [
      "\u001b[1;31m---------------------------------------------------------------------------\u001b[0m",
      "\u001b[1;31mTypeError\u001b[0m                                 Traceback (most recent call last)",
      "\u001b[1;32m~\\AppData\\Local\\Temp/ipykernel_28700/1121764547.py\u001b[0m in \u001b[0;36m<module>\u001b[1;34m\u001b[0m\n\u001b[1;32m----> 1\u001b[1;33m \u001b[0ms1\u001b[0m \u001b[1;33m=\u001b[0m \u001b[1;33m{\u001b[0m\u001b[1;33m[\u001b[0m\u001b[1;36m1\u001b[0m\u001b[1;33m,\u001b[0m\u001b[1;36m2\u001b[0m\u001b[1;33m,\u001b[0m\u001b[1;36m3\u001b[0m\u001b[1;33m,\u001b[0m\u001b[1;36m4\u001b[0m\u001b[1;33m]\u001b[0m \u001b[1;33m,\u001b[0m \u001b[1;36m345\u001b[0m \u001b[1;33m,\u001b[0m\u001b[1;36m345\u001b[0m\u001b[1;33m}\u001b[0m\u001b[1;33m\u001b[0m\u001b[1;33m\u001b[0m\u001b[0m\n\u001b[0m",
      "\u001b[1;31mTypeError\u001b[0m: unhashable type: 'list'"
     ]
    }
   ],
   "source": [
    "s1 = {[1,2,3,4] , 345 ,345}"
   ]
  },
  {
   "cell_type": "code",
   "execution_count": 100,
   "id": "a7486de5",
   "metadata": {},
   "outputs": [],
   "source": [
    "s2.add((1,2))"
   ]
  },
  {
   "cell_type": "code",
   "execution_count": 101,
   "id": "3dadc195",
   "metadata": {},
   "outputs": [
    {
     "data": {
      "text/plain": [
       "{(1, 2), 3245, 34, 4545, 5645, 6234, 6456, 675}"
      ]
     },
     "execution_count": 101,
     "metadata": {},
     "output_type": "execute_result"
    }
   ],
   "source": [
    "s2"
   ]
  },
  {
   "cell_type": "code",
   "execution_count": 103,
   "id": "6b80fb6c",
   "metadata": {},
   "outputs": [],
   "source": [
    "s2.remove((1,2))"
   ]
  },
  {
   "cell_type": "code",
   "execution_count": 104,
   "id": "1cfdf0d1",
   "metadata": {},
   "outputs": [
    {
     "data": {
      "text/plain": [
       "{34, 675, 3245, 4545, 5645, 6234, 6456}"
      ]
     },
     "execution_count": 104,
     "metadata": {},
     "output_type": "execute_result"
    }
   ],
   "source": [
    "s2"
   ]
  },
  {
   "cell_type": "code",
   "execution_count": 105,
   "id": "5f422bcf",
   "metadata": {},
   "outputs": [],
   "source": [
    "s2.discard(34526)"
   ]
  },
  {
   "cell_type": "code",
   "execution_count": 106,
   "id": "402539f7",
   "metadata": {},
   "outputs": [
    {
     "data": {
      "text/plain": [
       "{34, 675, 3245, 4545, 5645, 6234, 6456}"
      ]
     },
     "execution_count": 106,
     "metadata": {},
     "output_type": "execute_result"
    }
   ],
   "source": [
    "s2"
   ]
  },
  {
   "cell_type": "code",
   "execution_count": 59,
   "id": "58d36049",
   "metadata": {},
   "outputs": [
    {
     "data": {
      "text/plain": [
       "65"
      ]
     },
     "execution_count": 59,
     "metadata": {},
     "output_type": "execute_result"
    }
   ],
   "source": [
    "s.pop()"
   ]
  },
  {
   "cell_type": "code",
   "execution_count": 60,
   "id": "97be1482",
   "metadata": {},
   "outputs": [
    {
     "data": {
      "text/plain": [
       "{(1, 2, 3, 4, 5), 3, 4, 45, 6}"
      ]
     },
     "execution_count": 60,
     "metadata": {},
     "output_type": "execute_result"
    }
   ],
   "source": [
    "s"
   ]
  },
  {
   "cell_type": "code",
   "execution_count": 228,
   "id": "b313243a",
   "metadata": {},
   "outputs": [
    {
     "data": {
      "text/plain": [
       "set"
      ]
     },
     "execution_count": 228,
     "metadata": {},
     "output_type": "execute_result"
    }
   ],
   "source": [
    "type(s)"
   ]
  },
  {
   "cell_type": "code",
   "execution_count": 230,
   "id": "58558c61",
   "metadata": {},
   "outputs": [],
   "source": [
    "l = list(s)"
   ]
  },
  {
   "cell_type": "code",
   "execution_count": 231,
   "id": "4ebbf5eb",
   "metadata": {},
   "outputs": [
    {
     "data": {
      "text/plain": [
       "[6, (1, 2, 3, 4, 5), 45]"
      ]
     },
     "execution_count": 231,
     "metadata": {},
     "output_type": "execute_result"
    }
   ],
   "source": [
    "l"
   ]
  },
  {
   "cell_type": "code",
   "execution_count": 232,
   "id": "7d81401f",
   "metadata": {},
   "outputs": [
    {
     "data": {
      "text/plain": [
       "{(1, 2, 3, 4, 5), 45, 6}"
      ]
     },
     "execution_count": 232,
     "metadata": {},
     "output_type": "execute_result"
    }
   ],
   "source": [
    "set(l)"
   ]
  },
  {
   "cell_type": "code",
   "execution_count": null,
   "id": "93463c95",
   "metadata": {},
   "outputs": [],
   "source": []
  },
  {
   "cell_type": "code",
   "execution_count": null,
   "id": "97f2fe7e",
   "metadata": {},
   "outputs": [],
   "source": [
    "str\n",
    "list \n",
    "tuple\n",
    "dict\n",
    "set"
   ]
  },
  {
   "cell_type": "code",
   "execution_count": 234,
   "id": "a4c3b614",
   "metadata": {},
   "outputs": [
    {
     "data": {
      "text/plain": [
       "{'key1': 'value', 234: 'xyz', 'name': 'sudh', 'no': 34324345}"
      ]
     },
     "execution_count": 234,
     "metadata": {},
     "output_type": "execute_result"
    }
   ],
   "source": [
    "d2"
   ]
  },
  {
   "cell_type": "code",
   "execution_count": 235,
   "id": "64e6705d",
   "metadata": {},
   "outputs": [],
   "source": [
    "d2[\"key4\"] = \"sdfsf\""
   ]
  },
  {
   "cell_type": "code",
   "execution_count": 236,
   "id": "68cd3b00",
   "metadata": {},
   "outputs": [
    {
     "data": {
      "text/plain": [
       "{'key1': 'value', 234: 'xyz', 'name': 'sudh', 'no': 34324345, 'key4': 'sdfsf'}"
      ]
     },
     "execution_count": 236,
     "metadata": {},
     "output_type": "execute_result"
    }
   ],
   "source": [
    "d2"
   ]
  },
  {
   "cell_type": "code",
   "execution_count": 237,
   "id": "560d9678",
   "metadata": {},
   "outputs": [],
   "source": [
    "d2[\"key1\"]  = \"ineuron\""
   ]
  },
  {
   "cell_type": "code",
   "execution_count": 238,
   "id": "9fbd13e1",
   "metadata": {},
   "outputs": [
    {
     "data": {
      "text/plain": [
       "{'key1': 'ineuron',\n",
       " 234: 'xyz',\n",
       " 'name': 'sudh',\n",
       " 'no': 34324345,\n",
       " 'key4': 'sdfsf'}"
      ]
     },
     "execution_count": 238,
     "metadata": {},
     "output_type": "execute_result"
    }
   ],
   "source": [
    "d2"
   ]
  },
  {
   "cell_type": "code",
   "execution_count": 239,
   "id": "2f69f179",
   "metadata": {},
   "outputs": [],
   "source": [
    "l3.sort(reverse=True) \n"
   ]
  },
  {
   "cell_type": "code",
   "execution_count": 240,
   "id": "d6a0cee8",
   "metadata": {},
   "outputs": [
    {
     "data": {
      "text/plain": [
       "[9, 8, 7]"
      ]
     },
     "execution_count": 240,
     "metadata": {},
     "output_type": "execute_result"
    }
   ],
   "source": [
    "l3"
   ]
  },
  {
   "cell_type": "code",
   "execution_count": null,
   "id": "7f943f23",
   "metadata": {},
   "outputs": [],
   "source": [
    "#Questions \n",
    "\n",
    "l = [3,4,5,6,7 , [23,456,67,8,78,78] , [345,56,87,8,98,9] , (234,6657,6) , {\"key1\" :\"jaya\" , 234:[23,45,656]}]\n",
    "1 . Try to reverse a list \n",
    "2. try to access 234 out of this list \n",
    "3 . try to access 456 \n",
    "4 . Try to extract only a list collection form list l \n",
    "5 . Try to extract \"JAYA\"\n",
    "6 . Try to list all the key in dict element avaible in list \n",
    "7 . Try to extract all the value element form dict available in list "
   ]
  },
  {
   "cell_type": "code",
   "execution_count": 241,
   "id": "9200213c",
   "metadata": {},
   "outputs": [],
   "source": [
    "s = \"surya\"\n",
    "s1 = \"su\""
   ]
  },
  {
   "cell_type": "code",
   "execution_count": 242,
   "id": "49a6fc4b",
   "metadata": {},
   "outputs": [
    {
     "data": {
      "text/plain": [
       "'suryasu'"
      ]
     },
     "execution_count": 242,
     "metadata": {},
     "output_type": "execute_result"
    }
   ],
   "source": [
    "s+s1"
   ]
  },
  {
   "cell_type": "code",
   "execution_count": 243,
   "id": "56b07f96",
   "metadata": {},
   "outputs": [
    {
     "data": {
      "text/plain": [
       "{'key1': 'ineuron',\n",
       " 234: 'xyz',\n",
       " 'name': 'sudh',\n",
       " 'no': 34324345,\n",
       " 'key4': 'sdfsf'}"
      ]
     },
     "execution_count": 243,
     "metadata": {},
     "output_type": "execute_result"
    }
   ],
   "source": [
    "d2\n"
   ]
  },
  {
   "cell_type": "code",
   "execution_count": 245,
   "id": "16a048a3",
   "metadata": {},
   "outputs": [
    {
     "data": {
      "text/plain": [
       "{'k': None, '1': None}"
      ]
     },
     "execution_count": 245,
     "metadata": {},
     "output_type": "execute_result"
    }
   ],
   "source": [
    "d2.fromkeys(\"k1\")"
   ]
  },
  {
   "cell_type": "code",
   "execution_count": 246,
   "id": "e86c7f90",
   "metadata": {},
   "outputs": [],
   "source": [
    "d2['k'] = \"sudh\""
   ]
  },
  {
   "cell_type": "code",
   "execution_count": 247,
   "id": "ec5e82db",
   "metadata": {},
   "outputs": [
    {
     "data": {
      "text/plain": [
       "{'key1': 'ineuron',\n",
       " 234: 'xyz',\n",
       " 'name': 'sudh',\n",
       " 'no': 34324345,\n",
       " 'key4': 'sdfsf',\n",
       " 'k': 'sudh'}"
      ]
     },
     "execution_count": 247,
     "metadata": {},
     "output_type": "execute_result"
    }
   ],
   "source": [
    "d2"
   ]
  },
  {
   "cell_type": "code",
   "execution_count": 249,
   "id": "6ad8c275",
   "metadata": {},
   "outputs": [
    {
     "name": "stdout",
     "output_type": "stream",
     "text": [
      "Enter first side of triangle34\n",
      "Enter second side of triangle56\n",
      "Enter third side of triangle34\n",
      "Area of the triangle is,  540.0444426156055\n"
     ]
    }
   ],
   "source": [
    "side1 = float(input(\"Enter first side of triangle\"))\n",
    "side2 = float(input(\"Enter second side of triangle\"))\n",
    "side3 = float(input(\"Enter third side of triangle\"))\n",
    "s = (side1+side2+side3)/2\n",
    "ar = (s*(s-side1)*(s-side2)*(s-side3)) ** 0.5\n",
    "print(\"Area of the triangle is, \", ar)"
   ]
  },
  {
   "cell_type": "code",
   "execution_count": 250,
   "id": "332f7e8d",
   "metadata": {},
   "outputs": [],
   "source": [
    "l = [1,2,3,4,5]"
   ]
  },
  {
   "cell_type": "code",
   "execution_count": 251,
   "id": "4a8936d5",
   "metadata": {},
   "outputs": [],
   "source": [
    "l.insert(-1 , \"sudh\")"
   ]
  },
  {
   "cell_type": "code",
   "execution_count": 252,
   "id": "d5c73400",
   "metadata": {},
   "outputs": [
    {
     "data": {
      "text/plain": [
       "[1, 2, 3, 4, 'sudh', 5]"
      ]
     },
     "execution_count": 252,
     "metadata": {},
     "output_type": "execute_result"
    }
   ],
   "source": [
    "l"
   ]
  },
  {
   "cell_type": "code",
   "execution_count": 253,
   "id": "507c5394",
   "metadata": {},
   "outputs": [],
   "source": [
    "for i in l:\n",
    "    if type(i)==list:\n",
    "        print(i)\n",
    "    else:\n",
    "        if type(i)==dict:\n",
    "            if type(i.values()==list):\n",
    "                for j in i.values():\n",
    "                    if type(j)==list:\n",
    "                        print(list(j))"
   ]
  },
  {
   "cell_type": "code",
   "execution_count": 1,
   "id": "a92567e4",
   "metadata": {},
   "outputs": [],
   "source": [
    "d6 = {_ : \"fdsdf\"}"
   ]
  },
  {
   "cell_type": "code",
   "execution_count": 2,
   "id": "dd0fe47b",
   "metadata": {},
   "outputs": [
    {
     "data": {
      "text/plain": [
       "{'': 'fdsdf'}"
      ]
     },
     "execution_count": 2,
     "metadata": {},
     "output_type": "execute_result"
    }
   ],
   "source": [
    "d6"
   ]
  },
  {
   "cell_type": "code",
   "execution_count": 3,
   "id": "5f315ca0",
   "metadata": {},
   "outputs": [],
   "source": [
    "t = ( 4,5,6)"
   ]
  },
  {
   "cell_type": "code",
   "execution_count": 5,
   "id": "209d4327",
   "metadata": {},
   "outputs": [],
   "source": [
    "t1 =( 6 )"
   ]
  },
  {
   "cell_type": "code",
   "execution_count": 6,
   "id": "8269c970",
   "metadata": {},
   "outputs": [
    {
     "data": {
      "text/plain": [
       "int"
      ]
     },
     "execution_count": 6,
     "metadata": {},
     "output_type": "execute_result"
    }
   ],
   "source": [
    "type(t1)"
   ]
  },
  {
   "cell_type": "code",
   "execution_count": 8,
   "id": "5e8fca84",
   "metadata": {},
   "outputs": [
    {
     "name": "stdout",
     "output_type": "stream",
     "text": [
      "Vishnu\n",
      "{'name': 'Vishnu', 'title': 'Data Analyst', 'course': 'FSDS', 'key1': {...}}\n"
     ]
    }
   ],
   "source": [
    "#Question\n",
    "D_NEW = {'name':'Vishnu','title':'Data Analyst','course':'FSDS'}\n",
    "D_NEW['key1'] = D_NEW\n",
    "print(D_NEW['name'])\n",
    "print(D_NEW['key1'])"
   ]
  },
  {
   "cell_type": "code",
   "execution_count": 9,
   "id": "3d3e8a32",
   "metadata": {},
   "outputs": [
    {
     "name": "stdout",
     "output_type": "stream",
     "text": [
      "Vishnu\n",
      "{'name': 'Vishnu', 'title': 'Data Analyst', 'course': 'FSDS', 'key1': {...}}\n"
     ]
    }
   ],
   "source": [
    "print(D_NEW['name'])\n",
    "print(D_NEW['key1'])"
   ]
  },
  {
   "cell_type": "code",
   "execution_count": 10,
   "id": "c9908776",
   "metadata": {},
   "outputs": [
    {
     "data": {
      "text/plain": [
       "{'name': 'Vishnu', 'title': 'Data Analyst', 'course': 'FSDS', 'key1': {...}}"
      ]
     },
     "execution_count": 10,
     "metadata": {},
     "output_type": "execute_result"
    }
   ],
   "source": [
    "D_NEW"
   ]
  },
  {
   "cell_type": "code",
   "execution_count": 11,
   "id": "d267e698",
   "metadata": {},
   "outputs": [
    {
     "data": {
      "text/plain": [
       "list"
      ]
     },
     "execution_count": 11,
     "metadata": {},
     "output_type": "execute_result"
    }
   ],
   "source": [
    "t1=(3,5,67.8,789,'876dfghj')\n",
    "t=t+t1\n",
    "type(t)\n",
    "t.count(3)\n",
    "t2=list(t)\n",
    "t2\n",
    "tuple(t2)\n",
    "str(t2)\n",
    "tuple(t2)\n",
    "type(t2)"
   ]
  },
  {
   "cell_type": "code",
   "execution_count": 13,
   "id": "efe61ca0",
   "metadata": {},
   "outputs": [],
   "source": [
    "s = {3,4,5,6,7,7}"
   ]
  },
  {
   "cell_type": "code",
   "execution_count": 14,
   "id": "80bedec8",
   "metadata": {},
   "outputs": [
    {
     "data": {
      "text/plain": [
       "{3, 4, 5, 6, 7}"
      ]
     },
     "execution_count": 14,
     "metadata": {},
     "output_type": "execute_result"
    }
   ],
   "source": [
    "s"
   ]
  },
  {
   "cell_type": "code",
   "execution_count": 18,
   "id": "a1e96e0d",
   "metadata": {},
   "outputs": [
    {
     "data": {
      "text/plain": [
       "3"
      ]
     },
     "execution_count": 18,
     "metadata": {},
     "output_type": "execute_result"
    }
   ],
   "source": [
    "list(s)[0]"
   ]
  },
  {
   "cell_type": "code",
   "execution_count": 19,
   "id": "43d5ede3",
   "metadata": {},
   "outputs": [
    {
     "data": {
      "text/plain": [
       "34.57"
      ]
     },
     "execution_count": 19,
     "metadata": {},
     "output_type": "execute_result"
    }
   ],
   "source": [
    "round(34.5656567 , 2)"
   ]
  },
  {
   "cell_type": "code",
   "execution_count": null,
   "id": "c8c4163c",
   "metadata": {},
   "outputs": [],
   "source": [
    "###### MY QUESTIONS #####\n",
    "d4={\"name\":\"iNeuron\", \"contact_info\":34345,\"name\":\"rupe\"}\n",
    "d4['loc']='Calgary'\n",
    "d4['check'] = d4\n",
    "#### LOOP ####\n",
    "print(d4['check'])\n",
    "#### TYPE ####\n",
    "print(d4.keys())\n",
    "print(d4.items())\n",
    "print(type(d2.keys()))\n",
    "print(type(d2.items()))\n",
    "#### SIGNATURE #########\n",
    "n=[4, 5, 7, 9, 2, 3, 4, 5, 2, 1, 9, 6, 7, 0]\n",
    "n.pop()\n",
    "n.sort()\n"
   ]
  },
  {
   "cell_type": "code",
   "execution_count": 21,
   "id": "a64cb675",
   "metadata": {},
   "outputs": [],
   "source": [
    "d2 = { \"k1\" :\"fsdfs\" , \"k2 \" : [4,5,56]}"
   ]
  },
  {
   "cell_type": "code",
   "execution_count": 24,
   "id": "98a20a59",
   "metadata": {},
   "outputs": [],
   "source": [
    "l = d2.keys()"
   ]
  },
  {
   "cell_type": "code",
   "execution_count": 29,
   "id": "185a92a9",
   "metadata": {},
   "outputs": [
    {
     "data": {
      "text/plain": [
       "'k1'"
      ]
     },
     "execution_count": 29,
     "metadata": {},
     "output_type": "execute_result"
    }
   ],
   "source": [
    "list(l)[0]"
   ]
  },
  {
   "cell_type": "code",
   "execution_count": 30,
   "id": "7d41c824",
   "metadata": {},
   "outputs": [],
   "source": [
    "n=[4, 5, 7, 9, 2, 3, 4, 5, 2, 1, 9, 6, 7, 0]\n",
    "n.pop()\n",
    "n.sort()"
   ]
  },
  {
   "cell_type": "code",
   "execution_count": 33,
   "id": "93683d30",
   "metadata": {},
   "outputs": [],
   "source": [
    "s = { 1,2,None, 3,4}"
   ]
  },
  {
   "cell_type": "code",
   "execution_count": null,
   "id": "a2142043",
   "metadata": {},
   "outputs": [],
   "source": [
    "l = [3,4,5,6,7, [23,456,67,8,78,78], [345,56,87,8,98,9],(234,6657,6),{'key1':'sudh', 234:[]}]\n",
    "umesh\n",
    "1\n",
    "l = [1,2,3,4,5,6,7,[11,22,33,44,55,66],111,222,333,'umesh']\n",
    "l\n",
    "1\n",
    "l\n",
    "[1, 2, 3, 4, 5, 6, 7, [11, 22, 33, 44, 55, 66], 111, 222, 333, 'umesh']\n",
    "3\n",
    "1\n",
    "l.remove(3)\n",
    "l\n",
    "1\n",
    "l\n",
    "[1, 2, 4, 5, 6, 7, [11, 22, 33, 44, 55, 66], 111, 222, 333, 'umesh']\n",
    "2\n",
    "1\n",
    "l.remove(2)\n",
    "l\n",
    "1\n",
    "l\n",
    "[1, 4, 5, 6, 7, [11, 22, 33, 44, 55, 66], 111, 222, 333, 'umesh']\n"
   ]
  },
  {
   "cell_type": "code",
   "execution_count": 37,
   "id": "148512dd",
   "metadata": {},
   "outputs": [],
   "source": [
    "l = [10,2,3,4,5,6,7,[11,22,33,44,55,66],111,222,333,'umesh']"
   ]
  },
  {
   "cell_type": "code",
   "execution_count": 38,
   "id": "9f725819",
   "metadata": {},
   "outputs": [],
   "source": [
    "l.remove(10)"
   ]
  },
  {
   "cell_type": "code",
   "execution_count": 39,
   "id": "95328172",
   "metadata": {},
   "outputs": [
    {
     "data": {
      "text/plain": [
       "[2, 3, 4, 5, 6, 7, [11, 22, 33, 44, 55, 66], 111, 222, 333, 'umesh']"
      ]
     },
     "execution_count": 39,
     "metadata": {},
     "output_type": "execute_result"
    }
   ],
   "source": [
    "l"
   ]
  },
  {
   "cell_type": "code",
   "execution_count": 44,
   "id": "c1b6beae",
   "metadata": {},
   "outputs": [
    {
     "name": "stdout",
     "output_type": "stream",
     "text": [
      "1\n",
      "5\n",
      "asdf\n"
     ]
    },
    {
     "ename": "IndexError",
     "evalue": "list index out of range",
     "output_type": "error",
     "traceback": [
      "\u001b[1;31m---------------------------------------------------------------------------\u001b[0m",
      "\u001b[1;31mIndexError\u001b[0m                                Traceback (most recent call last)",
      "\u001b[1;32m~\\AppData\\Local\\Temp/ipykernel_17348/1981221033.py\u001b[0m in \u001b[0;36m<module>\u001b[1;34m\u001b[0m\n\u001b[0;32m      3\u001b[0m     \u001b[1;32mif\u001b[0m \u001b[0mtype\u001b[0m\u001b[1;33m(\u001b[0m\u001b[0mi\u001b[0m\u001b[1;33m)\u001b[0m \u001b[1;33m==\u001b[0m \u001b[0mlist\u001b[0m\u001b[1;33m:\u001b[0m\u001b[1;33m\u001b[0m\u001b[1;33m\u001b[0m\u001b[0m\n\u001b[0;32m      4\u001b[0m         \u001b[1;32mfor\u001b[0m \u001b[0mj\u001b[0m \u001b[1;32min\u001b[0m \u001b[0mrange\u001b[0m\u001b[1;33m(\u001b[0m\u001b[0mlen\u001b[0m\u001b[1;33m(\u001b[0m\u001b[0mi\u001b[0m\u001b[1;33m)\u001b[0m\u001b[1;33m-\u001b[0m\u001b[1;36m1\u001b[0m\u001b[1;33m)\u001b[0m\u001b[1;33m:\u001b[0m\u001b[1;33m\u001b[0m\u001b[1;33m\u001b[0m\u001b[0m\n\u001b[1;32m----> 5\u001b[1;33m             \u001b[0mprint\u001b[0m\u001b[1;33m(\u001b[0m\u001b[0mi\u001b[0m\u001b[1;33m[\u001b[0m\u001b[0mj\u001b[0m\u001b[1;33m]\u001b[0m\u001b[1;33m)\u001b[0m\u001b[1;33m\u001b[0m\u001b[1;33m\u001b[0m\u001b[0m\n\u001b[0m\u001b[0;32m      6\u001b[0m             \u001b[1;32mwhile\u001b[0m \u001b[0mtype\u001b[0m\u001b[1;33m(\u001b[0m\u001b[0mi\u001b[0m\u001b[1;33m[\u001b[0m\u001b[0mj\u001b[0m\u001b[1;33m]\u001b[0m\u001b[1;33m)\u001b[0m \u001b[1;33m==\u001b[0m \u001b[0mstr\u001b[0m\u001b[1;33m:\u001b[0m\u001b[1;33m\u001b[0m\u001b[1;33m\u001b[0m\u001b[0m\n\u001b[0;32m      7\u001b[0m                 \u001b[0mi\u001b[0m\u001b[1;33m.\u001b[0m\u001b[0mremove\u001b[0m\u001b[1;33m(\u001b[0m\u001b[0mi\u001b[0m\u001b[1;33m[\u001b[0m\u001b[0mj\u001b[0m\u001b[1;33m]\u001b[0m\u001b[1;33m)\u001b[0m\u001b[1;33m\u001b[0m\u001b[1;33m\u001b[0m\u001b[0m\n",
      "\u001b[1;31mIndexError\u001b[0m: list index out of range"
     ]
    }
   ],
   "source": [
    "l=[1,'a','d',[1,5,'asdf','zswe','aa',345],45,\"dfg\",['s','d',1,2,3],'k']\n",
    "for i in l:\n",
    "    if type(i) == list:\n",
    "        for j in range(len(i)-1):\n",
    "            print(i[j])\n",
    "            while type(i[j]) == str:\n",
    "                i.remove(i[j])\n",
    "print(l)"
   ]
  },
  {
   "cell_type": "code",
   "execution_count": null,
   "id": "96e1aa6e",
   "metadata": {},
   "outputs": [],
   "source": []
  }
 ],
 "metadata": {
  "kernelspec": {
   "display_name": "Python 3 (ipykernel)",
   "language": "python",
   "name": "python3"
  },
  "language_info": {
   "codemirror_mode": {
    "name": "ipython",
    "version": 3
   },
   "file_extension": ".py",
   "mimetype": "text/x-python",
   "name": "python",
   "nbconvert_exporter": "python",
   "pygments_lexer": "ipython3",
   "version": "3.9.12"
  }
 },
 "nbformat": 4,
 "nbformat_minor": 5
}
