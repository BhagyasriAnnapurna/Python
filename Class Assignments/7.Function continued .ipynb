{
 "cells": [
  {
   "cell_type": "code",
   "execution_count": 110,
   "id": "8c4ac194",
   "metadata": {},
   "outputs": [],
   "source": [
    "def test(a , b) :\n",
    "    \n",
    "    return a + b\n",
    "    "
   ]
  },
  {
   "cell_type": "code",
   "execution_count": 111,
   "id": "1bebcc7f",
   "metadata": {},
   "outputs": [
    {
     "data": {
      "text/plain": [
       "5"
      ]
     },
     "execution_count": 111,
     "metadata": {},
     "output_type": "execute_result"
    }
   ],
   "source": [
    "test(2,3)"
   ]
  },
  {
   "cell_type": "code",
   "execution_count": 40,
   "id": "339c9c58",
   "metadata": {},
   "outputs": [
    {
     "data": {
      "text/plain": [
       "<function list.append(object, /)>"
      ]
     },
     "execution_count": 40,
     "metadata": {},
     "output_type": "execute_result"
    }
   ],
   "source": [
    "l=[2,3,4,5]\n",
    "l.append"
   ]
  },
  {
   "cell_type": "code",
   "execution_count": 41,
   "id": "42869a07",
   "metadata": {},
   "outputs": [],
   "source": [
    "def test(a , b) :\n",
    "    \"\"\"this is my function for concatination or addition \"\"\"  #creating our own docstring(instrctn about particular fnction)\n",
    "    return a + b\n",
    "    "
   ]
  },
  {
   "cell_type": "code",
   "execution_count": null,
   "id": "1fc4cd93",
   "metadata": {},
   "outputs": [],
   "source": []
  },
  {
   "cell_type": "code",
   "execution_count": 7,
   "id": "9b3735de",
   "metadata": {},
   "outputs": [],
   "source": []
  },
  {
   "cell_type": "code",
   "execution_count": null,
   "id": "c4f007c8",
   "metadata": {},
   "outputs": [],
   "source": []
  },
  {
   "cell_type": "code",
   "execution_count": 2,
   "id": "57c9e144",
   "metadata": {},
   "outputs": [
    {
     "data": {
      "text/plain": [
       "10"
      ]
     },
     "execution_count": 2,
     "metadata": {},
     "output_type": "execute_result"
    }
   ],
   "source": [
    "test(4,6)"
   ]
  },
  {
   "cell_type": "code",
   "execution_count": 2,
   "id": "4a8f16e3",
   "metadata": {},
   "outputs": [
    {
     "data": {
      "text/plain": [
       "'jayaram'"
      ]
     },
     "execution_count": 2,
     "metadata": {},
     "output_type": "execute_result"
    }
   ],
   "source": [
    "test(\"jaya\" , \"ram\")"
   ]
  },
  {
   "cell_type": "code",
   "execution_count": 5,
   "id": "b2c7ba78",
   "metadata": {},
   "outputs": [
    {
     "data": {
      "text/plain": [
       "15"
      ]
     },
     "execution_count": 5,
     "metadata": {},
     "output_type": "execute_result"
    }
   ],
   "source": [
    "test(a = 9  , b = 6 )"
   ]
  },
  {
   "cell_type": "code",
   "execution_count": 6,
   "id": "8dfdf9f5",
   "metadata": {},
   "outputs": [
    {
     "data": {
      "text/plain": [
       "48"
      ]
     },
     "execution_count": 6,
     "metadata": {},
     "output_type": "execute_result"
    }
   ],
   "source": [
    "test(b = 45 , a = 3)"
   ]
  },
  {
   "cell_type": "code",
   "execution_count": null,
   "id": "efdfc7a0",
   "metadata": {},
   "outputs": [],
   "source": [
    "print()"
   ]
  },
  {
   "cell_type": "code",
   "execution_count": 3,
   "id": "dd9fd2e6",
   "metadata": {},
   "outputs": [],
   "source": [
    "def test1(a,b,c,d,e) :\n",
    "    return a ,b ,c,d,e\n",
    "    "
   ]
  },
  {
   "cell_type": "code",
   "execution_count": 4,
   "id": "21deeecc",
   "metadata": {},
   "outputs": [
    {
     "ename": "TypeError",
     "evalue": "test1() missing 1 required positional argument: 'e'",
     "output_type": "error",
     "traceback": [
      "\u001b[1;31m---------------------------------------------------------------------------\u001b[0m",
      "\u001b[1;31mTypeError\u001b[0m                                 Traceback (most recent call last)",
      "Input \u001b[1;32mIn [4]\u001b[0m, in \u001b[0;36m<cell line: 1>\u001b[1;34m()\u001b[0m\n\u001b[1;32m----> 1\u001b[0m \u001b[43mtest1\u001b[49m\u001b[43m(\u001b[49m\u001b[38;5;241;43m3\u001b[39;49m\u001b[43m,\u001b[49m\u001b[38;5;241;43m4\u001b[39;49m\u001b[43m,\u001b[49m\u001b[38;5;241;43m5\u001b[39;49m\u001b[43m,\u001b[49m\u001b[38;5;241;43m6\u001b[39;49m\u001b[43m)\u001b[49m\n",
      "\u001b[1;31mTypeError\u001b[0m: test1() missing 1 required positional argument: 'e'"
     ]
    }
   ],
   "source": [
    "test1(3,4,5,6) #one parameter is missing"
   ]
  },
  {
   "cell_type": "code",
   "execution_count": 5,
   "id": "e4bbced7",
   "metadata": {},
   "outputs": [],
   "source": [
    "#how to pass mulitple parameters at any point of time\n",
    "def test(*a): #static of a = we can provide any number of parameters \n",
    "    return a"
   ]
  },
  {
   "cell_type": "code",
   "execution_count": 42,
   "id": "c2618996",
   "metadata": {},
   "outputs": [
    {
     "data": {
      "text/plain": [
       "(1, [2, 3])"
      ]
     },
     "execution_count": 42,
     "metadata": {},
     "output_type": "execute_result"
    }
   ],
   "source": [
    "def test12(a,b):\n",
    "    return a,b\n",
    "test12(1,[2,3])"
   ]
  },
  {
   "cell_type": "code",
   "execution_count": 116,
   "id": "1c32c74c",
   "metadata": {},
   "outputs": [
    {
     "data": {
      "text/plain": [
       "(34, 56, 1, 2, 3, 4, 5, 7, [1, 2])"
      ]
     },
     "execution_count": 116,
     "metadata": {},
     "output_type": "execute_result"
    }
   ],
   "source": [
    "test(34,56,1,2,3,4,5,7,[1,2])"
   ]
  },
  {
   "cell_type": "code",
   "execution_count": 17,
   "id": "a1622430",
   "metadata": {},
   "outputs": [
    {
     "data": {
      "text/plain": [
       "(2, 3, 4, 4)"
      ]
     },
     "execution_count": 17,
     "metadata": {},
     "output_type": "execute_result"
    }
   ],
   "source": [
    "test(2,3,4,4)"
   ]
  },
  {
   "cell_type": "code",
   "execution_count": 18,
   "id": "cb36ee2e",
   "metadata": {},
   "outputs": [
    {
     "data": {
      "text/plain": [
       "(4, 5, 6, 6, 6, [3, 4, 5, 5, 5, 6])"
      ]
     },
     "execution_count": 18,
     "metadata": {},
     "output_type": "execute_result"
    }
   ],
   "source": [
    "test(4,5,6,6,6,[3,4,5,5,5,6])"
   ]
  },
  {
   "cell_type": "code",
   "execution_count": 117,
   "id": "035bb9ff",
   "metadata": {},
   "outputs": [],
   "source": [
    "def test4(*jaya): #instead of args we can use anything\n",
    "    return jaya"
   ]
  },
  {
   "cell_type": "code",
   "execution_count": 118,
   "id": "15c5b0af",
   "metadata": {},
   "outputs": [
    {
     "data": {
      "text/plain": [
       "(34, 56, 6, 76, 7)"
      ]
     },
     "execution_count": 118,
     "metadata": {},
     "output_type": "execute_result"
    }
   ],
   "source": [
    "test4(34,56,6,76,7)"
   ]
  },
  {
   "cell_type": "code",
   "execution_count": 65,
   "id": "35ff9563",
   "metadata": {},
   "outputs": [],
   "source": [
    "def test5(*a) :\n",
    "   # l = []\n",
    "    for i in a :\n",
    "        print(i)\n",
    "        #l.append(i)\n",
    "    return a"
   ]
  },
  {
   "cell_type": "code",
   "execution_count": 66,
   "id": "8555f62f",
   "metadata": {},
   "outputs": [
    {
     "name": "stdout",
     "output_type": "stream",
     "text": [
      "1\n",
      "3\n",
      "5\n"
     ]
    },
    {
     "data": {
      "text/plain": [
       "(1, 3, 5)"
      ]
     },
     "execution_count": 66,
     "metadata": {},
     "output_type": "execute_result"
    }
   ],
   "source": [
    "test5(1,3,5)"
   ]
  },
  {
   "cell_type": "code",
   "execution_count": 61,
   "id": "a45296ba",
   "metadata": {},
   "outputs": [],
   "source": [
    "def math(*p):\n",
    "    print(p[0])"
   ]
  },
  {
   "cell_type": "code",
   "execution_count": 62,
   "id": "9f7565b9",
   "metadata": {},
   "outputs": [
    {
     "name": "stdout",
     "output_type": "stream",
     "text": [
      "1\n"
     ]
    }
   ],
   "source": [
    "math(1,2,3)"
   ]
  },
  {
   "cell_type": "code",
   "execution_count": 58,
   "id": "5cb6b9a9",
   "metadata": {},
   "outputs": [
    {
     "ename": "NameError",
     "evalue": "name 'test5' is not defined",
     "output_type": "error",
     "traceback": [
      "\u001b[1;31m---------------------------------------------------------------------------\u001b[0m",
      "\u001b[1;31mNameError\u001b[0m                                 Traceback (most recent call last)",
      "Input \u001b[1;32mIn [58]\u001b[0m, in \u001b[0;36m<cell line: 1>\u001b[1;34m()\u001b[0m\n\u001b[1;32m----> 1\u001b[0m \u001b[43mtest5\u001b[49m(\u001b[38;5;241m2\u001b[39m,\u001b[38;5;241m3\u001b[39m,\u001b[38;5;241m4\u001b[39m,\u001b[38;5;241m45\u001b[39m,\u001b[38;5;241m5\u001b[39m,[\u001b[38;5;241m345\u001b[39m,\u001b[38;5;241m56\u001b[39m,\u001b[38;5;241m5\u001b[39m,\u001b[38;5;241m6\u001b[39m])\n",
      "\u001b[1;31mNameError\u001b[0m: name 'test5' is not defined"
     ]
    }
   ],
   "source": [
    "test5(2,3,4,45,5,[345,56,5,6])"
   ]
  },
  {
   "cell_type": "code",
   "execution_count": 23,
   "id": "a7d303e8",
   "metadata": {},
   "outputs": [
    {
     "data": {
      "text/plain": [
       "[3, 4, 5, 56]"
      ]
     },
     "execution_count": 23,
     "metadata": {},
     "output_type": "execute_result"
    }
   ],
   "source": [
    "test5(3,4,5,56)"
   ]
  },
  {
   "cell_type": "code",
   "execution_count": 119,
   "id": "6506865d",
   "metadata": {},
   "outputs": [],
   "source": [
    "def test6(a,b,c,d , *m):\n",
    "    return a , b, c,d, m"
   ]
  },
  {
   "cell_type": "code",
   "execution_count": 6,
   "id": "9e46bda9",
   "metadata": {},
   "outputs": [],
   "source": [
    "def test7(*m,a,b,c,d,e):\n",
    "    return m , a,b,c,d,e"
   ]
  },
  {
   "cell_type": "code",
   "execution_count": 128,
   "id": "dbcee1ef",
   "metadata": {},
   "outputs": [
    {
     "data": {
      "text/plain": [
       "(((1, 2, 3),), 3, 4, 5, 8, 0)"
      ]
     },
     "execution_count": 128,
     "metadata": {},
     "output_type": "execute_result"
    }
   ],
   "source": [
    "test7((1,2,3),a=3,b=4,c=5,d=8,e=0)"
   ]
  },
  {
   "cell_type": "code",
   "execution_count": 129,
   "id": "7d71ce12",
   "metadata": {},
   "outputs": [
    {
     "ename": "TypeError",
     "evalue": "test7() missing 5 required keyword-only arguments: 'a', 'b', 'c', 'd', and 'e'",
     "output_type": "error",
     "traceback": [
      "\u001b[1;31m---------------------------------------------------------------------------\u001b[0m",
      "\u001b[1;31mTypeError\u001b[0m                                 Traceback (most recent call last)",
      "Input \u001b[1;32mIn [129]\u001b[0m, in \u001b[0;36m<cell line: 1>\u001b[1;34m()\u001b[0m\n\u001b[1;32m----> 1\u001b[0m \u001b[43mtest7\u001b[49m\u001b[43m(\u001b[49m\u001b[38;5;241;43m4\u001b[39;49m\u001b[43m,\u001b[49m\u001b[38;5;241;43m5\u001b[39;49m\u001b[43m,\u001b[49m\u001b[38;5;241;43m65\u001b[39;49m\u001b[43m,\u001b[49m\u001b[38;5;241;43m6\u001b[39;49m\u001b[43m,\u001b[49m\u001b[38;5;241;43m6\u001b[39;49m\u001b[43m,\u001b[49m\u001b[38;5;241;43m7\u001b[39;49m\u001b[43m,\u001b[49m\u001b[38;5;241;43m7\u001b[39;49m\u001b[43m,\u001b[49m\u001b[38;5;241;43m56\u001b[39;49m\u001b[43m,\u001b[49m\u001b[38;5;241;43m67\u001b[39;49m\u001b[43m,\u001b[49m\u001b[38;5;241;43m34\u001b[39;49m\u001b[43m,\u001b[49m\u001b[38;5;241;43m54\u001b[39;49m\u001b[43m,\u001b[49m\u001b[38;5;241;43m67\u001b[39;49m\u001b[43m,\u001b[49m\u001b[38;5;241;43m78\u001b[39;49m\u001b[43m)\u001b[49m\n",
      "\u001b[1;31mTypeError\u001b[0m: test7() missing 5 required keyword-only arguments: 'a', 'b', 'c', 'd', and 'e'"
     ]
    }
   ],
   "source": [
    "test7(4,5,65,6,6,7,7,56,67,34,54,67,78)"
   ]
  },
  {
   "cell_type": "code",
   "execution_count": 7,
   "id": "48971316",
   "metadata": {},
   "outputs": [
    {
     "ename": "SyntaxError",
     "evalue": "positional argument follows keyword argument (3701966941.py, line 1)",
     "output_type": "error",
     "traceback": [
      "\u001b[1;36m  Input \u001b[1;32mIn [7]\u001b[1;36m\u001b[0m\n\u001b[1;33m    test7(4,5,65,6,6,7,7,56,a = 67,b  = 34,c = 54,d= 67,e = 78,1,2,3)\u001b[0m\n\u001b[1;37m                                                                    ^\u001b[0m\n\u001b[1;31mSyntaxError\u001b[0m\u001b[1;31m:\u001b[0m positional argument follows keyword argument\n"
     ]
    }
   ],
   "source": [
    "test7(4,5,65,6,6,7,7,56,a = 67,b  = 34,c = 54,d= 67,e = 78,1,2,3)"
   ]
  },
  {
   "cell_type": "code",
   "execution_count": 49,
   "id": "93d66303",
   "metadata": {},
   "outputs": [
    {
     "ename": "SyntaxError",
     "evalue": "invalid syntax (326879204.py, line 1)",
     "output_type": "error",
     "traceback": [
      "\u001b[1;36m  Input \u001b[1;32mIn [49]\u001b[1;36m\u001b[0m\n\u001b[1;33m    def test8(**jaya,a): #double static is a key value pair of input\u001b[0m\n\u001b[1;37m                     ^\u001b[0m\n\u001b[1;31mSyntaxError\u001b[0m\u001b[1;31m:\u001b[0m invalid syntax\n"
     ]
    }
   ],
   "source": [
    "def test8(**jaya,a): #double static is a key value pair of input\n",
    "    return jaya,a"
   ]
  },
  {
   "cell_type": "code",
   "execution_count": 48,
   "id": "e2b4cdd3",
   "metadata": {},
   "outputs": [
    {
     "data": {
      "text/plain": [
       "({'k': 2, 'b': 5, 'c': 0}, 7)"
      ]
     },
     "execution_count": 48,
     "metadata": {},
     "output_type": "execute_result"
    }
   ],
   "source": [
    "test8(k=2,b=5,c=0,7)"
   ]
  },
  {
   "cell_type": "code",
   "execution_count": 9,
   "id": "f81d76f0",
   "metadata": {},
   "outputs": [
    {
     "data": {
      "text/plain": [
       "(6, {'b': 4, 'c': 5, 'd': 6, 'e': 6, 'n': [3, 4, 45, 5, 6, 6, 6]})"
      ]
     },
     "execution_count": 9,
     "metadata": {},
     "output_type": "execute_result"
    }
   ],
   "source": [
    "test8(6,b = 4,c = 5,d =  6,e = 6 , n = [3,4,45,5,6,6,6])"
   ]
  },
  {
   "cell_type": "code",
   "execution_count": 132,
   "id": "3183df76",
   "metadata": {},
   "outputs": [],
   "source": [
    "def test10(*m):\n",
    "    n=0\n",
    "    for i in m:\n",
    "        if type(i)==int:\n",
    "            n=n+i\n",
    "    return n"
   ]
  },
  {
   "cell_type": "code",
   "execution_count": 133,
   "id": "1550b322",
   "metadata": {},
   "outputs": [
    {
     "data": {
      "text/plain": [
       "14"
      ]
     },
     "execution_count": 133,
     "metadata": {},
     "output_type": "execute_result"
    }
   ],
   "source": [
    "test10(2,3,4,5)"
   ]
  },
  {
   "cell_type": "code",
   "execution_count": 54,
   "id": "df0bb162",
   "metadata": {},
   "outputs": [],
   "source": [
    "def test11(*m):\n",
    "    n=1\n",
    "    #print(type(m))\n",
    "    for i in m:\n",
    "        if type(i)==int:\n",
    "            n=n*i\n",
    "    return n\n",
    "\n"
   ]
  },
  {
   "cell_type": "code",
   "execution_count": 56,
   "id": "6d064af6",
   "metadata": {},
   "outputs": [
    {
     "name": "stdout",
     "output_type": "stream",
     "text": [
      "<class 'tuple'>\n"
     ]
    },
    {
     "data": {
      "text/plain": [
       "int"
      ]
     },
     "execution_count": 56,
     "metadata": {},
     "output_type": "execute_result"
    }
   ],
   "source": [
    "type(test11(1,2,3))"
   ]
  },
  {
   "cell_type": "code",
   "execution_count": 8,
   "id": "3861be80",
   "metadata": {},
   "outputs": [
    {
     "data": {
      "text/plain": [
       "40320"
      ]
     },
     "execution_count": 8,
     "metadata": {},
     "output_type": "execute_result"
    }
   ],
   "source": [
    "test11(2,3,4,5,6,7,8)\n"
   ]
  },
  {
   "cell_type": "code",
   "execution_count": 9,
   "id": "27ecf375",
   "metadata": {},
   "outputs": [],
   "source": [
    "def test11(*m):\n",
    "    n=1\n",
    "    for i in m:\n",
    "        if type(i)==int:\n",
    "            n=n*i\n",
    "        return n"
   ]
  },
  {
   "cell_type": "code",
   "execution_count": 10,
   "id": "fec3f41c",
   "metadata": {},
   "outputs": [
    {
     "data": {
      "text/plain": [
       "2"
      ]
     },
     "execution_count": 10,
     "metadata": {},
     "output_type": "execute_result"
    }
   ],
   "source": [
    "test11(2,3,4,5,6,7,8)"
   ]
  },
  {
   "cell_type": "code",
   "execution_count": 37,
   "id": "8f4b1257",
   "metadata": {},
   "outputs": [],
   "source": [
    "d = {'b': 4, 'c': 5, 'd': 6, 'e': 6}"
   ]
  },
  {
   "cell_type": "code",
   "execution_count": 38,
   "id": "f70f758c",
   "metadata": {},
   "outputs": [
    {
     "ename": "TypeError",
     "evalue": "test8() takes 0 positional arguments but 1 was given",
     "output_type": "error",
     "traceback": [
      "\u001b[1;31m---------------------------------------------------------------------------\u001b[0m",
      "\u001b[1;31mTypeError\u001b[0m                                 Traceback (most recent call last)",
      "\u001b[1;32m~\\AppData\\Local\\Temp/ipykernel_7960/2123698705.py\u001b[0m in \u001b[0;36m<module>\u001b[1;34m\u001b[0m\n\u001b[1;32m----> 1\u001b[1;33m \u001b[0mtest8\u001b[0m\u001b[1;33m(\u001b[0m\u001b[0md\u001b[0m\u001b[1;33m)\u001b[0m\u001b[1;33m\u001b[0m\u001b[1;33m\u001b[0m\u001b[0m\n\u001b[0m",
      "\u001b[1;31mTypeError\u001b[0m: test8() takes 0 positional arguments but 1 was given"
     ]
    }
   ],
   "source": [
    "test8(d)"
   ]
  },
  {
   "cell_type": "code",
   "execution_count": 16,
   "id": "144b1dcf",
   "metadata": {},
   "outputs": [],
   "source": [
    "def test9(*m,**s,l) :\n",
    "    return l,m,s"
   ]
  },
  {
   "cell_type": "code",
   "execution_count": 17,
   "id": "13d9ccfc",
   "metadata": {},
   "outputs": [
    {
     "data": {
      "text/plain": [
       "(1, (2, 3, 4), {'a': 2, 'b': 1, 'c': 4})"
      ]
     },
     "execution_count": 17,
     "metadata": {},
     "output_type": "execute_result"
    }
   ],
   "source": [
    "test9(1,2,3,4,a=2,b=1,c=4)"
   ]
  },
  {
   "cell_type": "code",
   "execution_count": 152,
   "id": "aa34e130",
   "metadata": {},
   "outputs": [],
   "source": [
    "def test1(*m,a):\n",
    "    return a,m"
   ]
  },
  {
   "cell_type": "code",
   "execution_count": 154,
   "id": "86047db0",
   "metadata": {},
   "outputs": [
    {
     "data": {
      "text/plain": [
       "(10, (1, 2, 3, 4))"
      ]
     },
     "execution_count": 154,
     "metadata": {},
     "output_type": "execute_result"
    }
   ],
   "source": [
    "test1(1,2,3,4,a=10)"
   ]
  },
  {
   "cell_type": "code",
   "execution_count": 144,
   "id": "a4644925",
   "metadata": {},
   "outputs": [
    {
     "data": {
      "text/plain": [
       "(345, {'b': 4, 'c': 6, 'd': 7, 'g': 9})"
      ]
     },
     "execution_count": 144,
     "metadata": {},
     "output_type": "execute_result"
    }
   ],
   "source": [
    "test9(1,2,3,4,b= 4,c= 6, d = 7 , g = 9,a=345)"
   ]
  },
  {
   "cell_type": "code",
   "execution_count": null,
   "id": "b5b305f9",
   "metadata": {},
   "outputs": [],
   "source": []
  },
  {
   "cell_type": "code",
   "execution_count": 22,
   "id": "7967d620",
   "metadata": {},
   "outputs": [],
   "source": [
    "def test10(*m):\n",
    "    n = 0\n",
    "    for i in m :\n",
    "        if type(i) == int :\n",
    "            n = n+i\n",
    "    return n\n",
    "            "
   ]
  },
  {
   "cell_type": "code",
   "execution_count": 23,
   "id": "3aa2bfb8",
   "metadata": {},
   "outputs": [
    {
     "data": {
      "text/plain": [
       "31"
      ]
     },
     "execution_count": 23,
     "metadata": {},
     "output_type": "execute_result"
    }
   ],
   "source": [
    "test10(2,3,4,5,5,6,6)"
   ]
  },
  {
   "cell_type": "code",
   "execution_count": 46,
   "id": "5fdeb17d",
   "metadata": {},
   "outputs": [
    {
     "data": {
      "text/plain": [
       "9"
      ]
     },
     "execution_count": 46,
     "metadata": {},
     "output_type": "execute_result"
    }
   ],
   "source": [
    "test10(2,3,4)"
   ]
  },
  {
   "cell_type": "code",
   "execution_count": 24,
   "id": "633e2a4d",
   "metadata": {},
   "outputs": [],
   "source": [
    "def test1(*m):\n",
    "    n = 1\n",
    "    for i in m :\n",
    "        if type(i) == int :\n",
    "            n = n*i\n",
    "    return n\n",
    "            "
   ]
  },
  {
   "cell_type": "code",
   "execution_count": 25,
   "id": "9a7b3f3c",
   "metadata": {},
   "outputs": [
    {
     "data": {
      "text/plain": [
       "3507840"
      ]
     },
     "execution_count": 25,
     "metadata": {},
     "output_type": "execute_result"
    }
   ],
   "source": [
    "test1(4,5,6,6,7,87,8)"
   ]
  },
  {
   "cell_type": "markdown",
   "id": "7b290cf0",
   "metadata": {},
   "source": [
    "# LAMBDA FUNCTION(ANONYMOUS FUNCTION= Function with no name)"
   ]
  },
  {
   "cell_type": "code",
   "execution_count": 12,
   "id": "b8b9971c",
   "metadata": {},
   "outputs": [],
   "source": [
    "def addition(a,b):   \n",
    "    return a+b      #in this we have one single expression"
   ]
  },
  {
   "cell_type": "code",
   "execution_count": 13,
   "id": "aa237e1b",
   "metadata": {},
   "outputs": [
    {
     "data": {
      "text/plain": [
       "5"
      ]
     },
     "execution_count": 13,
     "metadata": {},
     "output_type": "execute_result"
    }
   ],
   "source": [
    "addition(2,3)"
   ]
  },
  {
   "cell_type": "code",
   "execution_count": null,
   "id": "0d195bb7",
   "metadata": {},
   "outputs": [],
   "source": [
    " note: inorder to convert normal function into lambda function we use a keyword called as lambda"
   ]
  },
  {
   "cell_type": "code",
   "execution_count": 160,
   "id": "e383b167",
   "metadata": {},
   "outputs": [],
   "source": [
    "add=lambda a,b:a+b"
   ]
  },
  {
   "cell_type": "code",
   "execution_count": 161,
   "id": "610fb8f8",
   "metadata": {},
   "outputs": [
    {
     "data": {
      "text/plain": [
       "26"
      ]
     },
     "execution_count": 161,
     "metadata": {},
     "output_type": "execute_result"
    }
   ],
   "source": [
    "add(12,14)"
   ]
  },
  {
   "cell_type": "code",
   "execution_count": 162,
   "id": "7a36a6bd",
   "metadata": {},
   "outputs": [],
   "source": [
    "def even(num):\n",
    "    if num%2==0:\n",
    "        return True"
   ]
  },
  {
   "cell_type": "code",
   "execution_count": 164,
   "id": "17fe939b",
   "metadata": {},
   "outputs": [
    {
     "data": {
      "text/plain": [
       "True"
      ]
     },
     "execution_count": 164,
     "metadata": {},
     "output_type": "execute_result"
    }
   ],
   "source": [
    "even(2)"
   ]
  },
  {
   "cell_type": "code",
   "execution_count": 19,
   "id": "2bcf35ef",
   "metadata": {},
   "outputs": [
    {
     "data": {
      "text/plain": [
       "False"
      ]
     },
     "execution_count": 19,
     "metadata": {},
     "output_type": "execute_result"
    }
   ],
   "source": [
    "even1=lambda a:a%2==0\n",
    "even1(5)"
   ]
  },
  {
   "cell_type": "code",
   "execution_count": 26,
   "id": "70f0e18f",
   "metadata": {},
   "outputs": [
    {
     "name": "stdout",
     "output_type": "stream",
     "text": [
      "15\n"
     ]
    }
   ],
   "source": [
    "x = lambda a : a + 10\n",
    "print(x(5))"
   ]
  },
  {
   "cell_type": "code",
   "execution_count": 50,
   "id": "a240987d",
   "metadata": {},
   "outputs": [],
   "source": [
    "n = lambda a , b : a + b #lamba function is called as annonymous function or inline function because there is no name"
   ]
  },
  {
   "cell_type": "code",
   "execution_count": 52,
   "id": "24747816",
   "metadata": {},
   "outputs": [
    {
     "data": {
      "text/plain": [
       "9"
      ]
     },
     "execution_count": 52,
     "metadata": {},
     "output_type": "execute_result"
    }
   ],
   "source": [
    "n(4,5)"
   ]
  },
  {
   "cell_type": "code",
   "execution_count": 53,
   "id": "1a6f8606",
   "metadata": {},
   "outputs": [],
   "source": [
    "def test5(a,b):\n",
    "    return a + b "
   ]
  },
  {
   "cell_type": "code",
   "execution_count": 54,
   "id": "c438cd09",
   "metadata": {},
   "outputs": [
    {
     "data": {
      "text/plain": [
       "9"
      ]
     },
     "execution_count": 54,
     "metadata": {},
     "output_type": "execute_result"
    }
   ],
   "source": [
    "test5(4,5)"
   ]
  },
  {
   "cell_type": "code",
   "execution_count": 55,
   "id": "f1274c0b",
   "metadata": {},
   "outputs": [
    {
     "data": {
      "text/plain": [
       "11"
      ]
     },
     "execution_count": 55,
     "metadata": {},
     "output_type": "execute_result"
    }
   ],
   "source": [
    "n(5,6)"
   ]
  },
  {
   "cell_type": "code",
   "execution_count": 67,
   "id": "a33a46c7",
   "metadata": {},
   "outputs": [],
   "source": [
    "b = lambda *m :m "
   ]
  },
  {
   "cell_type": "code",
   "execution_count": 168,
   "id": "8661cc0a",
   "metadata": {},
   "outputs": [
    {
     "data": {
      "text/plain": [
       "{'a': 45, 'c': 5, 'd': 4}"
      ]
     },
     "execution_count": 168,
     "metadata": {},
     "output_type": "execute_result"
    }
   ],
   "source": [
    "b(a=45,c=5,d=4)"
   ]
  },
  {
   "cell_type": "markdown",
   "id": "40c4c4e6",
   "metadata": {},
   "source": [
    "# list comprehension operation : \n",
    "It provides a concise way to create lists. It consists of brackets containing an expression followed by a for clause, then zero pr more for or if classes. the expressions Can be anything,meaning you can put in all kinds of objects in lists"
   ]
  },
  {
   "cell_type": "code",
   "execution_count": 1,
   "id": "c9cd5a0a",
   "metadata": {},
   "outputs": [],
   "source": [
    "t = (3,4,4,5,5,6,67,7,7)\n",
    "l = []\n",
    "for i in t :\n",
    "    l.append(i)"
   ]
  },
  {
   "cell_type": "code",
   "execution_count": 36,
   "id": "8f655ead",
   "metadata": {},
   "outputs": [
    {
     "data": {
      "text/plain": [
       "[3, 4, 4, 5, 5, 6, 67, 7, 7]"
      ]
     },
     "execution_count": 36,
     "metadata": {},
     "output_type": "execute_result"
    }
   ],
   "source": [
    "l"
   ]
  },
  {
   "cell_type": "code",
   "execution_count": 2,
   "id": "83753bad",
   "metadata": {},
   "outputs": [
    {
     "data": {
      "text/plain": [
       "[9, 16, 16, 25, 25, 36, 4489, 49, 49]"
      ]
     },
     "execution_count": 2,
     "metadata": {},
     "output_type": "execute_result"
    }
   ],
   "source": [
    "[i*i for i in t] #list comprohension operation i =return "
   ]
  },
  {
   "cell_type": "code",
   "execution_count": 4,
   "id": "ee397949",
   "metadata": {},
   "outputs": [],
   "source": [
    "s = \"jaya\""
   ]
  },
  {
   "cell_type": "code",
   "execution_count": 5,
   "id": "aa8d745b",
   "metadata": {},
   "outputs": [
    {
     "data": {
      "text/plain": [
       "['j', 'a', 'y', 'a']"
      ]
     },
     "execution_count": 5,
     "metadata": {},
     "output_type": "execute_result"
    }
   ],
   "source": [
    "[i for i in s ]"
   ]
  },
  {
   "cell_type": "code",
   "execution_count": 64,
   "id": "282fb8ab",
   "metadata": {},
   "outputs": [
    {
     "data": {
      "text/plain": [
       "[0, 1, 4, 9, 16, 25, 36, 49, 64, 81]"
      ]
     },
     "execution_count": 64,
     "metadata": {},
     "output_type": "execute_result"
    }
   ],
   "source": [
    "[i*i for i in range(10)]"
   ]
  },
  {
   "cell_type": "code",
   "execution_count": 96,
   "id": "a6312326",
   "metadata": {},
   "outputs": [],
   "source": [
    "l = []\n",
    "for i in range(10):\n",
    "    l.append(i*i)"
   ]
  },
  {
   "cell_type": "code",
   "execution_count": 66,
   "id": "9a63b637",
   "metadata": {},
   "outputs": [
    {
     "data": {
      "text/plain": [
       "[0, 1, 4, 9, 16, 25, 36, 49, 64, 81]"
      ]
     },
     "execution_count": 66,
     "metadata": {},
     "output_type": "execute_result"
    }
   ],
   "source": [
    "l\n"
   ]
  },
  {
   "cell_type": "code",
   "execution_count": 98,
   "id": "516f0e89",
   "metadata": {},
   "outputs": [
    {
     "data": {
      "text/plain": [
       "[0, 1, 16, 81, 256, 625, 1296, 2401, 4096, 6561]"
      ]
     },
     "execution_count": 98,
     "metadata": {},
     "output_type": "execute_result"
    }
   ],
   "source": [
    "[i*i for i in l]"
   ]
  },
  {
   "cell_type": "code",
   "execution_count": 50,
   "id": "7ab81a42",
   "metadata": {},
   "outputs": [],
   "source": [
    "l = lambda *x : [i**2 for i in x ]"
   ]
  },
  {
   "cell_type": "code",
   "execution_count": 51,
   "id": "937a9e1a",
   "metadata": {},
   "outputs": [
    {
     "data": {
      "text/plain": [
       "[16, 2025, 25, 36, 36, 49, 64, 81]"
      ]
     },
     "execution_count": 51,
     "metadata": {},
     "output_type": "execute_result"
    }
   ],
   "source": [
    "l(4,45,5,6,6,7,8,9)"
   ]
  },
  {
   "cell_type": "markdown",
   "id": "7779605c",
   "metadata": {},
   "source": [
    "# MAP Functions in PYTHON"
   ]
  },
  {
   "cell_type": "code",
   "execution_count": 1,
   "id": "dfc97462",
   "metadata": {},
   "outputs": [],
   "source": [
    "def even_or_odd(num):\n",
    "    if num%2==0:\n",
    "        return \"the {} is Even\".format(num)\n",
    "    else:\n",
    "        return \"the {} is Odd\".format(num)\n",
    "    "
   ]
  },
  {
   "cell_type": "code",
   "execution_count": 6,
   "id": "b773de2d",
   "metadata": {},
   "outputs": [
    {
     "data": {
      "text/plain": [
       "'the 21 is Odd'"
      ]
     },
     "execution_count": 6,
     "metadata": {},
     "output_type": "execute_result"
    }
   ],
   "source": [
    "even_or_odd(21)\n"
   ]
  },
  {
   "cell_type": "code",
   "execution_count": 2,
   "id": "3399aaa6",
   "metadata": {},
   "outputs": [],
   "source": [
    "lst=[1,2,3,4,5,6,7,8,24,56,78]"
   ]
  },
  {
   "cell_type": "code",
   "execution_count": 4,
   "id": "6236b359",
   "metadata": {},
   "outputs": [
    {
     "data": {
      "text/plain": [
       "['the 1 is Odd',\n",
       " 'the 2 is Even',\n",
       " 'the 3 is Odd',\n",
       " 'the 4 is Even',\n",
       " 'the 5 is Odd',\n",
       " 'the 6 is Even',\n",
       " 'the 7 is Odd',\n",
       " 'the 8 is Even',\n",
       " 'the 24 is Even',\n",
       " 'the 56 is Even',\n",
       " 'the 78 is Even']"
      ]
     },
     "execution_count": 4,
     "metadata": {},
     "output_type": "execute_result"
    }
   ],
   "source": [
    "list(map(even_or_odd,lst))"
   ]
  },
  {
   "cell_type": "code",
   "execution_count": 17,
   "id": "bcdb3ea2",
   "metadata": {},
   "outputs": [
    {
     "data": {
      "text/plain": [
       "[1, 4, 9, 16]"
      ]
     },
     "execution_count": 17,
     "metadata": {},
     "output_type": "execute_result"
    }
   ],
   "source": [
    "def new(a):\n",
    "    return a*a\n",
    "list(map(new,(1,2,3,4)))\n"
   ]
  },
  {
   "cell_type": "markdown",
   "id": "2de63e64",
   "metadata": {},
   "source": [
    "# FILTER FUNCTIONS"
   ]
  },
  {
   "cell_type": "code",
   "execution_count": 12,
   "id": "6fe01166",
   "metadata": {},
   "outputs": [],
   "source": [
    "def even(num):\n",
    "    if num%2==0:\n",
    "        return True\n",
    "    else:\n",
    "        return True\n",
    "    "
   ]
  },
  {
   "cell_type": "code",
   "execution_count": 10,
   "id": "92c8ea47",
   "metadata": {},
   "outputs": [],
   "source": [
    "lst=[1,2,3,4,5,6,7,8,0]"
   ]
  },
  {
   "cell_type": "code",
   "execution_count": 11,
   "id": "1666691c",
   "metadata": {},
   "outputs": [
    {
     "data": {
      "text/plain": [
       "[2, 4, 6, 8, 0]"
      ]
     },
     "execution_count": 11,
     "metadata": {},
     "output_type": "execute_result"
    }
   ],
   "source": [
    "list(filter(even,lst))"
   ]
  },
  {
   "cell_type": "code",
   "execution_count": 24,
   "id": "60861f1e",
   "metadata": {},
   "outputs": [
    {
     "data": {
      "text/plain": [
       "[2, 4, 6, 8, 0]"
      ]
     },
     "execution_count": 24,
     "metadata": {},
     "output_type": "execute_result"
    }
   ],
   "source": [
    "list(filter(lambda num:num%2==0,lst))"
   ]
  },
  {
   "cell_type": "code",
   "execution_count": 25,
   "id": "2d1e52ca",
   "metadata": {},
   "outputs": [
    {
     "data": {
      "text/plain": [
       "[False, True, False, True, False, True, False, True, True]"
      ]
     },
     "execution_count": 25,
     "metadata": {},
     "output_type": "execute_result"
    }
   ],
   "source": [
    "list(map(lambda num:num%2==0,lst))"
   ]
  },
  {
   "cell_type": "code",
   "execution_count": 40,
   "id": "47852a10",
   "metadata": {},
   "outputs": [],
   "source": [
    "def test14(**kwargs):\n",
    "    count = 0\n",
    "    print(kwargs)\n",
    "    print(kwargs.values())\n",
    "    for v in kwargs.values():\n",
    "        if type(v) == str:\n",
    "            count += 1\n",
    "        if type(v) == list :\n",
    "            for i in v :\n",
    "                if type(i) == str :\n",
    "                    count+= 1\n",
    "    return count\n",
    "\n"
   ]
  },
  {
   "cell_type": "markdown",
   "id": "7beef153",
   "metadata": {},
   "source": [
    "# Python list iterables vs iterators"
   ]
  },
  {
   "cell_type": "code",
   "execution_count": 27,
   "id": "ff90e63b",
   "metadata": {},
   "outputs": [
    {
     "name": "stdout",
     "output_type": "stream",
     "text": [
      "1\n",
      "2\n",
      "3\n",
      "4\n",
      "5\n",
      "6\n",
      "7\n"
     ]
    }
   ],
   "source": [
    "#list is iterable\n",
    "#iterable means all the values are allocated in memory allocations at a time\n",
    "lst=[1,2,3,4,5,6,7]\n",
    "for i in lst:\n",
    "    #while i<=5:\n",
    "        print(i)\n",
    "\n"
   ]
  },
  {
   "cell_type": "code",
   "execution_count": 28,
   "id": "1431d350",
   "metadata": {},
   "outputs": [
    {
     "data": {
      "text/plain": [
       "<list_iterator at 0x22d7dce9970>"
      ]
     },
     "execution_count": 28,
     "metadata": {},
     "output_type": "execute_result"
    }
   ],
   "source": [
    "iter(lst)"
   ]
  },
  {
   "cell_type": "code",
   "execution_count": null,
   "id": "bbbc2d7b",
   "metadata": {},
   "outputs": [],
   "source": [
    "# in iterator all the values are not initialized in the memory location. if we use next function then only that element is initialized in the memory"
   ]
  },
  {
   "cell_type": "code",
   "execution_count": 29,
   "id": "79ac42cf",
   "metadata": {},
   "outputs": [],
   "source": [
    "list1=iter(lst)"
   ]
  },
  {
   "cell_type": "code",
   "execution_count": 30,
   "id": "8830ef2c",
   "metadata": {},
   "outputs": [
    {
     "data": {
      "text/plain": [
       "<list_iterator at 0x22d7f011550>"
      ]
     },
     "execution_count": 30,
     "metadata": {},
     "output_type": "execute_result"
    }
   ],
   "source": [
    "list1 #we cannot see all the elements in the list because the memory is not initialised"
   ]
  },
  {
   "cell_type": "code",
   "execution_count": 40,
   "id": "d0c103b6",
   "metadata": {},
   "outputs": [
    {
     "ename": "StopIteration",
     "evalue": "",
     "output_type": "error",
     "traceback": [
      "\u001b[1;31m---------------------------------------------------------------------------\u001b[0m",
      "\u001b[1;31mStopIteration\u001b[0m                             Traceback (most recent call last)",
      "Input \u001b[1;32mIn [40]\u001b[0m, in \u001b[0;36m<cell line: 1>\u001b[1;34m()\u001b[0m\n\u001b[1;32m----> 1\u001b[0m \u001b[38;5;28;43mnext\u001b[39;49m\u001b[43m(\u001b[49m\u001b[43mlist1\u001b[49m\u001b[43m)\u001b[49m\n",
      "\u001b[1;31mStopIteration\u001b[0m: "
     ]
    }
   ],
   "source": [
    "next(list1) #one by one the values are stored in the memory"
   ]
  },
  {
   "cell_type": "code",
   "execution_count": 44,
   "id": "604a633d",
   "metadata": {},
   "outputs": [],
   "source": [
    "l=\"python\"\n",
    "l1=iter(l)\n"
   ]
  },
  {
   "cell_type": "code",
   "execution_count": 174,
   "id": "ba0c4d3e",
   "metadata": {},
   "outputs": [
    {
     "ename": "SyntaxError",
     "evalue": "invalid syntax (3996493703.py, line 1)",
     "output_type": "error",
     "traceback": [
      "\u001b[1;36m  Input \u001b[1;32mIn [174]\u001b[1;36m\u001b[0m\n\u001b[1;33m    for i in\u001b[0m\n\u001b[1;37m             ^\u001b[0m\n\u001b[1;31mSyntaxError\u001b[0m\u001b[1;31m:\u001b[0m invalid syntax\n"
     ]
    }
   ],
   "source": [
    "for i in "
   ]
  },
  {
   "cell_type": "code",
   "execution_count": null,
   "id": "495c47e2",
   "metadata": {},
   "outputs": [],
   "source": [
    "Todays task :\n",
    "    q1 : Try to print a prime number in between 1 to 1000\n",
    "    q2 : Try to write a function which  is equivalent  to print function in python\n",
    "    q3 : Try to write a function which is a replica of list append , extend and pop function \n",
    "    q4 : Try to write a lambda function which can return a concatination of all the string that we will pass\n",
    "    q5 : Try to write a lambda function which can return list of square of all the data between 1-100 \n",
    "    q6 : Try to write a 10 Different different example of lambda function with a choice of your taks \n",
    "    q7 : Try to wwrite a funtion whihc can perform a read operation from .txt file \n",
    "        \n",
    "        "
   ]
  },
  {
   "cell_type": "code",
   "execution_count": 85,
   "id": "8a9d2977",
   "metadata": {},
   "outputs": [
    {
     "data": {
      "text/plain": [
       "(5, 6, 2, (4, [5, 2]))"
      ]
     },
     "execution_count": 85,
     "metadata": {},
     "output_type": "execute_result"
    }
   ],
   "source": [
    "def test4(a, b, c, *m):\n",
    "  return a, b, c, m\n",
    "\n",
    "test4(5,6,2,4,[5,2])\n",
    "\n"
   ]
  },
  {
   "cell_type": "code",
   "execution_count": 88,
   "id": "49abd649",
   "metadata": {},
   "outputs": [
    {
     "data": {
      "text/plain": [
       "(1, 2, 3)"
      ]
     },
     "execution_count": 88,
     "metadata": {},
     "output_type": "execute_result"
    }
   ],
   "source": [
    "b= lambda *a : a \n",
    "b(1,2,3)"
   ]
  },
  {
   "cell_type": "code",
   "execution_count": 89,
   "id": "46ae7092",
   "metadata": {},
   "outputs": [
    {
     "ename": "TypeError",
     "evalue": "'int' object is not iterable",
     "output_type": "error",
     "traceback": [
      "\u001b[1;31m---------------------------------------------------------------------------\u001b[0m",
      "\u001b[1;31mTypeError\u001b[0m                                 Traceback (most recent call last)",
      "\u001b[1;32m~\\AppData\\Local\\Temp/ipykernel_7960/283666077.py\u001b[0m in \u001b[0;36m<module>\u001b[1;34m\u001b[0m\n\u001b[0;32m      1\u001b[0m \u001b[0mn\u001b[0m\u001b[1;33m=\u001b[0m\u001b[1;36m10\u001b[0m\u001b[1;33m\u001b[0m\u001b[1;33m\u001b[0m\u001b[0m\n\u001b[1;32m----> 2\u001b[1;33m \u001b[1;33m[\u001b[0m\u001b[0mi\u001b[0m \u001b[1;32mfor\u001b[0m \u001b[0mi\u001b[0m \u001b[1;32min\u001b[0m \u001b[0mn\u001b[0m\u001b[1;33m]\u001b[0m\u001b[1;33m\u001b[0m\u001b[1;33m\u001b[0m\u001b[0m\n\u001b[0m",
      "\u001b[1;31mTypeError\u001b[0m: 'int' object is not iterable"
     ]
    }
   ],
   "source": [
    "n=10\n",
    "[i for i in n]\n"
   ]
  },
  {
   "cell_type": "code",
   "execution_count": 92,
   "id": "1b078bae",
   "metadata": {},
   "outputs": [
    {
     "ename": "SyntaxError",
     "evalue": "expression cannot contain assignment, perhaps you meant \"==\"? (Temp/ipykernel_7960/1148533526.py, line 3)",
     "output_type": "error",
     "traceback": [
      "\u001b[1;36m  File \u001b[1;32m\"C:\\Users\\win10\\AppData\\Local\\Temp/ipykernel_7960/1148533526.py\"\u001b[1;36m, line \u001b[1;32m3\u001b[0m\n\u001b[1;33m    test15(a1=1,12=2,13=12)\u001b[0m\n\u001b[1;37m                ^\u001b[0m\n\u001b[1;31mSyntaxError\u001b[0m\u001b[1;31m:\u001b[0m expression cannot contain assignment, perhaps you meant \"==\"?\n"
     ]
    }
   ],
   "source": [
    "def test15(**kwargs):\n",
    "    return list(kwargs.values())\n",
    "test15(a1=1,12=2,13=12)\n"
   ]
  },
  {
   "cell_type": "code",
   "execution_count": 93,
   "id": "1c961733",
   "metadata": {},
   "outputs": [
    {
     "data": {
      "text/plain": [
       "[1, 2, 3, 4]"
      ]
     },
     "execution_count": 93,
     "metadata": {},
     "output_type": "execute_result"
    }
   ],
   "source": [
    "t=(1,2,3,4)\n",
    "[i for i in t]"
   ]
  },
  {
   "cell_type": "code",
   "execution_count": 94,
   "id": "ec423820",
   "metadata": {},
   "outputs": [],
   "source": [
    "l = lambda *x: [i**2 for i in x]"
   ]
  },
  {
   "cell_type": "code",
   "execution_count": 95,
   "id": "253dd7bc",
   "metadata": {},
   "outputs": [
    {
     "data": {
      "text/plain": [
       "[16, 25, 36, 49]"
      ]
     },
     "execution_count": 95,
     "metadata": {},
     "output_type": "execute_result"
    }
   ],
   "source": [
    "l(4,5,6,7)"
   ]
  },
  {
   "cell_type": "code",
   "execution_count": 98,
   "id": "15d4db6a",
   "metadata": {},
   "outputs": [],
   "source": [
    "def test10(*m):\n",
    "    n=1\n",
    "    for i in m:\n",
    "        if type(i) == int :\n",
    "            n=n*i\n",
    "    return n\n"
   ]
  },
  {
   "cell_type": "code",
   "execution_count": 99,
   "id": "3081e626",
   "metadata": {},
   "outputs": [
    {
     "data": {
      "text/plain": [
       "2400"
      ]
     },
     "execution_count": 99,
     "metadata": {},
     "output_type": "execute_result"
    }
   ],
   "source": [
    "test10(4,4,5,5,6)"
   ]
  },
  {
   "cell_type": "code",
   "execution_count": 101,
   "id": "46763bfc",
   "metadata": {},
   "outputs": [
    {
     "data": {
      "text/plain": [
       "[1, 2, 5, [1, 3, 4, 6]]"
      ]
     },
     "execution_count": 101,
     "metadata": {},
     "output_type": "execute_result"
    }
   ],
   "source": [
    "L=[1,2,4,5,[1,3,4,6]]\n",
    "\n",
    "L.pop(2)\n",
    "L\n"
   ]
  },
  {
   "cell_type": "code",
   "execution_count": 103,
   "id": "4f309d28",
   "metadata": {},
   "outputs": [
    {
     "data": {
      "text/plain": [
       "(1, 2, 3)"
      ]
     },
     "execution_count": 103,
     "metadata": {},
     "output_type": "execute_result"
    }
   ],
   "source": [
    "b=lambda *a : a\n",
    "b(1,2,3)"
   ]
  },
  {
   "cell_type": "code",
   "execution_count": 105,
   "id": "ed2d36af",
   "metadata": {},
   "outputs": [
    {
     "data": {
      "text/plain": [
       "(8, 8, 9, 9, 7, 7, 7, 3, 5, 7, 5)"
      ]
     },
     "execution_count": 105,
     "metadata": {},
     "output_type": "execute_result"
    }
   ],
   "source": [
    "def test5(*a,x,y,z):\n",
    "    return *a,x,y,z,\n",
    "test5 (8,8,9,9,7,7,7,3,x=5,y=7,z=5)\n"
   ]
  },
  {
   "cell_type": "code",
   "execution_count": 108,
   "id": "07e180ef",
   "metadata": {},
   "outputs": [
    {
     "data": {
      "text/plain": [
       "'kapeeD'"
      ]
     },
     "execution_count": 108,
     "metadata": {},
     "output_type": "execute_result"
    }
   ],
   "source": [
    "s='Deepak'\n",
    "\n",
    "s[-1::-1]\n"
   ]
  },
  {
   "cell_type": "code",
   "execution_count": 107,
   "id": "954d3347",
   "metadata": {},
   "outputs": [
    {
     "data": {
      "text/plain": [
       "''"
      ]
     },
     "execution_count": 107,
     "metadata": {},
     "output_type": "execute_result"
    }
   ],
   "source": [
    "s[0:6:-1]"
   ]
  },
  {
   "cell_type": "code",
   "execution_count": 109,
   "id": "664a8d12",
   "metadata": {},
   "outputs": [],
   "source": [
    "def aad(a,b):\n",
    "    '''this is my functionde'''\n",
    "    z = a+b\n",
    "    return z\n",
    "    h = a*b\n",
    "    return h\n"
   ]
  },
  {
   "cell_type": "code",
   "execution_count": 110,
   "id": "d7c8092d",
   "metadata": {},
   "outputs": [
    {
     "data": {
      "text/plain": [
       "3"
      ]
     },
     "execution_count": 110,
     "metadata": {},
     "output_type": "execute_result"
    }
   ],
   "source": [
    "aad(1,2)"
   ]
  },
  {
   "cell_type": "code",
   "execution_count": 113,
   "id": "18c2a2d1",
   "metadata": {},
   "outputs": [],
   "source": [
    "def test10(*m , **sm):\n",
    "    return m,sm"
   ]
  },
  {
   "cell_type": "code",
   "execution_count": 114,
   "id": "2427f5b7",
   "metadata": {},
   "outputs": [
    {
     "name": "stdout",
     "output_type": "stream",
     "text": [
      "*jezon\n",
      "aj*zon\n",
      "ajez*n\n"
     ]
    }
   ],
   "source": [
    "s=\"ajezon\"\n",
    "a=0 \n",
    "v='aeiou'\n",
    "while a < len(s):\n",
    "    if s[a] in v :\n",
    "        print(s.replace(s[a] ,\"*\"))\n",
    "    a = a + 1\n"
   ]
  },
  {
   "cell_type": "code",
   "execution_count": 115,
   "id": "8a69dc27",
   "metadata": {},
   "outputs": [
    {
     "ename": "SyntaxError",
     "evalue": "invalid syntax (Temp/ipykernel_7960/2806367668.py, line 1)",
     "output_type": "error",
     "traceback": [
      "\u001b[1;36m  File \u001b[1;32m\"C:\\Users\\win10\\AppData\\Local\\Temp/ipykernel_7960/2806367668.py\"\u001b[1;36m, line \u001b[1;32m1\u001b[0m\n\u001b[1;33m    find_status= lambda a: 'Low' if (a<5000) elif a>=5000 and a<=25000 'Standard' else 'High'\u001b[0m\n\u001b[1;37m                                             ^\u001b[0m\n\u001b[1;31mSyntaxError\u001b[0m\u001b[1;31m:\u001b[0m invalid syntax\n"
     ]
    }
   ],
   "source": [
    "find_status= lambda a: 'Low' if (a<5000) elif a>=5000 and a<=25000 'Standard' else 'High'\n"
   ]
  },
  {
   "cell_type": "code",
   "execution_count": 116,
   "id": "7953aea0",
   "metadata": {},
   "outputs": [
    {
     "name": "stdout",
     "output_type": "stream",
     "text": [
      "ab\n",
      "cd\n",
      "ef\n"
     ]
    }
   ],
   "source": [
    "d={\"ab\":1,'cd':2,'ef':3}\n",
    "\n",
    "for k in d:\n",
    "    print(k)\n"
   ]
  },
  {
   "cell_type": "code",
   "execution_count": null,
   "id": "0c3659ba",
   "metadata": {},
   "outputs": [],
   "source": [
    "# I want to perform multiplication using lambda functions, how can we do it?\n",
    "\n",
    "m=3\n",
    "b = lambda *args : [m=m*i for i in args]\n",
    "\n",
    "b(2,3)\n"
   ]
  },
  {
   "cell_type": "code",
   "execution_count": 118,
   "id": "8310b48a",
   "metadata": {},
   "outputs": [
    {
     "name": "stdout",
     "output_type": "stream",
     "text": [
      "[3, 4, 5, 6, 78]\n",
      "[3, 4, 5, 6, 78]\n"
     ]
    }
   ],
   "source": [
    "t = (3, 4, 5, 6, 78)\n",
    "l = [i for i in t]\n",
    "print(l)\n",
    "ab = list(j for j in l)\n",
    "print(ab)\n"
   ]
  },
  {
   "cell_type": "code",
   "execution_count": 121,
   "id": "98c5383e",
   "metadata": {},
   "outputs": [
    {
     "name": "stdout",
     "output_type": "stream",
     "text": [
      "{'a': 7, 'b': 'Shan', 'c': 345, 'd': 'dd', 'l': [2, 3, 4, 5, 'Su']}\n",
      "dict_values([7, 'Shan', 345, 'dd', [2, 3, 4, 5, 'Su']])\n"
     ]
    },
    {
     "data": {
      "text/plain": [
       "3"
      ]
     },
     "execution_count": 121,
     "metadata": {},
     "output_type": "execute_result"
    }
   ],
   "source": [
    "def test14(**kwargs):\n",
    "    count = 0\n",
    "    print(kwargs)\n",
    "    print(kwargs.values())\n",
    "    for v in kwargs.values():\n",
    "        if type(v)==str:\n",
    "            count+=1\n",
    "        if type(v)==list:\n",
    "            count+=1\n",
    "    return count\n",
    "\n",
    "test14(a=7,b=\"Shan\",c=345,d=\"dd\",l=[2,3,4,5,\"Su\"])\n"
   ]
  },
  {
   "cell_type": "code",
   "execution_count": 124,
   "id": "1721c3a3",
   "metadata": {},
   "outputs": [],
   "source": [
    "def test15(**kwargs):\n",
    "    {i:j for i,j in kwargs.items()}"
   ]
  },
  {
   "cell_type": "code",
   "execution_count": 125,
   "id": "fbafdc31",
   "metadata": {},
   "outputs": [],
   "source": [
    "def test14(**kargs):\n",
    "    count=0\n",
    "    print(kargs.values())\n",
    "    for i in kargs.values():\n",
    "        print(i)\n",
    "        print(type(i) == str)\n",
    "        if type(i) == str:\n",
    "            count=count+1\n",
    "        if type(i) == list:\n",
    "            for j in i:\n",
    "                if type(j) == str:\n",
    "                    count=count+1\n",
    "    return count\n"
   ]
  },
  {
   "cell_type": "code",
   "execution_count": 126,
   "id": "572273ce",
   "metadata": {},
   "outputs": [
    {
     "data": {
      "text/plain": [
       "2"
      ]
     },
     "execution_count": 126,
     "metadata": {},
     "output_type": "execute_result"
    }
   ],
   "source": [
    "def func(**kwargs):\n",
    "    count = 0\n",
    "    for e in kwargs.values():\n",
    "        if type(e) == list:\n",
    "            for ele in  e:\n",
    "                if type(ele) == str:\n",
    "                    count += 1\n",
    "    return count\n",
    "func(v1 = 2,v2 = 3,v3=4, v4=5,name=\"Mohamed\", data=[\"ineuron\", \"MLDL\", 2021])"
   ]
  },
  {
   "cell_type": "code",
   "execution_count": 127,
   "id": "4079e449",
   "metadata": {},
   "outputs": [
    {
     "data": {
      "text/plain": [
       "[4, 6, 8, 10]"
      ]
     },
     "execution_count": 127,
     "metadata": {},
     "output_type": "execute_result"
    }
   ],
   "source": [
    "l= lambda *x : [i*2 for i in x]\n",
    "l(2,3,4,5)\n"
   ]
  },
  {
   "cell_type": "code",
   "execution_count": 128,
   "id": "3fe9d4a7",
   "metadata": {},
   "outputs": [
    {
     "data": {
      "text/plain": [
       "2"
      ]
     },
     "execution_count": 128,
     "metadata": {},
     "output_type": "execute_result"
    }
   ],
   "source": [
    "def func(**kwargs):\n",
    "    count = 0\n",
    "    for e in kwargs.values():\n",
    "        if type(e) == list:\n",
    "            for ele in  e:\n",
    "                if type(ele) == str:\n",
    "                    count += 1\n",
    "    return count\n",
    "func(v1 = 2,v2 = 3,v3=4, v4=5,name=\"Mohamed\", data=[\"ineuron\", \"MLDL\", 2021])\n"
   ]
  },
  {
   "cell_type": "code",
   "execution_count": 130,
   "id": "3fe865b7",
   "metadata": {},
   "outputs": [],
   "source": [
    "def test15(**kwargs):\n",
    "    return list(kwargs.values())\n"
   ]
  },
  {
   "cell_type": "code",
   "execution_count": 131,
   "id": "6d6bc8d8",
   "metadata": {},
   "outputs": [
    {
     "data": {
      "text/plain": [
       "[7, 'Abhi', 345, 'Abhi', [2, 3, 45, 'Abhi']]"
      ]
     },
     "execution_count": 131,
     "metadata": {},
     "output_type": "execute_result"
    }
   ],
   "source": [
    "test15(a=7,b='Abhi',c=345,d='Abhi',l=[2,3,45,'Abhi'])"
   ]
  },
  {
   "cell_type": "code",
   "execution_count": 132,
   "id": "b69711d3",
   "metadata": {},
   "outputs": [
    {
     "name": "stdout",
     "output_type": "stream",
     "text": [
      "    \n",
      "\n",
      "  pawan   \n",
      "\n",
      " pawan  pawan   \n",
      "\n",
      "pawan  pawan  pawan   \n",
      "\n"
     ]
    }
   ],
   "source": [
    "n=3\n",
    "for i in range(n+1):\n",
    "    print(\" \"* (n-i) + 'pawan  '*i,\"\\n\")\n"
   ]
  },
  {
   "cell_type": "code",
   "execution_count": 138,
   "id": "39d1ff7a",
   "metadata": {},
   "outputs": [
    {
     "name": "stdout",
     "output_type": "stream",
     "text": [
      "k1\n",
      "k1\n",
      "k2\n",
      "k2\n",
      "k3\n",
      "k3\n",
      "sudh\n",
      "sudh\n",
      "ineuron\n",
      "ineuron\n",
      "kumar\n",
      "kumar\n",
      "ineuron\n",
      "ineuron\n",
      "data science\n"
     ]
    }
   ],
   "source": [
    "data = [1,\n",
    " 2,\n",
    " 3,\n",
    " 4,\n",
    " 2,\n",
    " 3,\n",
    " 4,\n",
    " 5,\n",
    " 6,\n",
    " 3,\n",
    " 4,\n",
    " 5,\n",
    " 6,\n",
    " 7,\n",
    " 45,\n",
    " 4,\n",
    " 5,\n",
    " 23,\n",
    " 'k1',\n",
    " 'k2',\n",
    " 'k3',\n",
    " 3,\n",
    " 7,\n",
    " 'sudh',\n",
    " 'ineuron',\n",
    " 'kumar',\n",
    " 6,\n",
    " 8,\n",
    " 'ineuron',\n",
    " 'data science']\n",
    "\n",
    "for i in data:\n",
    "    \n",
    "    if type(i) == str:\n",
    "        print(i)\n",
    "        if i.isalnum(): \n",
    "            print(i)\n"
   ]
  },
  {
   "cell_type": "code",
   "execution_count": 139,
   "id": "20833d25",
   "metadata": {},
   "outputs": [
    {
     "data": {
      "text/plain": [
       "(45, 5, 4, 5, 5, 6, 677)"
      ]
     },
     "execution_count": 139,
     "metadata": {},
     "output_type": "execute_result"
    }
   ],
   "source": [
    "b=lambda *sudh : sudh\n",
    "b(45,5,4,5,5,6,677)\n"
   ]
  },
  {
   "cell_type": "code",
   "execution_count": null,
   "id": "35ecbb5a",
   "metadata": {},
   "outputs": [],
   "source": [
    "def test11(*m):\n",
    "    n=1\n",
    "    for i in m:\n",
    "        if type(i)==int:\n",
    "            n=n*i\n",
    "        return n\n"
   ]
  },
  {
   "cell_type": "code",
   "execution_count": 142,
   "id": "a70fc8f8",
   "metadata": {},
   "outputs": [],
   "source": [
    "def test13(**kwargs):\n",
    "    count = 0\n",
    "    for i in kwargs.values():\n",
    "        if type(i) == str or type(i) == list: \n",
    "            for j in i:\n",
    "                count += 1\n",
    "        return count"
   ]
  },
  {
   "cell_type": "code",
   "execution_count": 145,
   "id": "382ffdde",
   "metadata": {},
   "outputs": [],
   "source": [
    "def test15(**s):\n",
    "    return {i:j for i,j in s.items()}\n"
   ]
  },
  {
   "cell_type": "code",
   "execution_count": 146,
   "id": "b5c84313",
   "metadata": {},
   "outputs": [
    {
     "data": {
      "text/plain": [
       "{'a': 1, 'b': 5, 'n': 4}"
      ]
     },
     "execution_count": 146,
     "metadata": {},
     "output_type": "execute_result"
    }
   ],
   "source": [
    "test15(a = 1 , b  = 5 , n = 4 )"
   ]
  },
  {
   "cell_type": "code",
   "execution_count": null,
   "id": "26a132d5",
   "metadata": {},
   "outputs": [],
   "source": []
  }
 ],
 "metadata": {
  "kernelspec": {
   "display_name": "Python 3 (ipykernel)",
   "language": "python",
   "name": "python3"
  },
  "language_info": {
   "codemirror_mode": {
    "name": "ipython",
    "version": 3
   },
   "file_extension": ".py",
   "mimetype": "text/x-python",
   "name": "python",
   "nbconvert_exporter": "python",
   "pygments_lexer": "ipython3",
   "version": "3.9.12"
  }
 },
 "nbformat": 4,
 "nbformat_minor": 5
}
